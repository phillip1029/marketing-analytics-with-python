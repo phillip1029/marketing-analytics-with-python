{
 "cells": [
  {
   "cell_type": "markdown",
   "metadata": {},
   "source": [
    "# Chapter 3 Feature Engineering for Marketing Data\n",
    "\n",
    "In the previous chapter, we learned how to preprocess and explore our marketing data using Python libraries like Pandas, Matplotlib, and Seaborn. Now, we'll dive into feature engineering, a crucial step in the data science workflow that involves creating new and informative features from existing data to improve the predictive power of our models.\n",
    "\n",
    "Feature engineering is particularly important in marketing analytics, as it helps us capture more complex patterns and relationships in customer behavior and market trends. In this chapter, we'll explore various techniques for creating new features using Python and apply them to our Online Retail dataset.\n",
    "\n",
    "### 3.1 Recency, Frequency, and Monetary (RFM) Analysis\n",
    "One of the most common feature engineering techniques in marketing is Recency, Frequency, and Monetary (RFM) analysis. RFM analysis segments customers based on three key metrics:\n",
    "\n",
    "- Recency: How recently a customer made a purchase\n",
    "- Frequency: How often a customer makes purchases\n",
    "- Monetary: How much a customer spends\n",
    "\n",
    "Let's calculate RFM metrics for our Online Retail dataset using Python:"
   ]
  },
  {
   "cell_type": "code",
   "execution_count": 5,
   "metadata": {},
   "outputs": [
    {
     "data": {
      "text/html": [
       "<div>\n",
       "<style scoped>\n",
       "    .dataframe tbody tr th:only-of-type {\n",
       "        vertical-align: middle;\n",
       "    }\n",
       "\n",
       "    .dataframe tbody tr th {\n",
       "        vertical-align: top;\n",
       "    }\n",
       "\n",
       "    .dataframe thead th {\n",
       "        text-align: right;\n",
       "    }\n",
       "</style>\n",
       "<table border=\"1\" class=\"dataframe\">\n",
       "  <thead>\n",
       "    <tr style=\"text-align: right;\">\n",
       "      <th></th>\n",
       "      <th>Invoice</th>\n",
       "      <th>StockCode</th>\n",
       "      <th>Description</th>\n",
       "      <th>Quantity</th>\n",
       "      <th>InvoiceDate</th>\n",
       "      <th>Price</th>\n",
       "      <th>Customer ID</th>\n",
       "      <th>Country</th>\n",
       "      <th>Amount</th>\n",
       "    </tr>\n",
       "  </thead>\n",
       "  <tbody>\n",
       "    <tr>\n",
       "      <th>0</th>\n",
       "      <td>489434</td>\n",
       "      <td>85048</td>\n",
       "      <td>15CM CHRISTMAS GLASS BALL 20 LIGHTS</td>\n",
       "      <td>12</td>\n",
       "      <td>2009-12-01 07:45:00</td>\n",
       "      <td>6.95</td>\n",
       "      <td>13085.0</td>\n",
       "      <td>United Kingdom</td>\n",
       "      <td>83.4</td>\n",
       "    </tr>\n",
       "    <tr>\n",
       "      <th>1</th>\n",
       "      <td>489434</td>\n",
       "      <td>79323P</td>\n",
       "      <td>PINK CHERRY LIGHTS</td>\n",
       "      <td>12</td>\n",
       "      <td>2009-12-01 07:45:00</td>\n",
       "      <td>6.75</td>\n",
       "      <td>13085.0</td>\n",
       "      <td>United Kingdom</td>\n",
       "      <td>81.0</td>\n",
       "    </tr>\n",
       "    <tr>\n",
       "      <th>2</th>\n",
       "      <td>489434</td>\n",
       "      <td>79323W</td>\n",
       "      <td>WHITE CHERRY LIGHTS</td>\n",
       "      <td>12</td>\n",
       "      <td>2009-12-01 07:45:00</td>\n",
       "      <td>6.75</td>\n",
       "      <td>13085.0</td>\n",
       "      <td>United Kingdom</td>\n",
       "      <td>81.0</td>\n",
       "    </tr>\n",
       "    <tr>\n",
       "      <th>3</th>\n",
       "      <td>489434</td>\n",
       "      <td>22041</td>\n",
       "      <td>RECORD FRAME 7\" SINGLE SIZE</td>\n",
       "      <td>48</td>\n",
       "      <td>2009-12-01 07:45:00</td>\n",
       "      <td>2.10</td>\n",
       "      <td>13085.0</td>\n",
       "      <td>United Kingdom</td>\n",
       "      <td>100.8</td>\n",
       "    </tr>\n",
       "    <tr>\n",
       "      <th>4</th>\n",
       "      <td>489434</td>\n",
       "      <td>21232</td>\n",
       "      <td>STRAWBERRY CERAMIC TRINKET BOX</td>\n",
       "      <td>24</td>\n",
       "      <td>2009-12-01 07:45:00</td>\n",
       "      <td>1.25</td>\n",
       "      <td>13085.0</td>\n",
       "      <td>United Kingdom</td>\n",
       "      <td>30.0</td>\n",
       "    </tr>\n",
       "  </tbody>\n",
       "</table>\n",
       "</div>"
      ],
      "text/plain": [
       "  Invoice StockCode                          Description  Quantity  \\\n",
       "0  489434     85048  15CM CHRISTMAS GLASS BALL 20 LIGHTS        12   \n",
       "1  489434    79323P                   PINK CHERRY LIGHTS        12   \n",
       "2  489434    79323W                  WHITE CHERRY LIGHTS        12   \n",
       "3  489434     22041         RECORD FRAME 7\" SINGLE SIZE         48   \n",
       "4  489434     21232       STRAWBERRY CERAMIC TRINKET BOX        24   \n",
       "\n",
       "          InvoiceDate  Price  Customer ID         Country  Amount  \n",
       "0 2009-12-01 07:45:00   6.95      13085.0  United Kingdom    83.4  \n",
       "1 2009-12-01 07:45:00   6.75      13085.0  United Kingdom    81.0  \n",
       "2 2009-12-01 07:45:00   6.75      13085.0  United Kingdom    81.0  \n",
       "3 2009-12-01 07:45:00   2.10      13085.0  United Kingdom   100.8  \n",
       "4 2009-12-01 07:45:00   1.25      13085.0  United Kingdom    30.0  "
      ]
     },
     "execution_count": 5,
     "metadata": {},
     "output_type": "execute_result"
    }
   ],
   "source": [
    "import pandas as pd\n",
    "\n",
    "# read the csv file into a pandas dataframe \n",
    "df = pd.read_csv('data\\online_retail.csv')\n",
    "df['Amount'] = df['Quantity'] * df['Price']\n",
    "df['InvoiceDate'] = pd.to_datetime(df['InvoiceDate'])\n",
    "df.head()"
   ]
  },
  {
   "cell_type": "code",
   "execution_count": 8,
   "metadata": {},
   "outputs": [],
   "source": [
    "import pandas as pd\n",
    "from datetime import datetime\n",
    "\n",
    "# Calculate the maximum InvoiceDate for each customer\n",
    "max_date = df.groupby('Customer ID')['InvoiceDate'].max()\n",
    "\n",
    "# Calculate Recency, Frequency, and Monetary metrics\n",
    "rfm = df.groupby('Customer ID').agg({\n",
    "    'InvoiceDate': lambda x: (datetime(2011, 12, 10) - x.max()).days,\n",
    "    'Invoice': 'nunique',\n",
    "    'Amount': 'sum'\n",
    "})\n",
    "\n",
    "# Rename columns\n",
    "rfm.columns = ['Recency', 'Frequency', 'Monetary']\n",
    "\n",
    "# Assign quintile ranks to each metric\n",
    "rfm['R_rank'] = pd.qcut(rfm['Recency'], 5, labels=False, duplicates='drop')\n",
    "rfm['F_rank'] = pd.qcut(rfm['Frequency'], 5, labels=False, duplicates='drop')\n",
    "rfm['M_rank'] = pd.qcut(rfm['Monetary'], 5, labels=False, duplicates='drop')\n",
    "\n",
    "# Add 1 to the ranks to start ranking from 1 instead of 0\n",
    "rfm['R_rank'] += 1\n",
    "rfm['F_rank'] += 1\n",
    "rfm['M_rank'] += 1\n",
    "\n",
    "# Combine R, F, and M ranks into a single RFM score\n",
    "rfm['RFM_score'] = rfm['R_rank'].astype(str) + rfm['F_rank'].astype(str) + rfm['M_rank'].astype(str)"
   ]
  },
  {
   "cell_type": "code",
   "execution_count": 9,
   "metadata": {},
   "outputs": [
    {
     "data": {
      "text/html": [
       "<div>\n",
       "<style scoped>\n",
       "    .dataframe tbody tr th:only-of-type {\n",
       "        vertical-align: middle;\n",
       "    }\n",
       "\n",
       "    .dataframe tbody tr th {\n",
       "        vertical-align: top;\n",
       "    }\n",
       "\n",
       "    .dataframe thead th {\n",
       "        text-align: right;\n",
       "    }\n",
       "</style>\n",
       "<table border=\"1\" class=\"dataframe\">\n",
       "  <thead>\n",
       "    <tr style=\"text-align: right;\">\n",
       "      <th></th>\n",
       "      <th>Recency</th>\n",
       "      <th>Frequency</th>\n",
       "      <th>Monetary</th>\n",
       "      <th>R_rank</th>\n",
       "      <th>F_rank</th>\n",
       "      <th>M_rank</th>\n",
       "      <th>RFM_score</th>\n",
       "    </tr>\n",
       "    <tr>\n",
       "      <th>Customer ID</th>\n",
       "      <th></th>\n",
       "      <th></th>\n",
       "      <th></th>\n",
       "      <th></th>\n",
       "      <th></th>\n",
       "      <th></th>\n",
       "      <th></th>\n",
       "    </tr>\n",
       "  </thead>\n",
       "  <tbody>\n",
       "    <tr>\n",
       "      <th>12346.0</th>\n",
       "      <td>325</td>\n",
       "      <td>17</td>\n",
       "      <td>-64.68</td>\n",
       "      <td>4</td>\n",
       "      <td>4</td>\n",
       "      <td>1</td>\n",
       "      <td>441</td>\n",
       "    </tr>\n",
       "    <tr>\n",
       "      <th>12347.0</th>\n",
       "      <td>2</td>\n",
       "      <td>8</td>\n",
       "      <td>5633.32</td>\n",
       "      <td>1</td>\n",
       "      <td>3</td>\n",
       "      <td>5</td>\n",
       "      <td>135</td>\n",
       "    </tr>\n",
       "    <tr>\n",
       "      <th>12348.0</th>\n",
       "      <td>75</td>\n",
       "      <td>5</td>\n",
       "      <td>2019.40</td>\n",
       "      <td>3</td>\n",
       "      <td>2</td>\n",
       "      <td>4</td>\n",
       "      <td>324</td>\n",
       "    </tr>\n",
       "    <tr>\n",
       "      <th>12349.0</th>\n",
       "      <td>18</td>\n",
       "      <td>5</td>\n",
       "      <td>4404.54</td>\n",
       "      <td>1</td>\n",
       "      <td>2</td>\n",
       "      <td>5</td>\n",
       "      <td>125</td>\n",
       "    </tr>\n",
       "    <tr>\n",
       "      <th>12350.0</th>\n",
       "      <td>310</td>\n",
       "      <td>1</td>\n",
       "      <td>334.40</td>\n",
       "      <td>4</td>\n",
       "      <td>1</td>\n",
       "      <td>2</td>\n",
       "      <td>412</td>\n",
       "    </tr>\n",
       "  </tbody>\n",
       "</table>\n",
       "</div>"
      ],
      "text/plain": [
       "             Recency  Frequency  Monetary  R_rank  F_rank  M_rank RFM_score\n",
       "Customer ID                                                                \n",
       "12346.0          325         17    -64.68       4       4       1       441\n",
       "12347.0            2          8   5633.32       1       3       5       135\n",
       "12348.0           75          5   2019.40       3       2       4       324\n",
       "12349.0           18          5   4404.54       1       2       5       125\n",
       "12350.0          310          1    334.40       4       1       2       412"
      ]
     },
     "execution_count": 9,
     "metadata": {},
     "output_type": "execute_result"
    }
   ],
   "source": [
    "rfm.head()"
   ]
  },
  {
   "cell_type": "markdown",
   "metadata": {},
   "source": [
    "In this code snippet, we first calculate the maximum InvoiceDate for each customer. Then, we calculate the Recency, Frequency, and Monetary metrics using the groupby() and agg() functions. We assign quintile ranks to each metric using pd.qcut() and combine the ranks into a single RFM score.\n",
    "\n",
    "The resulting RFM score can be used to segment customers and tailor marketing strategies accordingly. For example, customers with high RFM scores (e.g., 555) are likely to be high-value customers who have made recent, frequent, and high-value purchases.\n"
   ]
  },
  {
   "cell_type": "markdown",
   "metadata": {},
   "source": [
    "By calculating RFM metrics for the Online Retail dataset, we can segment our customers based on their purchasing behavior and create targeted marketing campaigns. For example, we might offer incentives to customers in the lowest recency quintiles (Q1 or Q2) to encourage them to make a purchase. Similarly, we might target customers in the highest monetary quintiles (Q4 or Q5) with high-value products or services.\n",
    "\n",
    "Now that we've calculated RFM metrics for our dataset, let's move on to other feature engineering techniques for marketing data."
   ]
  },
  {
   "cell_type": "markdown",
   "metadata": {},
   "source": [
    "\n",
    "## 3.2 Time-based Features\n",
    "\n",
    "Time-based features can provide valuable insights into customer behavior over time. For example, we might want to understand how a customer's purchasing behavior changes throughout the year or the impact of a marketing campaign on sales over time.\n",
    "\n",
    "To create time-based features for our Online Retail dataset, we might use techniques such as:\n",
    "\n",
    "* Rolling averages and moving averages to capture trends in customer behavior over time\n",
    "* Lagged features to capture the impact of previous purchases or events on current behavior\n",
    "* Year, month, day, and hour-of-the-day features to capture seasonality or time-specific patterns\n",
    "\n",
    "Let's create time-based features for our Online Retail dataset:"
   ]
  },
  {
   "cell_type": "code",
   "execution_count": 11,
   "metadata": {},
   "outputs": [],
   "source": [
    "# Extract time-based features from InvoiceDate\n",
    "df['InvoiceYear'] = df['InvoiceDate'].dt.year\n",
    "df['InvoiceMonth'] = df['InvoiceDate'].dt.month\n",
    "df['InvoiceDay'] = df['InvoiceDate'].dt.day\n",
    "df['InvoiceDayOfWeek'] = df['InvoiceDate'].dt.dayofweek\n",
    "df['InvoiceHour'] = df['InvoiceDate'].dt.hour\n",
    "\n",
    "# Calculate the time since last purchase for each customer\n",
    "df['TimeSinceLastPurchase'] = df.groupby('Customer ID')['InvoiceDate'].diff()\n",
    "df['TimeSinceLastPurchase'] = df['TimeSinceLastPurchase'].dt.days\n",
    "\n",
    "# Calculate the time between first and last purchase for each customer\n",
    "first_purchase = df.groupby('Customer ID')['InvoiceDate'].min()\n",
    "last_purchase = df.groupby('Customer ID')['InvoiceDate'].max()\n",
    "df['CustomerLifetime'] = (last_purchase - first_purchase).dt.days\n",
    "\n"
   ]
  },
  {
   "cell_type": "code",
   "execution_count": null,
   "metadata": {},
   "outputs": [],
   "source": [
    "# Convert the InvoiceDate column to datetime type\n",
    "df['InvoiceDate'] = pd.to_datetime(df['InvoiceDate'])\n",
    "\n",
    "# Set the index of the dfFrame to InvoiceDate\n",
    "df.set_index('InvoiceDate', inplace=True)\n",
    "\n",
    "# Create a rolling average of sales for each customer over the last 30 days\n",
    "customer_sales = df.groupby('CustomerID')['Amount'].rolling(30).mean()\n",
    "customer_sales.head(10)\n"
   ]
  },
  {
   "cell_type": "code",
   "execution_count": null,
   "metadata": {},
   "outputs": [],
   "source": [
    "\n",
    "# Create lagged features for each customer's total sales and number of orders\n",
    "customer_df = df.groupby('CustomerID').agg({'Amount': 'sum', 'Invoice': 'nunique'}).reset_index()\n",
    "customer_df['LaggedAmount'] = customer_df['Amount'].shift(1)\n",
    "customer_df['LaggedInvoiceNo'] = customer_df['Invoice'].shift(1)\n",
    "\n",
    "# Create year, month, day, and hour-of-the-day features\n",
    "customer_df['Year'] = df['InvoiceDate'].dt.year\n",
    "customer_df['Month'] = df['InvoiceDate'].dt.month\n",
    "customer_df['Day'] = df['InvoiceDate'].dt.day\n",
    "customer_df['DayOfWeek'] = df['InvoiceDate'].dt.dayofweek\n",
    "customer_df['Hour'] = df['InvoiceDate'].dt.hour"
   ]
  },
  {
   "cell_type": "markdown",
   "metadata": {},
   "source": [
    "Holiday Features"
   ]
  },
  {
   "cell_type": "code",
   "execution_count": null,
   "metadata": {},
   "outputs": [],
   "source": [
    "import pandas as pd\n",
    "import holidays\n",
    "\n",
    "# Assume 'data' is our preprocessed Online Retail dataset\n",
    "\n",
    "# Create a holiday object for the United Kingdom\n",
    "us_holidays = holidays.US()  # this is a dict\n",
    "\n",
    "# Create a feature indicating if a transaction occurred on a holiday\n",
    "df['Holiday'] = df['InvoiceDate'].apply(lambda x: x.date() in us_holidays)\n",
    "\n",
    "# Create a feature indicating the name of the holiday (if applicable)\n",
    "df['HolidayName'] = df['InvoiceDate'].apply(lambda x: uk_holidays.get(x.date()))\n",
    "\n",
    "# Create a feature indicating if a transaction occurred on a weekend\n",
    "df['Weekend'] = df['InvoiceDate'].dt.dayofweek.isin([5, 6])\n",
    "\n",
    "# Calculate the total sales on holidays and weekends for each customer\n",
    "df['HolidaySales'] = df.groupby(['CustomerID', 'Holiday'])['Amount'].transform('sum')\n",
    "df['WeekendSales'] = df.groupby(['CustomerID', 'Weekend'])['Amount'].transform('sum')"
   ]
  },
  {
   "cell_type": "markdown",
   "metadata": {},
   "source": [
    "In this example, we extract various time-based features from the InvoiceDate column, such as the year, month, day, day of the week, and hour of each transaction. We also calculate the time since the last purchase for each customer using the diff() function and the time between the first and last purchase (customer lifetime) using the min() and max() functions.\n",
    "\n",
    "These time-based features can provide valuable insights into customer purchasing patterns and help us create more targeted marketing campaigns.\n",
    "\n",
    "## 3.3 Product-based Features\n",
    "Product-based features capture information about the products customers purchase and their characteristics. Let's create some product-based features for our Online Retail dataset:"
   ]
  },
  {
   "cell_type": "code",
   "execution_count": 13,
   "metadata": {},
   "outputs": [],
   "source": [
    "# Calculate the total number of unique products purchased by each customer\n",
    "df['NumUniqueProduts'] = df.groupby('Customer ID')['StockCode'].nunique()\n",
    " \n",
    "# Calculate the average unit price of products purchased by each customer\n",
    "df['AvgUnitPrice'] = df.groupby('Customer ID')['Price'].mean()\n",
    "\n",
    "# Calculate the total quantity of products purchased by each customer\n",
    "df['TotalQuantity'] = df.groupby('Customer ID')['Quantity'].sum()\n",
    "\n",
    "# Calculate the average quantity per transaction for each customer\n",
    "df['AvgQuantityPerTransaction'] = df.groupby('Customer ID')['Quantity'].mean()"
   ]
  },
  {
   "cell_type": "markdown",
   "metadata": {},
   "source": [
    "In this code snippet, we calculate various product-based features such as the total number of unique products purchased by each customer, the average unit price of products purchased, the total quantity of products purchased, and the average quantity per transaction.\n",
    "\n",
    "These features can help us understand customer preferences and purchasing habits, which can inform product recommendations, cross-selling, and upselling strategies.\n"
   ]
  },
  {
   "cell_type": "markdown",
   "metadata": {},
   "source": [
    "## 3.4 Engineering Interaction Features \n",
    "\n",
    "Interaction features capture the relationship between two or more variables in our dataset. For example, we might want to understand how the relationship between a customer's total sales and the number of orders they place impacts their overall value to the business.\n",
    "\n",
    "To create interaction features for our Online Retail dataset, we can use techniques such as:\n",
    "\n",
    "* Multiplying or dividing features to create new features that capture the relationship between them\n",
    "* Polynomial features to capture more complex relationships between variables\n",
    "\n",
    "Let's create interaction features for our Online Retail dataset:\n"
   ]
  },
  {
   "cell_type": "code",
   "execution_count": null,
   "metadata": {},
   "outputs": [],
   "source": [
    "# Create an interaction feature between total sales and the number of orders\n",
    "customer_df['SalesPerOrder'] = customer_df['Amount'] / customer_df['Invoice']\n",
    "\n",
    "# Use polynomial features to capture more complex relationships between variables\n",
    "from sklearn.preprocessing import PolynomialFeatures\n",
    "\n",
    "poly = PolynomialFeatures()\n",
    "poly_features = pd.DataFrame(poly.fit_transform(customer_df[['LaggedAmount', 'LaggedInvoiceNo']]))\n",
    "poly_features.columns = ['LaggedAmount^2', 'LaggedAmount * LaggedInvoiceNo', 'LaggedInvoiceNo^2']\n",
    "customer_df = pd.concat([customer_df, poly_features], axis=1)"
   ]
  },
  {
   "cell_type": "markdown",
   "metadata": {},
   "source": [
    "By creating interaction features for our Online Retail dataset, we can capture more complex patterns and relationships in customer behavior and market trends."
   ]
  },
  {
   "cell_type": "markdown",
   "metadata": {},
   "source": [
    "\n",
    "## 3.4 Conclusion\n",
    "In this chapter, we explored feature engineering techniques for marketing data using Python. We created new features based on RFM analysis, time-based patterns, and product characteristics to capture more complex relationships in our data.\n",
    "\n",
    "Feature engineering is an iterative process that requires domain knowledge, creativity, and experimentation. By creating informative and relevant features, we can improve the performance of our marketing analytics models and gain deeper insights into customer behavior.\n",
    "\n",
    "In the next chapter, we'll dive into predictive analytics and learn how to build machine learning models for marketing tasks such as customer segmentation, churn prediction, and sales forecasting."
   ]
  },
  {
   "cell_type": "code",
   "execution_count": null,
   "metadata": {},
   "outputs": [],
   "source": []
  }
 ],
 "metadata": {
  "kernelspec": {
   "display_name": "Python 3",
   "language": "python",
   "name": "python3"
  },
  "language_info": {
   "codemirror_mode": {
    "name": "ipython",
    "version": 3
   },
   "file_extension": ".py",
   "mimetype": "text/x-python",
   "name": "python",
   "nbconvert_exporter": "python",
   "pygments_lexer": "ipython3",
   "version": "3.7.16"
  },
  "widgets": {
   "application/vnd.jupyter.widget-state+json": {
    "state": {},
    "version_major": 2,
    "version_minor": 0
   }
  }
 },
 "nbformat": 4,
 "nbformat_minor": 4
}
