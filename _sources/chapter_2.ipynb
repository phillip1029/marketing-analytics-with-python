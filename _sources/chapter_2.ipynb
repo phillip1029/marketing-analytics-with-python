{
 "cells": [
  {
   "cell_type": "markdown",
   "metadata": {},
   "source": [
    "# Chapter 2 Data Preprocessing and Exploratory Data Analysis \n",
    "\n",
    "In this chapter, we'll dive into the essential steps of data preprocessing and exploratory data analysis (EDA) using Python. We'll use a common dataset 'Online Retail dataset' which is included in the Python package 'ucimlrepo' to demonstrate how to clean, preprocess, and explore marketing data using popular Python libraries like Pandas, Matplotlib, and Seaborn. After that, we will introduce several Python packages for streamlined EDA, which include Data Wrangler, and SweetViz. \n",
    "\n",
    "## 2.1 Data Cleaning and Preprocessing with Pandas\n",
    "Before we can analyze our marketing data, we need to ensure that it's clean, consistent, and in a suitable format. Pandas, a powerful data manipulation library in Python, provides various functions and methods to clean and preprocess data efficiently.\n",
    "\n",
    "Let's start by loading the Online Retail dataset and performing some basic data cleaning steps:"
   ]
  },
  {
   "cell_type": "code",
   "execution_count": 2,
   "metadata": {},
   "outputs": [
    {
     "data": {
      "text/html": [
       "<div>\n",
       "<style scoped>\n",
       "    .dataframe tbody tr th:only-of-type {\n",
       "        vertical-align: middle;\n",
       "    }\n",
       "\n",
       "    .dataframe tbody tr th {\n",
       "        vertical-align: top;\n",
       "    }\n",
       "\n",
       "    .dataframe thead th {\n",
       "        text-align: right;\n",
       "    }\n",
       "</style>\n",
       "<table border=\"1\" class=\"dataframe\">\n",
       "  <thead>\n",
       "    <tr style=\"text-align: right;\">\n",
       "      <th></th>\n",
       "      <th>Invoice</th>\n",
       "      <th>StockCode</th>\n",
       "      <th>Description</th>\n",
       "      <th>Quantity</th>\n",
       "      <th>InvoiceDate</th>\n",
       "      <th>Price</th>\n",
       "      <th>Customer ID</th>\n",
       "      <th>Country</th>\n",
       "    </tr>\n",
       "  </thead>\n",
       "  <tbody>\n",
       "    <tr>\n",
       "      <th>0</th>\n",
       "      <td>489434</td>\n",
       "      <td>85048</td>\n",
       "      <td>15CM CHRISTMAS GLASS BALL 20 LIGHTS</td>\n",
       "      <td>12</td>\n",
       "      <td>2009-12-01 07:45:00</td>\n",
       "      <td>6.95</td>\n",
       "      <td>13085.0</td>\n",
       "      <td>United Kingdom</td>\n",
       "    </tr>\n",
       "    <tr>\n",
       "      <th>1</th>\n",
       "      <td>489434</td>\n",
       "      <td>79323P</td>\n",
       "      <td>PINK CHERRY LIGHTS</td>\n",
       "      <td>12</td>\n",
       "      <td>2009-12-01 07:45:00</td>\n",
       "      <td>6.75</td>\n",
       "      <td>13085.0</td>\n",
       "      <td>United Kingdom</td>\n",
       "    </tr>\n",
       "    <tr>\n",
       "      <th>2</th>\n",
       "      <td>489434</td>\n",
       "      <td>79323W</td>\n",
       "      <td>WHITE CHERRY LIGHTS</td>\n",
       "      <td>12</td>\n",
       "      <td>2009-12-01 07:45:00</td>\n",
       "      <td>6.75</td>\n",
       "      <td>13085.0</td>\n",
       "      <td>United Kingdom</td>\n",
       "    </tr>\n",
       "    <tr>\n",
       "      <th>3</th>\n",
       "      <td>489434</td>\n",
       "      <td>22041</td>\n",
       "      <td>RECORD FRAME 7\" SINGLE SIZE</td>\n",
       "      <td>48</td>\n",
       "      <td>2009-12-01 07:45:00</td>\n",
       "      <td>2.10</td>\n",
       "      <td>13085.0</td>\n",
       "      <td>United Kingdom</td>\n",
       "    </tr>\n",
       "    <tr>\n",
       "      <th>4</th>\n",
       "      <td>489434</td>\n",
       "      <td>21232</td>\n",
       "      <td>STRAWBERRY CERAMIC TRINKET BOX</td>\n",
       "      <td>24</td>\n",
       "      <td>2009-12-01 07:45:00</td>\n",
       "      <td>1.25</td>\n",
       "      <td>13085.0</td>\n",
       "      <td>United Kingdom</td>\n",
       "    </tr>\n",
       "  </tbody>\n",
       "</table>\n",
       "</div>"
      ],
      "text/plain": [
       "  Invoice StockCode                          Description  Quantity  \\\n",
       "0  489434     85048  15CM CHRISTMAS GLASS BALL 20 LIGHTS        12   \n",
       "1  489434    79323P                   PINK CHERRY LIGHTS        12   \n",
       "2  489434    79323W                  WHITE CHERRY LIGHTS        12   \n",
       "3  489434     22041         RECORD FRAME 7\" SINGLE SIZE         48   \n",
       "4  489434     21232       STRAWBERRY CERAMIC TRINKET BOX        24   \n",
       "\n",
       "           InvoiceDate  Price  Customer ID         Country  \n",
       "0  2009-12-01 07:45:00   6.95      13085.0  United Kingdom  \n",
       "1  2009-12-01 07:45:00   6.75      13085.0  United Kingdom  \n",
       "2  2009-12-01 07:45:00   6.75      13085.0  United Kingdom  \n",
       "3  2009-12-01 07:45:00   2.10      13085.0  United Kingdom  \n",
       "4  2009-12-01 07:45:00   1.25      13085.0  United Kingdom  "
      ]
     },
     "execution_count": 2,
     "metadata": {},
     "output_type": "execute_result"
    }
   ],
   "source": [
    "import pandas as pd\n",
    "\n",
    "# read the csv file into a pandas dataframe \n",
    "df = pd.read_csv('data\\online_retail.csv')\n",
    "df.head()"
   ]
  },
  {
   "cell_type": "code",
   "execution_count": 3,
   "metadata": {},
   "outputs": [
    {
     "name": "stdout",
     "output_type": "stream",
     "text": [
      "<class 'pandas.core.frame.DataFrame'>\n",
      "RangeIndex: 1067371 entries, 0 to 1067370\n",
      "Data columns (total 8 columns):\n",
      " #   Column       Non-Null Count    Dtype  \n",
      "---  ------       --------------    -----  \n",
      " 0   Invoice      1067371 non-null  object \n",
      " 1   StockCode    1067371 non-null  object \n",
      " 2   Description  1062989 non-null  object \n",
      " 3   Quantity     1067371 non-null  int64  \n",
      " 4   InvoiceDate  1067371 non-null  object \n",
      " 5   Price        1067371 non-null  float64\n",
      " 6   Customer ID  824364 non-null   float64\n",
      " 7   Country      1067371 non-null  object \n",
      "dtypes: float64(2), int64(1), object(5)\n",
      "memory usage: 65.1+ MB\n"
     ]
    }
   ],
   "source": [
    "df.info()"
   ]
  },
  {
   "cell_type": "markdown",
   "metadata": {},
   "source": [
    "Like any other programming languages, we need to pay attention to the data type in order to ensure the code runs as intended. We notice that InvoiceDate is not in date format. Thus, we need to convert it into datetime format. "
   ]
  },
  {
   "cell_type": "code",
   "execution_count": 4,
   "metadata": {},
   "outputs": [],
   "source": [
    "import datetime as dt \n",
    "df['InvoiceDate'] = pd.to_datetime(df['InvoiceDate'])"
   ]
  },
  {
   "cell_type": "code",
   "execution_count": 6,
   "metadata": {},
   "outputs": [
    {
     "name": "stdout",
     "output_type": "stream",
     "text": [
      "Invoice        0\n",
      "StockCode      0\n",
      "Description    0\n",
      "Quantity       0\n",
      "InvoiceDate    0\n",
      "Price          0\n",
      "Customer ID    0\n",
      "Country        0\n",
      "dtype: int64\n"
     ]
    }
   ],
   "source": [
    "\n",
    "# Check for missing values\n",
    "print(df.isnull().sum())\n",
    "\n",
    "# Remove rows with missing values\n",
    "df = df.dropna()\n",
    "\n",
    "# Remove duplicates\n",
    "df = df.drop_duplicates()\n",
    "\n",
    "# Create a new column for total sales amount\n",
    "df['Amount'] = df['Quantity'] * df['Price']"
   ]
  },
  {
   "cell_type": "markdown",
   "metadata": {},
   "source": [
    "In this code snippet, we first check for missing values using the isnull() and sum() functions. We then remove rows with missing values using dropna() and remove duplicate rows using drop_duplicates().\n",
    "\n",
    "Next, we convert the 'InvoiceDate' column to datetime type using to_datetime() to enable time-based analysis. Finally, we create a new column called 'Amount' by multiplying 'Quantity' and 'UnitPrice' to calculate the total sales amount for each transaction.\n"
   ]
  },
  {
   "cell_type": "markdown",
   "metadata": {},
   "source": [
    "\n",
    "## 2.2 Exploratory Data Analysis with Matplotlib and Seaborn\n",
    "Once our data is clean and preprocessed, we can move on to exploratory data analysis (EDA). EDA helps us understand the underlying patterns, relationships, and distributions in our marketing data. Matplotlib and Seaborn are popular Python libraries for creating informative and visually appealing plots and charts.\n",
    "\n",
    "Let's explore some key aspects of our dataset using Matplotlib and Seaborn:\n",
    "\n",
    "### Sales Trend Over Time\n"
   ]
  },
  {
   "cell_type": "code",
   "execution_count": null,
   "metadata": {},
   "outputs": [],
   "source": [
    "import matplotlib.pyplot as plt\n",
    "\n",
    "# Group by date and sum the sales amount\n",
    "daily_sales = data.groupby(data['InvoiceDate'].dt.date)['Amount'].sum()\n",
    "\n",
    "# Plot the daily sales trend\n",
    "plt.figure(figsize=(12, 6))\n",
    "plt.plot(daily_sales.index, daily_sales.values)\n",
    "plt.xlabel('Date')\n",
    "plt.ylabel('Total Sales')\n",
    "plt.title('Daily Sales Trend')\n",
    "plt.show()"
   ]
  },
  {
   "cell_type": "markdown",
   "metadata": {},
   "source": [
    "This code snippet groups the data by date and calculates the total sales amount for each day. We then create a line plot using Matplotlib to visualize the daily sales trend over time."
   ]
  },
  {
   "cell_type": "markdown",
   "metadata": {},
   "source": [
    "### Product Category Analysis"
   ]
  },
  {
   "cell_type": "code",
   "execution_count": null,
   "metadata": {},
   "outputs": [],
   "source": [
    "\n",
    "import seaborn as sns\n",
    "\n",
    "# Extract product categories from the Description column\n",
    "data['Category'] = data['Description'].str.extract('(^\\w+)')\n",
    "\n",
    "# Group by category and sum the sales amount\n",
    "category_sales = data.groupby('Category')['Amount'].sum().sort_values(ascending=False)\n",
    "\n",
    "# Plot the sales distribution by category\n",
    "plt.figure(figsize=(12, 6))\n",
    "sns.barplot(x=category_sales.index, y=category_sales.values)\n",
    "plt.xlabel('Product Category')\n",
    "plt.ylabel('Total Sales')\n",
    "plt.title('Sales Distribution by Product Category')\n",
    "plt.xticks(rotation=45)\n",
    "plt.show()"
   ]
  },
  {
   "cell_type": "markdown",
   "metadata": {},
   "source": [
    "In this example, we extract product categories from the 'Description' column using the str.extract() function. We then group the data by category and calculate the total sales amount for each category. Finally, we create a bar plot using Seaborn to visualize the sales distribution across different product categories."
   ]
  },
  {
   "cell_type": "markdown",
   "metadata": {},
   "source": [
    "\n",
    "### Customer Segmentation"
   ]
  },
  {
   "cell_type": "code",
   "execution_count": null,
   "metadata": {},
   "outputs": [],
   "source": [
    "\n",
    "# Group by customer ID and calculate total sales and number of orders\n",
    "customer_data = data.groupby('CustomerID').agg({'Amount': 'sum', 'InvoiceNo': 'nunique'})\n",
    "\n",
    "# Rename columns\n",
    "customer_data.columns = ['TotalSales', 'NumOrders']\n",
    "\n",
    "# Create a scatter plot\n",
    "plt.figure(figsize=(10, 8))\n",
    "sns.scatterplot(x='TotalSales', y='NumOrders', data=customer_data)\n",
    "plt.xlabel('Total Sales')\n",
    "plt.ylabel('Number of Orders')\n",
    "plt.title('Customer Segmentation')\n",
    "plt.show()"
   ]
  },
  {
   "cell_type": "markdown",
   "metadata": {},
   "source": [
    "\n",
    "Here, we group the data by customer ID and calculate the total sales and number of orders for each customer. We then create a scatter plot using Seaborn to visualize the relationship between total sales and the number of orders. This plot helps us identify different customer segments based on their purchasing behavior.\n",
    "\n",
    "These are just a few examples of how Matplotlib and Seaborn can be used for exploratory data analysis in marketing. By creating informative visualizations, we can gain deeper insights into customer behavior, product performance, and sales trends.\n"
   ]
  },
  {
   "cell_type": "markdown",
   "metadata": {},
   "source": [
    "\n",
    "## 2.3 Streamlined Exploratory Data Analysis with Data Wrangler and SweetViz \n",
    "\n",
    "In addition to using Pandas, Matplotlib, and Seaborn for data preprocessing and EDA, there are several other Python packages that can make this process even more streamlined. We'll introduce two of these packages: Data Wrangler and SweetViz.\n",
    "\n",
    "Data Wrangler\n",
    "-------------\n",
    "\n",
    "Data Wrangler is a powerful library for automating data preprocessing tasks. With just a few lines of code, you can perform common data cleaning and preprocessing steps, such as:\n",
    "\n",
    "* Removing duplicate rows\n",
    "* Replacing missing values\n",
    "* Handling outliers\n",
    "* Scaling and normalizing data\n",
    "\n",
    "To install Data Wrangler, run:\n"
   ]
  },
  {
   "cell_type": "code",
   "execution_count": null,
   "metadata": {},
   "outputs": [],
   "source": [
    "\n",
    "pip install datawrangler"
   ]
  },
  {
   "cell_type": "markdown",
   "metadata": {},
   "source": [
    "Here's an example of using Data Wrangler for data cleaning and preprocessing:"
   ]
  },
  {
   "cell_type": "code",
   "execution_count": null,
   "metadata": {},
   "outputs": [],
   "source": [
    "import datawrangler as dw\n",
    "\n",
    "# Load data into a pandas DataFrame\n",
    "data = dw.load_data('online\\_retail.xlsx')\n",
    "\n",
    "# Automate the data cleaning process\n",
    "data = dw.preprocess(data)\n"
   ]
  },
  {
   "cell_type": "markdown",
   "metadata": {},
   "source": [
    "\n",
    "SweetViz\n",
    "--------\n",
    "\n",
    "SweetViz is an open-source library for generating insights and visualizations from data. It automates the exploratory data analysis process by generating a set of visualizations that summarize the key aspects of the dataset. With SweetViz, you can quickly identify trends, patterns, and relationships in the data without having to write any code.\n",
    "\n",
    "To install SweetViz, run:\n"
   ]
  },
  {
   "cell_type": "markdown",
   "metadata": {},
   "source": [
    "\n",
    "```\n",
    "pip install sweetviz\n",
    "```\n",
    "To use SweetViz, you can simply create a report using the following code:\n",
    " \n"
   ]
  },
  {
   "cell_type": "code",
   "execution_count": null,
   "metadata": {},
   "outputs": [],
   "source": [
    "from sweetviz import SweetVizReport\n",
    "\n",
    "# Create a report based on the data\n",
    "report = SweetVizReport('data\\_retail.xlsx')\n",
    "\n",
    "# Save the report to an HTML file\n",
    "report.save('results\\_report.html')\n"
   ]
  },
  {
   "cell_type": "markdown",
   "metadata": {},
   "source": [
    "\n",
    "By using Data Wrangler and SweetViz alongside Pandas, Matplotlib, and Seaborn, you can streamline your data preprocessing and exploratory data analysis workflows and gain deeper insights into your marketing data."
   ]
  }
 ],
 "metadata": {
  "kernelspec": {
   "display_name": "Python 3",
   "language": "python",
   "name": "python3"
  },
  "language_info": {
   "codemirror_mode": {
    "name": "ipython",
    "version": 3
   },
   "file_extension": ".py",
   "mimetype": "text/x-python",
   "name": "python",
   "nbconvert_exporter": "python",
   "pygments_lexer": "ipython3",
   "version": "3.7.16"
  },
  "widgets": {
   "application/vnd.jupyter.widget-state+json": {
    "state": {},
    "version_major": 2,
    "version_minor": 0
   }
  }
 },
 "nbformat": 4,
 "nbformat_minor": 4
}
