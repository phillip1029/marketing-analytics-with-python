{
 "cells": [
  {
   "cell_type": "markdown",
   "metadata": {},
   "source": [
    "# Chapter 9 Marketing Media Mix Models"
   ]
  },
  {
   "cell_type": "markdown",
   "metadata": {},
   "source": [
    "## 9.1 **Introduction**\n",
    "\n",
    "In today's rapidly evolving marketing landscape, the ability to quantify the impact of each dollar spent across various channels is more crucial than ever. Media Mix Modeling (MMM) stands at the forefront of data-driven marketing strategies, offering a sophisticated analytical approach that dissects the performance of each marketing channel in isolation and in synergy. By employing statistical models that incorporate sales data, marketing expenditures, and external factors, MMM provides a comprehensive overview of marketing performance, allowing marketers to understand the effectiveness of their advertising expenditures.\n",
    "\n",
    "The essence of MMM lies in its ability to not only retrospectively analyze past performance but also to predict how adjustments in the marketing mix can influence future outcomes. This dual capability makes it an invaluable tool for marketers aiming to optimize their strategies in alignment with business objectives, whether it's increasing overall sales, enhancing brand awareness, or achieving a higher return on investment (ROI).\n",
    "\n",
    "### 9.1.1 The Importance of MMM in the Modern Marketing Landscape\n",
    "\n",
    "In an era marked by the proliferation of digital channels and increasingly discerning consumers, MMM offers several advantages. It helps organizations navigate the complexity of the modern marketing ecosystem, where traditional media channels coexist with digital platforms, each offering varying levels of engagement and effectiveness. Moreover, MMM addresses the challenge of attribution, determining which channels are truly driving conversions and to what extent. This enables more effective reallocation of marketing budgets, away from underperforming channels and towards those with a proven impact on sales.\n",
    "\n",
    "### 9.1.2 The Objective of MMM\n",
    "\n",
    "The primary objective of MMM is to decode the contribution of different marketing channels to sales and understand how these channels interact with one another. This involves dissecting the marketing budget to identify the most and least efficient areas of spending. By modeling the relationship between marketing spend and business outcomes, MMM allows for the simulation of different scenarios to forecast future performance. This forward-looking approach aids in budget optimization and strategic planning, enabling marketers to adjust their strategies in anticipation of changing market dynamics and consumer behaviors.\n",
    "\n",
    "Ultimately, MMM serves as a guiding light for marketers, navigating them through the intricacies of planning and optimization in a multi-channel landscape. It stands as a testament to the power of data-driven decision-making, underscoring the shift from intuition-based to evidence-based marketing strategies. As we dive deeper into the nuances of MMM, we will explore its framework, provide a step-by-step guide on building a model using Python, and demonstrate how these insights can be leveraged to achieve marketing excellence."
   ]
  },
  {
   "cell_type": "markdown",
   "metadata": {},
   "source": [
    "## 9.2 **The Basics of Media Mix Modeling**\n",
    "\n",
    "In the dynamic world of marketing, understanding and optimizing the impact of various advertising efforts on sales and brand recognition is an ongoing challenge. Media Mix Modeling (MMM) emerges as a powerful tool for marketers aiming to decode the efficacy of each dollar spent across marketing channels. MMM is a statistical approach that quantifies the relationship between marketing inputs and their outcomes, usually sales or brand awareness, allowing marketers to forecast the impact of future marketing strategies.\n",
    "\n",
    "### 9.2.1 What is Media Mix Modeling?\n",
    "\n",
    "Fundamentally, MMM utilizes regression analysis to gauge the additional effects of diverse marketing initiatives on sales or other critical performance metrics. Through the examination of past data, MMM offers perspectives on the contribution of various components of the marketing mix, such as TV and digital advertising, promotions, and pricing strategies, to the overall effectiveness. This analysis helps marketers understand the effectiveness of each channel and optimize their budgets accordingly.\n",
    "\n",
    "### 9.2.2 The Role of MMM in Data-Driven Marketing Decisions\n",
    "\n",
    "In an era where data plays a crucial role, MMM stands out as a critical tool in the marketer's arsenal. It provides a comprehensive view of marketing effectiveness, capturing the synergies and dynamics between different media channels. By incorporating external factors such as economic conditions, competitor actions, and seasonal trends, MMM offers a nuanced understanding of marketing performance. This holistic approach enables marketers to make informed decisions, allocate resources efficiently, and maximize return on investment (ROI).\n",
    "\n",
    "### 9.2.3 Key Components of MMM\n",
    "\n",
    "Understanding the components that MMM analyzes is essential to grasp its functionality and utility:\n",
    "\n",
    "* **Media Channels**: MMM evaluates both traditional (e.g., TV, radio, print) and digital (e.g., social media, search engine marketing, email) advertising channels. \n",
    "* **External Factors**: These include any variables that might impact sales or marketing effectiveness outside of the company's control, such as economic indicators, weather conditions, and competitive marketing activities. \n",
    "* **Baseline Sales**: This refers to the sales level that would be expected without any marketing activities. Understanding the baseline allows for the measurement of the incremental impact of marketing efforts.\n",
    "\n",
    "### 9.2.4 Brief History and Evolution of MMM\n",
    "\n",
    "The roots of MMM trace back to the early days of econometric modeling in the 1960s, but it was the advent of more sophisticated computing power and data collection methods in the late 20th century that truly unlocked its potential. Originally focused on traditional media channels, the rise of digital marketing has significantly expanded MMM's scope. Today, MMM must navigate a far more complex media landscape, integrating a multitude of digital data sources while addressing challenges like consumer privacy concerns and the diminishing effectiveness of cookies.\n",
    "\n",
    "In conclusion, Media Mix Modeling is an indispensable tool for marketers seeking to navigate the complexities of the modern advertising landscape. By offering a detailed analysis of how various marketing channels and external factors impact sales, MMM empowers businesses to optimize their marketing spend, enhance their strategic planning, and ultimately drive greater ROI. As we delve deeper into this topic, we'll explore the theoretical underpinnings of MMM and how it integrates with broader marketing and econometric theories to provide actionable insights."
   ]
  },
  {
   "cell_type": "markdown",
   "metadata": {},
   "source": [
    "## 9.3 **Understanding the Framework of MMM**\n",
    "\n",
    "Media Mix Modeling (MMM) operates at the intersection of marketing science and statistical analysis, offering a framework that quantifies the impact of marketing strategies on business outcomes. This section explores the theoretical foundations of MMM, its statistical underpinnings, and how it accounts for the complex interplay between various media channels and external factors.\n",
    "\n",
    "### 9.3.1 Theoretical Foundation of MMM\n",
    "\n",
    "The theoretical underpinning of MMM is rooted in econometrics, a branch of economics that applies statistical methods to economic data to provide empirical content to economic relationships. MMM applies these principles to marketing, aiming to understand and quantify the relationships between marketing inputs (expenditures across various channels) and outputs (sales, brand awareness).\n",
    "\n",
    "MMM is grounded in the theory of diminishing returns, a fundamental concept in economics that suggests that as investment in a particular area increases, the marginal gains from that investment will eventually decrease. In marketing, this implies that while initially, investments in a marketing channel might yield significant returns, over time, the effectiveness of additional spending will start to diminish.\n",
    "\n",
    "### 9.3.2 Statistical Methods Used in MMM\n",
    "\n",
    "MMM primarily relies on regression analysis, a statistical technique for estimating the relationships among variables. The general idea is to use historical data to estimate how changes in the marketing mix and external factors affect sales or other dependent variables. The model might take a simple linear form or a more complex one, incorporating interactions between variables to reflect the synergistic effects between different marketing channels.\n",
    "\n",
    "* **Linear Regression**: The most basic form of MMM, where sales are predicted as a function of marketing spend in different channels. It assumes a direct, linear relationship between marketing spend and sales. \n",
    "* **Multiple Regression**: To capture the influence of multiple factors, MMM often uses multiple regression, which can account for various marketing channels and external factors simultaneously. \n",
    "* **Bayesian Methods and Time Series Analysis**: For more sophisticated MMMs, Bayesian methods can incorporate prior knowledge into the analysis, and time series analysis can account for the temporal dynamics and lag effects of marketing efforts.\n",
    "\n",
    "### 9.3.3 Accounting for Diminishing Returns and Synergy\n",
    "\n",
    "A critical aspect of MMM is its ability to account for diminishing returns and the synergistic effects between different marketing channels. Diminishing returns are modeled through nonlinear functions or interaction terms that show how the impact of additional spending decreases over time. For synergy, MMM includes interaction terms between different media investments to capture how the combination of two or more channels can have a greater impact than the sum of their individual effects.\n",
    "\n",
    "* **Diminishing Returns**: Represented by a logarithmic function or a polynomial where, after a certain point, increases in advertising spend yield progressively smaller increases in sales. \n",
    "* **Synergy**: Interaction terms in the regression model represent synergy. For example, an interaction term between online and TV advertising might show that the combined effect of these channels is greater than the sum of their separate impacts.\n",
    "\n",
    "By integrating these complex relationships, MMM provides a nuanced understanding of marketing effectiveness. This analytical framework helps marketers navigate the multifaceted media landscape, making informed decisions about where to allocate their budgets for maximum impact. In the next section, we'll explore how to translate these theoretical and statistical considerations into practice by building a Media Mix Model in Python, step by step."
   ]
  },
  {
   "cell_type": "markdown",
   "metadata": {},
   "source": [
    "## 9.4 Building a Media Mix Model in Python: A Step-by-Step Guide\n",
    "\n",
    "In this section, we will walk through the process of building a basic Media Mix Model (MMM) using Python, leveraging the dataset provided in Meta's Robyn R package. This dataset provides a simple yet illustrative example of how media expenditures across five different media channels (TV, OOH, print, facebook, and search) impact revenue."
   ]
  },
  {
   "cell_type": "markdown",
   "metadata": {},
   "source": [
    "### 9.4.1 Data Description"
   ]
  },
  {
   "cell_type": "markdown",
   "metadata": {},
   "source": [
    "The dataset we will be working with is the one used by Meta's Robyn package. It comprises weekly media expenditures and revenue data spanning from November 23, 2015, to November 11, 2019, encompassing a total of 208 weeks. The variables included in the dataset are as follows:\n",
    "\n",
    "`date`: The beginning date of each week\n",
    "\n",
    "`revenue`: The business revenue generated during the week\n",
    "\n",
    "`tv_s`: Television advertising expenditure for the week\n",
    "\n",
    "`ooh_s`: Out-of-home (OOH) channel expenditure for the week\n",
    "\n",
    "`print_s`: Print media advertising expenditure for the week\n",
    "\n",
    "`facebook_i`: Facebook impressions count\n",
    "\n",
    "`search_clicks_p`: Number of clicks through search results\n",
    "\n",
    "`search_s`: Expenditure on paid search advertising\n",
    "\n",
    "`competitor_sales_b`: Competitor's sales figures\n",
    "\n",
    "`facebook_s`: Facebook advertising expenditure"
   ]
  },
  {
   "cell_type": "code",
   "execution_count": 1,
   "metadata": {},
   "outputs": [],
   "source": [
    "import os\n",
    "os.chdir(\"marketing-analytics-with-python\")"
   ]
  },
  {
   "cell_type": "code",
   "execution_count": 2,
   "metadata": {},
   "outputs": [
    {
     "name": "stdout",
     "output_type": "stream",
     "text": [
      "(208, 10)\n"
     ]
    },
    {
     "data": {
      "text/html": [
       "<div>\n",
       "<style scoped>\n",
       "    .dataframe tbody tr th:only-of-type {\n",
       "        vertical-align: middle;\n",
       "    }\n",
       "\n",
       "    .dataframe tbody tr th {\n",
       "        vertical-align: top;\n",
       "    }\n",
       "\n",
       "    .dataframe thead th {\n",
       "        text-align: right;\n",
       "    }\n",
       "</style>\n",
       "<table border=\"1\" class=\"dataframe\">\n",
       "  <thead>\n",
       "    <tr style=\"text-align: right;\">\n",
       "      <th></th>\n",
       "      <th>date</th>\n",
       "      <th>revenue</th>\n",
       "      <th>tv_s</th>\n",
       "      <th>ooh_s</th>\n",
       "      <th>print_s</th>\n",
       "      <th>facebook_i</th>\n",
       "      <th>search_clicks_p</th>\n",
       "      <th>search_s</th>\n",
       "      <th>competitor_sales_b</th>\n",
       "      <th>facebook_s</th>\n",
       "    </tr>\n",
       "  </thead>\n",
       "  <tbody>\n",
       "    <tr>\n",
       "      <th>0</th>\n",
       "      <td>2015-11-23</td>\n",
       "      <td>2.754372e+06</td>\n",
       "      <td>167687.6</td>\n",
       "      <td>0</td>\n",
       "      <td>95463.666667</td>\n",
       "      <td>7.290385e+07</td>\n",
       "      <td>0.000000</td>\n",
       "      <td>0</td>\n",
       "      <td>8125009</td>\n",
       "      <td>228213.987444</td>\n",
       "    </tr>\n",
       "    <tr>\n",
       "      <th>1</th>\n",
       "      <td>2015-11-30</td>\n",
       "      <td>2.584277e+06</td>\n",
       "      <td>214600.9</td>\n",
       "      <td>0</td>\n",
       "      <td>0.000000</td>\n",
       "      <td>1.658110e+07</td>\n",
       "      <td>29511.715457</td>\n",
       "      <td>31000</td>\n",
       "      <td>7901549</td>\n",
       "      <td>34258.573511</td>\n",
       "    </tr>\n",
       "    <tr>\n",
       "      <th>2</th>\n",
       "      <td>2015-12-07</td>\n",
       "      <td>2.547387e+06</td>\n",
       "      <td>0.0</td>\n",
       "      <td>248022</td>\n",
       "      <td>3404.000000</td>\n",
       "      <td>4.995477e+07</td>\n",
       "      <td>36132.358958</td>\n",
       "      <td>28400</td>\n",
       "      <td>8300197</td>\n",
       "      <td>127691.261335</td>\n",
       "    </tr>\n",
       "    <tr>\n",
       "      <th>3</th>\n",
       "      <td>2015-12-14</td>\n",
       "      <td>2.875220e+06</td>\n",
       "      <td>625877.3</td>\n",
       "      <td>0</td>\n",
       "      <td>132600.000000</td>\n",
       "      <td>3.164930e+07</td>\n",
       "      <td>36804.210958</td>\n",
       "      <td>31900</td>\n",
       "      <td>8122883</td>\n",
       "      <td>84014.720306</td>\n",
       "    </tr>\n",
       "    <tr>\n",
       "      <th>4</th>\n",
       "      <td>2015-12-21</td>\n",
       "      <td>2.215953e+06</td>\n",
       "      <td>0.0</td>\n",
       "      <td>520005</td>\n",
       "      <td>0.000000</td>\n",
       "      <td>8.802269e+06</td>\n",
       "      <td>28401.744069</td>\n",
       "      <td>27100</td>\n",
       "      <td>7105985</td>\n",
       "      <td>20687.478156</td>\n",
       "    </tr>\n",
       "  </tbody>\n",
       "</table>\n",
       "</div>"
      ],
      "text/plain": [
       "        date       revenue      tv_s   ooh_s        print_s    facebook_i  \\\n",
       "0 2015-11-23  2.754372e+06  167687.6       0   95463.666667  7.290385e+07   \n",
       "1 2015-11-30  2.584277e+06  214600.9       0       0.000000  1.658110e+07   \n",
       "2 2015-12-07  2.547387e+06       0.0  248022    3404.000000  4.995477e+07   \n",
       "3 2015-12-14  2.875220e+06  625877.3       0  132600.000000  3.164930e+07   \n",
       "4 2015-12-21  2.215953e+06       0.0  520005       0.000000  8.802269e+06   \n",
       "\n",
       "   search_clicks_p  search_s  competitor_sales_b     facebook_s  \n",
       "0         0.000000         0             8125009  228213.987444  \n",
       "1     29511.715457     31000             7901549   34258.573511  \n",
       "2     36132.358958     28400             8300197  127691.261335  \n",
       "3     36804.210958     31900             8122883   84014.720306  \n",
       "4     28401.744069     27100             7105985   20687.478156  "
      ]
     },
     "execution_count": 2,
     "metadata": {},
     "output_type": "execute_result"
    }
   ],
   "source": [
    "import pandas as pd\n",
    "import statsmodels.api as sm\n",
    "import matplotlib.pyplot as plt\n",
    "import math\n",
    "\n",
    "# compress the warning messages\n",
    "import warnings\n",
    "warnings.filterwarnings(\"ignore\")\n",
    "\n",
    "# Load the dataset\n",
    "data = pd.read_csv(r\"data/Chapter9_mmm.csv\")\n",
    "# trim the column names \n",
    "data.columns = data.columns.str.strip().str.lower().str.replace(' ', '_').str.replace('(', '').str.replace(')', '')\n",
    "# convert date column to datetime format\n",
    "data['date'] = pd.to_datetime(data['date'])\n",
    "print(data.shape)\n",
    "data.head()"
   ]
  },
  {
   "cell_type": "markdown",
   "metadata": {},
   "source": [
    "### 9.4.2 Data Processing"
   ]
  },
  {
   "cell_type": "markdown",
   "metadata": {},
   "source": [
    "The purpose of this exercise is to analyze how advertising expenditures by media channels affect business sales revenue. We will include only the media expenditure data, the target feature 'revenue', and the 'date' column.\n",
    "\n",
    "Before we prepare the data for model training, we use package 'sweetviz' to run an automated EDA analysis. From the generated [EDA report](results\\Chapter9_eda_report.html), we can see that this dataset has no missing values. "
   ]
  },
  {
   "cell_type": "code",
   "execution_count": 3,
   "metadata": {},
   "outputs": [],
   "source": [
    "data = data.drop(columns=['facebook_i', 'search_clicks_p', 'competitor_sales_b'])"
   ]
  },
  {
   "cell_type": "code",
   "execution_count": null,
   "metadata": {},
   "outputs": [],
   "source": [
    "import sweetviz as sv\n",
    "\n",
    "# Create a report based on the data\n",
    "report = sv.analyze(data)\n",
    "\n",
    "# Save the report to an HTML file\n",
    "report.show_html('results\\Chapter9_eda_report.html')"
   ]
  },
  {
   "cell_type": "markdown",
   "metadata": {},
   "source": [
    "### 9.4.3 Feature Engineering"
   ]
  },
  {
   "cell_type": "markdown",
   "metadata": {},
   "source": [
    "As we discussed earlier, we need to consider the lagged effects of media advertising expenditures and the interaction effects across media channels. \n",
    "\n",
    "1. **The adstock effect** is often used to account for the carryover effects of advertising on sales. In MMM, the adstock effect is typically captured by including a lagged advertising variable in the model. This lagged advertising variable represents the impact of advertising on future sales, allowing marketers to capture the cumulative impact of advertising over time rather than just the immediate impact of an ad. \n",
    "\n",
    "The formula for calculating adstock effect is typically expressed as:\n",
    "$$\n",
    "A_t = X_{t} + \\text{adstock\\_rate} * A_{t-1}\n",
    "$$\n",
    "Where:\n",
    "\n",
    "$A_{t}$ represents the adstock at time $t$\n",
    "\n",
    "$X_{t}$ is the advertising expenditure at time $t$\n",
    "\n",
    "$\\text{adstock\\_rate}$ is the percentage of the effect that remains at each time period after the initial advertisement.\n",
    "\n",
    "We develop a Python function 'apply_adstock' as below based on the formula and apply it to transform the media spend features with the adstock effects. "
   ]
  },
  {
   "cell_type": "code",
   "execution_count": 4,
   "metadata": {},
   "outputs": [],
   "source": [
    "# Function to apply adstock (decay) effect\n",
    "def apply_adstock(x, decay_rate=0.5):\n",
    "    adstocked_x = []\n",
    "    previous = 0\n",
    "    for value in x:\n",
    "        adstocked_value = value + (previous * decay_rate)\n",
    "        adstocked_x.append(adstocked_value)\n",
    "        previous = adstocked_value\n",
    "    return pd.Series(adstocked_x)"
   ]
  },
  {
   "cell_type": "code",
   "execution_count": 5,
   "metadata": {},
   "outputs": [],
   "source": [
    "# adstocking the media spend\n",
    "media_spend_list = ['tv_s', 'ooh_s', 'print_s', 'search_s', 'facebook_s']\n",
    "\n",
    "df_adstock = data.copy()\n",
    "for media in media_spend_list:\n",
    "    df_adstock[media] = apply_adstock(df_adstock[media])\n"
   ]
  },
  {
   "cell_type": "markdown",
   "metadata": {},
   "source": [
    "I need to call out that as we transform the media spend features with adstock effects, the first several rows of the post-transformation do not include the adstock effects \n",
    "of the previous weeks as they are not available from the dataset. Thus, we need to exclude those rows from the training dataset. The number of weeks to exclude is determined \n",
    "by the decay rate and the threshold level that we can consider the adstock effects as ignorable on each of the remaining periods. As the general form of the exponential decay \n",
    "formula is \n",
    "$$\n",
    "V_t = V_0 \\times {(\\text{decay}\\ \\text{rate})}^t\n",
    "$$\n",
    "\n",
    "where:\n",
    "\n",
    "$V_t$ is the value at time,\n",
    "\n",
    "$V_0$ is the initial value,\n",
    "\n",
    "$\\text{decay}\\ \\text{rate}$ is the rate at which the value decays per time period, and\n",
    " \n",
    "$t$ is the number of time periods.\n",
    "\n",
    "After n time periods, $V_t = b \\times V_0$ where b is the threshold level. Thus, we can have the formula to calculate $n$ as below:\n",
    "$$\n",
    "n = \\frac{\\ln(b)}{\\ln(\\text{decay}\\ \\text{rate})}\n",
    "$$\n",
    "\n"
   ]
  },
  {
   "cell_type": "code",
   "execution_count": 6,
   "metadata": {},
   "outputs": [
    {
     "name": "stdout",
     "output_type": "stream",
     "text": [
      "3\n"
     ]
    }
   ],
   "source": [
    "import math\n",
    "\n",
    "decay_rate = 0.5  # Example decay rate\n",
    "threshold = 0.10  # 5% threshold\n",
    "\n",
    "t = round(math.log(threshold) / math.log(decay_rate))\n",
    "print(t)\n"
   ]
  },
  {
   "cell_type": "markdown",
   "metadata": {},
   "source": [
    "If we consider decay rate = 0.5 and the threshold level = 0.20, the need to exclude the first two rows of dataset to remove the data noise from the data transformation. "
   ]
  },
  {
   "cell_type": "code",
   "execution_count": 7,
   "metadata": {},
   "outputs": [
    {
     "name": "stdout",
     "output_type": "stream",
     "text": [
      "(205, 7)\n"
     ]
    }
   ],
   "source": [
    "# exclude the first t rows\n",
    "df_adstock = df_adstock.iloc[t:]\n",
    "print(df_adstock.shape) "
   ]
  },
  {
   "cell_type": "markdown",
   "metadata": {},
   "source": [
    "2. **Interaction Terms** can be captured by multiplication of terms or polynomial features. In our use case, we will use the multiplication of two media spend features. "
   ]
  },
  {
   "cell_type": "code",
   "execution_count": 8,
   "metadata": {},
   "outputs": [],
   "source": [
    "# add interaction terms of medias in media_spend_list\n",
    "for i, media1 in enumerate(media_spend_list):\n",
    "    for j, media2 in enumerate(media_spend_list):\n",
    "        if i < j:\n",
    "            df_adstock[media1 + '_x_' + media2] = df_adstock[media1] * df_adstock[media2]\n"
   ]
  },
  {
   "cell_type": "markdown",
   "metadata": {},
   "source": [
    "3. **Time-related features**: Based on the 'date' column, we can create a feature 'month' to capture the seasonality. "
   ]
  },
  {
   "cell_type": "code",
   "execution_count": 9,
   "metadata": {},
   "outputs": [
    {
     "data": {
      "text/html": [
       "<div>\n",
       "<style scoped>\n",
       "    .dataframe tbody tr th:only-of-type {\n",
       "        vertical-align: middle;\n",
       "    }\n",
       "\n",
       "    .dataframe tbody tr th {\n",
       "        vertical-align: top;\n",
       "    }\n",
       "\n",
       "    .dataframe thead th {\n",
       "        text-align: right;\n",
       "    }\n",
       "</style>\n",
       "<table border=\"1\" class=\"dataframe\">\n",
       "  <thead>\n",
       "    <tr style=\"text-align: right;\">\n",
       "      <th></th>\n",
       "      <th>date</th>\n",
       "      <th>revenue</th>\n",
       "      <th>tv_s</th>\n",
       "      <th>ooh_s</th>\n",
       "      <th>print_s</th>\n",
       "      <th>search_s</th>\n",
       "      <th>facebook_s</th>\n",
       "      <th>tv_s_x_ooh_s</th>\n",
       "      <th>tv_s_x_print_s</th>\n",
       "      <th>tv_s_x_search_s</th>\n",
       "      <th>...</th>\n",
       "      <th>month_3</th>\n",
       "      <th>month_4</th>\n",
       "      <th>month_5</th>\n",
       "      <th>month_6</th>\n",
       "      <th>month_7</th>\n",
       "      <th>month_8</th>\n",
       "      <th>month_9</th>\n",
       "      <th>month_10</th>\n",
       "      <th>month_11</th>\n",
       "      <th>month_12</th>\n",
       "    </tr>\n",
       "  </thead>\n",
       "  <tbody>\n",
       "    <tr>\n",
       "      <th>3</th>\n",
       "      <td>2015-12-14</td>\n",
       "      <td>2.875220e+06</td>\n",
       "      <td>700488.475000</td>\n",
       "      <td>124011.0000</td>\n",
       "      <td>146234.958333</td>\n",
       "      <td>53850.000</td>\n",
       "      <td>184951.742781</td>\n",
       "      <td>8.686828e+10</td>\n",
       "      <td>1.024359e+11</td>\n",
       "      <td>3.772130e+10</td>\n",
       "      <td>...</td>\n",
       "      <td>False</td>\n",
       "      <td>False</td>\n",
       "      <td>False</td>\n",
       "      <td>False</td>\n",
       "      <td>False</td>\n",
       "      <td>False</td>\n",
       "      <td>False</td>\n",
       "      <td>False</td>\n",
       "      <td>False</td>\n",
       "      <td>True</td>\n",
       "    </tr>\n",
       "    <tr>\n",
       "      <th>4</th>\n",
       "      <td>2015-12-21</td>\n",
       "      <td>2.215953e+06</td>\n",
       "      <td>350244.237500</td>\n",
       "      <td>582010.5000</td>\n",
       "      <td>73117.479167</td>\n",
       "      <td>54025.000</td>\n",
       "      <td>113163.349546</td>\n",
       "      <td>2.038458e+11</td>\n",
       "      <td>2.560898e+10</td>\n",
       "      <td>1.892194e+10</td>\n",
       "      <td>...</td>\n",
       "      <td>False</td>\n",
       "      <td>False</td>\n",
       "      <td>False</td>\n",
       "      <td>False</td>\n",
       "      <td>False</td>\n",
       "      <td>False</td>\n",
       "      <td>False</td>\n",
       "      <td>False</td>\n",
       "      <td>False</td>\n",
       "      <td>True</td>\n",
       "    </tr>\n",
       "    <tr>\n",
       "      <th>5</th>\n",
       "      <td>2015-12-28</td>\n",
       "      <td>2.569922e+06</td>\n",
       "      <td>424311.918750</td>\n",
       "      <td>291005.2500</td>\n",
       "      <td>275976.072917</td>\n",
       "      <td>55312.500</td>\n",
       "      <td>216691.829975</td>\n",
       "      <td>1.234770e+11</td>\n",
       "      <td>1.170999e+11</td>\n",
       "      <td>2.346975e+10</td>\n",
       "      <td>...</td>\n",
       "      <td>False</td>\n",
       "      <td>False</td>\n",
       "      <td>False</td>\n",
       "      <td>False</td>\n",
       "      <td>False</td>\n",
       "      <td>False</td>\n",
       "      <td>False</td>\n",
       "      <td>False</td>\n",
       "      <td>False</td>\n",
       "      <td>True</td>\n",
       "    </tr>\n",
       "    <tr>\n",
       "      <th>6</th>\n",
       "      <td>2016-01-04</td>\n",
       "      <td>2.171507e+06</td>\n",
       "      <td>217308.859375</td>\n",
       "      <td>570665.6250</td>\n",
       "      <td>137988.036458</td>\n",
       "      <td>55456.250</td>\n",
       "      <td>217036.281974</td>\n",
       "      <td>1.240107e+11</td>\n",
       "      <td>2.998602e+10</td>\n",
       "      <td>1.205113e+10</td>\n",
       "      <td>...</td>\n",
       "      <td>False</td>\n",
       "      <td>False</td>\n",
       "      <td>False</td>\n",
       "      <td>False</td>\n",
       "      <td>False</td>\n",
       "      <td>False</td>\n",
       "      <td>False</td>\n",
       "      <td>False</td>\n",
       "      <td>False</td>\n",
       "      <td>False</td>\n",
       "    </tr>\n",
       "    <tr>\n",
       "      <th>7</th>\n",
       "      <td>2016-01-11</td>\n",
       "      <td>2.464132e+06</td>\n",
       "      <td>130796.129687</td>\n",
       "      <td>285332.8125</td>\n",
       "      <td>245853.684896</td>\n",
       "      <td>59728.125</td>\n",
       "      <td>232412.625582</td>\n",
       "      <td>3.732043e+10</td>\n",
       "      <td>3.215671e+10</td>\n",
       "      <td>7.812208e+09</td>\n",
       "      <td>...</td>\n",
       "      <td>False</td>\n",
       "      <td>False</td>\n",
       "      <td>False</td>\n",
       "      <td>False</td>\n",
       "      <td>False</td>\n",
       "      <td>False</td>\n",
       "      <td>False</td>\n",
       "      <td>False</td>\n",
       "      <td>False</td>\n",
       "      <td>False</td>\n",
       "    </tr>\n",
       "  </tbody>\n",
       "</table>\n",
       "<p>5 rows × 28 columns</p>\n",
       "</div>"
      ],
      "text/plain": [
       "        date       revenue           tv_s        ooh_s        print_s  \\\n",
       "3 2015-12-14  2.875220e+06  700488.475000  124011.0000  146234.958333   \n",
       "4 2015-12-21  2.215953e+06  350244.237500  582010.5000   73117.479167   \n",
       "5 2015-12-28  2.569922e+06  424311.918750  291005.2500  275976.072917   \n",
       "6 2016-01-04  2.171507e+06  217308.859375  570665.6250  137988.036458   \n",
       "7 2016-01-11  2.464132e+06  130796.129687  285332.8125  245853.684896   \n",
       "\n",
       "    search_s     facebook_s  tv_s_x_ooh_s  tv_s_x_print_s  tv_s_x_search_s  \\\n",
       "3  53850.000  184951.742781  8.686828e+10    1.024359e+11     3.772130e+10   \n",
       "4  54025.000  113163.349546  2.038458e+11    2.560898e+10     1.892194e+10   \n",
       "5  55312.500  216691.829975  1.234770e+11    1.170999e+11     2.346975e+10   \n",
       "6  55456.250  217036.281974  1.240107e+11    2.998602e+10     1.205113e+10   \n",
       "7  59728.125  232412.625582  3.732043e+10    3.215671e+10     7.812208e+09   \n",
       "\n",
       "   ...  month_3  month_4  month_5  month_6  month_7  month_8  month_9  \\\n",
       "3  ...    False    False    False    False    False    False    False   \n",
       "4  ...    False    False    False    False    False    False    False   \n",
       "5  ...    False    False    False    False    False    False    False   \n",
       "6  ...    False    False    False    False    False    False    False   \n",
       "7  ...    False    False    False    False    False    False    False   \n",
       "\n",
       "   month_10  month_11  month_12  \n",
       "3     False     False      True  \n",
       "4     False     False      True  \n",
       "5     False     False      True  \n",
       "6     False     False     False  \n",
       "7     False     False     False  \n",
       "\n",
       "[5 rows x 28 columns]"
      ]
     },
     "execution_count": 9,
     "metadata": {},
     "output_type": "execute_result"
    }
   ],
   "source": [
    "# create month feature from 'date'\n",
    "df_adstock['month'] = pd.to_datetime(df_adstock['date']).dt.month\n",
    "# create dummy variables for 'month'\n",
    "df_adstock = pd.get_dummies(df_adstock, columns=['month'], drop_first=True)\n",
    "df_adstock.head()"
   ]
  },
  {
   "cell_type": "markdown",
   "metadata": {},
   "source": [
    "### 9.4.4 Model Training"
   ]
  },
  {
   "cell_type": "code",
   "execution_count": 10,
   "metadata": {},
   "outputs": [],
   "source": [
    "# Predictor variables with adstock and interaction terms\n",
    "X = df_adstock.drop(columns=['date', 'revenue'])\n",
    "y = df_adstock['revenue']  # Response variable\n",
    "X = sm.add_constant(X)  # Adds a constant term to the predictor"
   ]
  },
  {
   "cell_type": "code",
   "execution_count": 11,
   "metadata": {},
   "outputs": [],
   "source": [
    "from sklearn.model_selection import train_test_split\n",
    "from sklearn.metrics import r2_score, mean_absolute_error, mean_squared_error"
   ]
  },
  {
   "cell_type": "code",
   "execution_count": 12,
   "metadata": {},
   "outputs": [],
   "source": [
    "X_train, X_test, y_train, y_test = train_test_split(X, y, random_state=0, train_size=0.8)\n"
   ]
  },
  {
   "cell_type": "code",
   "execution_count": 13,
   "metadata": {},
   "outputs": [],
   "source": [
    "# build more complex models\n",
    "import xgboost\n",
    " \n",
    "from sklearn.ensemble import AdaBoostRegressor\n",
    "from xgboost.sklearn import XGBRegressor \n",
    "from sklearn.ensemble import RandomForestRegressor, GradientBoostingRegressor\n",
    "from sklearn.tree import DecisionTreeRegressor\n",
    "from sklearn import neighbors\n",
    "from sklearn.linear_model import LinearRegression\n",
    "\n",
    "ada = AdaBoostRegressor()\n",
    "xgb = XGBRegressor()\n",
    "rfr = RandomForestRegressor()\n",
    "dtr = DecisionTreeRegressor()\n",
    "gbr = GradientBoostingRegressor()\n",
    "knn = neighbors.KNeighborsRegressor() \n",
    "lr = LinearRegression()\n",
    "names = [\"LinearRegression\", \"AdaBoostRegressor\",\"XGBRegressor\",\"RandomForestRegressor\",\"DecisionTreeRegressor\",\n",
    "        \"GradientBoostingRegressor\",\"KNeighborsRegressor\"]\n",
    "models = [lr, ada, xgb, rfr, dtr, gbr, knn]\n"
   ]
  },
  {
   "cell_type": "code",
   "execution_count": 14,
   "metadata": {},
   "outputs": [],
   "source": [
    "def train_model(model_name, model, X_train, y_train, X_test, y_test):\n",
    "    model = model.fit(X_train, y_train)\n",
    "    \n",
    "    # Predict the test data\n",
    "    y_pred = model.predict(X_test)\n",
    "\n",
    "    # Calculate the R-squared, MAE, and RMSE\n",
    "    r2 = r2_score(y_test, y_pred).round(3)\n",
    "    mae = mean_absolute_error(y_test, y_pred).round(3)\n",
    "    rmse = mean_squared_error(y_test, y_pred, squared=False).round(3)\n",
    "        \n",
    "    return model_name, model, r2, mae, rmse"
   ]
  },
  {
   "cell_type": "code",
   "execution_count": 15,
   "metadata": {},
   "outputs": [],
   "source": [
    "results = []\n",
    "\n",
    "for model_name, model in zip(names, models):\n",
    "    model_name, model, r2, mae, rmse = train_model(model_name, model, X_train, y_train, X_test, y_test)\n",
    "    results.append((model_name, model, r2, mae, rmse))\n"
   ]
  },
  {
   "cell_type": "code",
   "execution_count": 16,
   "metadata": {},
   "outputs": [
    {
     "data": {
      "text/plain": [
       "('LinearRegression', LinearRegression(), 0.766, 229173.994, 303033.456)"
      ]
     },
     "execution_count": 16,
     "metadata": {},
     "output_type": "execute_result"
    }
   ],
   "source": [
    "results[0]"
   ]
  },
  {
   "cell_type": "markdown",
   "metadata": {},
   "source": [
    "### 9.4.5 search for the best model"
   ]
  },
  {
   "cell_type": "code",
   "execution_count": 17,
   "metadata": {},
   "outputs": [],
   "source": [
    "import pandas as pd\n",
    "import math\n",
    "import numpy as np\n",
    "import statsmodels.api as sm\n",
    "from sklearn.model_selection import train_test_split\n",
    "\n",
    "def apply_adstock(x, decay_rate=0.5):\n",
    "    adstocked_x = []\n",
    "    previous = 0\n",
    "    for value in x:\n",
    "        adstocked_value = value + (previous * decay_rate)\n",
    "        adstocked_x.append(adstocked_value)\n",
    "        previous = adstocked_value\n",
    "    return pd.Series(adstocked_x)\n",
    "\n",
    "def apply_synergy(data, media_spend_list = ['tv_s', 'ooh_s', 'print_s', 'search_s', 'facebook_s']):\n",
    "\n",
    "    df = data.copy() \n",
    "    # add interaction terms of medias in media_spend_list\n",
    "    for i, media1 in enumerate(media_spend_list):\n",
    "        for j, media2 in enumerate(media_spend_list):\n",
    "            if i < j:\n",
    "                df[media1 + '_x_' + media2] = df[media1] * df[media2]\n",
    "    return df \n",
    "\n",
    "def trim_threshold(data, decay_rate=0.5, threshold=0.05):\n",
    "    t = round(math.log(threshold) / math.log(decay_rate))\n",
    "    return data.iloc[t:]\n",
    "\n",
    "def add_ts_features(data):\n",
    "    data['month'] = pd.to_datetime(data['date']).dt.month\n",
    "    data = pd.get_dummies(data, columns=['month'], drop_first=True)\n",
    "    # drop date column\n",
    "    data.drop(columns=['date'], inplace=True)\n",
    "    return data\n",
    "\n",
    "def train_data(data, target='revenue',train_size=0.8):\n",
    "    X = data.drop(columns=[target])\n",
    "    y = data[target]  # Response variable\n",
    "    X = sm.add_constant(X)  # Adds a constant term to the predictor             \n",
    "                \n",
    "    X_train, X_test, y_train, y_test = train_test_split(X, y, random_state=0, train_size=train_size)\n",
    "    return X_train, X_test, y_train, y_test\n",
    "\n",
    "def data_pipe(data, media_spend_list= ['tv_s', 'ooh_s', 'print_s', 'search_s', 'facebook_s'], decay_rate=0.5, threshold=0.1, target='revenue', train_size=0.8): \n",
    "    df = data.copy()\n",
    "    for media in media_spend_list:\n",
    "        df[media] = apply_adstock(df[media], decay_rate=decay_rate) \n",
    "    df = apply_synergy(df, media_spend_list)\n",
    "    df = add_ts_features(df)\n",
    "    df = trim_threshold(df, decay_rate=decay_rate, threshold=threshold)\n",
    "    X_train, X_test, y_train, y_test = train_data(df, target=target,train_size=train_size)\n",
    "    return X_train, X_test, y_train, y_test    "
   ]
  },
  {
   "cell_type": "code",
   "execution_count": 18,
   "metadata": {},
   "outputs": [],
   "source": [
    "X_train, X_test, y_train, y_test = data_pipe(data, media_spend_list= ['tv_s', 'ooh_s', 'print_s', 'search_s', 'facebook_s'], decay_rate=0.5, threshold=0.1, target='revenue', train_size=0.8)\n"
   ]
  },
  {
   "cell_type": "code",
   "execution_count": 19,
   "metadata": {},
   "outputs": [],
   "source": [
    "decay_rates = [round(0.05*i, 2) for i in range(1, 20)]\n",
    "results = []\n",
    "for decay_rate in decay_rates:\n",
    "    X_train, X_test, y_train, y_test = data_pipe(data, media_spend_list= ['tv_s', 'ooh_s', 'print_s', 'search_s', 'facebook_s'], decay_rate=decay_rate, threshold=0.1, target='revenue', train_size=0.8)\n",
    "\n",
    "    for model_name, model in zip(names, models):\n",
    "        model_name, model, r2, mae, rmse = train_model(model_name, model, X_train, y_train, X_test, y_test)\n",
    "        results.append((decay_rate, model_name, model, r2, mae, rmse))"
   ]
  },
  {
   "cell_type": "code",
   "execution_count": 20,
   "metadata": {},
   "outputs": [
    {
     "data": {
      "text/plain": [
       "(0.05, 'LinearRegression', LinearRegression(), 0.785, 209114.346, 289760.622)"
      ]
     },
     "execution_count": 20,
     "metadata": {},
     "output_type": "execute_result"
    }
   ],
   "source": [
    "results[0]"
   ]
  },
  {
   "cell_type": "code",
   "execution_count": 23,
   "metadata": {},
   "outputs": [
    {
     "name": "stdout",
     "output_type": "stream",
     "text": [
      "Decay Rate for the best model: 0.9\n",
      "Name of the best model: LinearRegression\n",
      "R2-Score of the best model: 0.876\n"
     ]
    }
   ],
   "source": [
    "# get all R-squared from results\n",
    "r2_scores = [result[3] for result in results]\n",
    "# model with the highest R-squared\n",
    "best_model_index = r2_scores.index(max(r2_scores))\n",
    "# get the best model in terms of R-Square\n",
    "best_model = results[best_model_index]\n",
    "best_model_decay_rate = best_model[0]\n",
    "best_model_name = best_model[1]\n",
    "best_model_r2_score = best_model[3]\n",
    "best_model_trained = best_model[2]\n",
    "\n",
    "print(\"Decay Rate for the best model:\", best_model_decay_rate)\n",
    "print(\"Name of the best model:\", best_model_name)\n",
    "print(\"R2-Score of the best model:\", best_model_r2_score) "
   ]
  },
  {
   "cell_type": "markdown",
   "metadata": {},
   "source": [
    "### 9.4.6 Media Expenditure Optimization"
   ]
  },
  {
   "cell_type": "code",
   "execution_count": 47,
   "metadata": {},
   "outputs": [],
   "source": [
    "def objective(spend, base_data=X,  model=lr, media_spend_list= ['tv_s', 'ooh_s', 'print_s', 'search_s', 'facebook_s'], decay_rate=0.5, threshold=0.1):\n",
    "    \"\"\"\n",
    "    Objective function to be minimized.\n",
    "    \n",
    "    Parameters:\n",
    "    - spend: Array of spend by media channel.\n",
    "    - model: Trained GAM model.\n",
    "    - base_data: DataFrame containing base values for all features except media spends.\n",
    "    \n",
    "    Returns:\n",
    "    - Negative predicted revenue to be minimized.\n",
    "    \"\"\"\n",
    "    # Copy base_data to avoid modifying the original\n",
    "    df = base_data.copy()\n",
    "\n",
    "    for i, media in enumerate(media_spend_list):\n",
    "        df[media] = spend[i]\n",
    "        df[media] = apply_adstock(df[media], decay_rate=decay_rate) \n",
    "    df = apply_synergy(df, media_spend_list)\n",
    "    df = add_ts_features(df)\n",
    "    df = trim_threshold(df, decay_rate=decay_rate, threshold=threshold)\n",
    "    \n",
    "    # Predict revenue with the updated media spends\n",
    "    predicted_revenue = model.predict(df)\n",
    "    \n",
    "    # Return negative revenue because we are minimizing\n",
    "    return -np.sum(predicted_revenue)\n"
   ]
  },
  {
   "cell_type": "code",
   "execution_count": 48,
   "metadata": {},
   "outputs": [
    {
     "data": {
      "text/html": [
       "<div>\n",
       "<style scoped>\n",
       "    .dataframe tbody tr th:only-of-type {\n",
       "        vertical-align: middle;\n",
       "    }\n",
       "\n",
       "    .dataframe tbody tr th {\n",
       "        vertical-align: top;\n",
       "    }\n",
       "\n",
       "    .dataframe thead th {\n",
       "        text-align: right;\n",
       "    }\n",
       "</style>\n",
       "<table border=\"1\" class=\"dataframe\">\n",
       "  <thead>\n",
       "    <tr style=\"text-align: right;\">\n",
       "      <th></th>\n",
       "      <th>date</th>\n",
       "      <th>revenue</th>\n",
       "      <th>tv_s</th>\n",
       "      <th>ooh_s</th>\n",
       "      <th>print_s</th>\n",
       "      <th>search_s</th>\n",
       "      <th>facebook_s</th>\n",
       "    </tr>\n",
       "  </thead>\n",
       "  <tbody>\n",
       "    <tr>\n",
       "      <th>0</th>\n",
       "      <td>2015-11-23</td>\n",
       "      <td>2.754372e+06</td>\n",
       "      <td>167687.6</td>\n",
       "      <td>0</td>\n",
       "      <td>95463.666667</td>\n",
       "      <td>0</td>\n",
       "      <td>228213.987444</td>\n",
       "    </tr>\n",
       "    <tr>\n",
       "      <th>1</th>\n",
       "      <td>2015-11-30</td>\n",
       "      <td>2.584277e+06</td>\n",
       "      <td>214600.9</td>\n",
       "      <td>0</td>\n",
       "      <td>0.000000</td>\n",
       "      <td>31000</td>\n",
       "      <td>34258.573511</td>\n",
       "    </tr>\n",
       "    <tr>\n",
       "      <th>2</th>\n",
       "      <td>2015-12-07</td>\n",
       "      <td>2.547387e+06</td>\n",
       "      <td>0.0</td>\n",
       "      <td>248022</td>\n",
       "      <td>3404.000000</td>\n",
       "      <td>28400</td>\n",
       "      <td>127691.261335</td>\n",
       "    </tr>\n",
       "    <tr>\n",
       "      <th>3</th>\n",
       "      <td>2015-12-14</td>\n",
       "      <td>2.875220e+06</td>\n",
       "      <td>625877.3</td>\n",
       "      <td>0</td>\n",
       "      <td>132600.000000</td>\n",
       "      <td>31900</td>\n",
       "      <td>84014.720306</td>\n",
       "    </tr>\n",
       "    <tr>\n",
       "      <th>4</th>\n",
       "      <td>2015-12-21</td>\n",
       "      <td>2.215953e+06</td>\n",
       "      <td>0.0</td>\n",
       "      <td>520005</td>\n",
       "      <td>0.000000</td>\n",
       "      <td>27100</td>\n",
       "      <td>20687.478156</td>\n",
       "    </tr>\n",
       "  </tbody>\n",
       "</table>\n",
       "</div>"
      ],
      "text/plain": [
       "        date       revenue      tv_s   ooh_s        print_s  search_s  \\\n",
       "0 2015-11-23  2.754372e+06  167687.6       0   95463.666667         0   \n",
       "1 2015-11-30  2.584277e+06  214600.9       0       0.000000     31000   \n",
       "2 2015-12-07  2.547387e+06       0.0  248022    3404.000000     28400   \n",
       "3 2015-12-14  2.875220e+06  625877.3       0  132600.000000     31900   \n",
       "4 2015-12-21  2.215953e+06       0.0  520005       0.000000     27100   \n",
       "\n",
       "      facebook_s  \n",
       "0  228213.987444  \n",
       "1   34258.573511  \n",
       "2  127691.261335  \n",
       "3   84014.720306  \n",
       "4   20687.478156  "
      ]
     },
     "execution_count": 48,
     "metadata": {},
     "output_type": "execute_result"
    }
   ],
   "source": [
    "data.head()"
   ]
  },
  {
   "cell_type": "code",
   "execution_count": 49,
   "metadata": {},
   "outputs": [
    {
     "data": {
      "text/html": [
       "<div>\n",
       "<style scoped>\n",
       "    .dataframe tbody tr th:only-of-type {\n",
       "        vertical-align: middle;\n",
       "    }\n",
       "\n",
       "    .dataframe tbody tr th {\n",
       "        vertical-align: top;\n",
       "    }\n",
       "\n",
       "    .dataframe thead th {\n",
       "        text-align: right;\n",
       "    }\n",
       "</style>\n",
       "<table border=\"1\" class=\"dataframe\">\n",
       "  <thead>\n",
       "    <tr style=\"text-align: right;\">\n",
       "      <th></th>\n",
       "      <th>tv_s</th>\n",
       "      <th>ooh_s</th>\n",
       "      <th>print_s</th>\n",
       "      <th>search_s</th>\n",
       "      <th>facebook_s</th>\n",
       "    </tr>\n",
       "  </thead>\n",
       "  <tbody>\n",
       "    <tr>\n",
       "      <th>0</th>\n",
       "      <td>167687.6</td>\n",
       "      <td>0</td>\n",
       "      <td>95463.666667</td>\n",
       "      <td>0</td>\n",
       "      <td>228213.987444</td>\n",
       "    </tr>\n",
       "    <tr>\n",
       "      <th>1</th>\n",
       "      <td>214600.9</td>\n",
       "      <td>0</td>\n",
       "      <td>0.000000</td>\n",
       "      <td>31000</td>\n",
       "      <td>34258.573511</td>\n",
       "    </tr>\n",
       "    <tr>\n",
       "      <th>2</th>\n",
       "      <td>0.0</td>\n",
       "      <td>248022</td>\n",
       "      <td>3404.000000</td>\n",
       "      <td>28400</td>\n",
       "      <td>127691.261335</td>\n",
       "    </tr>\n",
       "    <tr>\n",
       "      <th>3</th>\n",
       "      <td>625877.3</td>\n",
       "      <td>0</td>\n",
       "      <td>132600.000000</td>\n",
       "      <td>31900</td>\n",
       "      <td>84014.720306</td>\n",
       "    </tr>\n",
       "    <tr>\n",
       "      <th>4</th>\n",
       "      <td>0.0</td>\n",
       "      <td>520005</td>\n",
       "      <td>0.000000</td>\n",
       "      <td>27100</td>\n",
       "      <td>20687.478156</td>\n",
       "    </tr>\n",
       "  </tbody>\n",
       "</table>\n",
       "</div>"
      ],
      "text/plain": [
       "       tv_s   ooh_s        print_s  search_s     facebook_s\n",
       "0  167687.6       0   95463.666667         0  228213.987444\n",
       "1  214600.9       0       0.000000     31000   34258.573511\n",
       "2       0.0  248022    3404.000000     28400  127691.261335\n",
       "3  625877.3       0  132600.000000     31900   84014.720306\n",
       "4       0.0  520005       0.000000     27100   20687.478156"
      ]
     },
     "execution_count": 49,
     "metadata": {},
     "output_type": "execute_result"
    }
   ],
   "source": [
    "spend = data[media_spend_list].copy()\n",
    "spend.head()"
   ]
  },
  {
   "cell_type": "code",
   "execution_count": 50,
   "metadata": {},
   "outputs": [],
   "source": [
    "from scipy.optimize import minimize\n",
    "\n",
    "# Total budget constraint\n",
    "total_budget = data[media_spend_list].sum().sum() # Example total budget\n",
    "\n",
    "# Constraints function ensuring the sum of spends equals the total budget\n",
    "constraints = ({'type': 'eq', 'fun': lambda spend: total_budget - sum(spend)})\n",
    "\n",
    "# Bounds for each channel (e.g., min and max spend for each)\n",
    "bounds = [(0, total_budget) for _ in media_spend_list]  # Example bounds\n",
    "\n",
    "decay_rate = best_model_decay_rate\n",
    "threshold = 0.1\n",
    "t = round(math.log(threshold) / math.log(decay_rate))"
   ]
  },
  {
   "cell_type": "code",
   "execution_count": null,
   "metadata": {},
   "outputs": [],
   "source": [
    "# Initial guess (e.g., evenly distribute the total budget across channels)\n",
    "initial_guess = [total_budget / len(media_spend_list) for _ in media_spend_list]\n",
    "\n",
    "# Run the optimization\n",
    "result = minimize(fun=objective, x0=initial_guess, constraints=constraints, bounds=bounds, method='SLSQP')\n",
    "\n",
    "# Check the optimal spends found\n",
    "if result.success:\n",
    "    optimal_spends = result.x\n",
    "    print(\"Optimal spends by media channel:\", optimal_spends)\n",
    "    # Calculate the predicted revenue with the optimal spends\n",
    "    optimal_revenue = -result.fun\n",
    "    # Print the predicted revenue with the optimal spends\n",
    "    print(f\"Predicted revenue with optimal media spend:, {optimal_revenue:,}\")\n",
    "    # print the original media spend\n",
    "    print(\"Original media spend: spend.sum().values[0]\")\n",
    "    # print the predicted revenue with the original media spend\n",
    "    print(f\"Predicted revenue with original media spend: {objective(spend.sum().values):,}\")\n",
    "    # print the actual revenue with the original media spend\n",
    "    print(f\"Actual revenue with original media spend: {data['revenue'].sum():,}\")\n",
    "    # print the difference between the original and optimal revenue\n",
    "    print(\"Revenue difference:\", optimal_revenue - objective(spend.sum().values))\n",
    "else:\n",
    "    print(\"Optimization was not successful. Reason:\", result.message)\n"
   ]
  },
  {
   "cell_type": "code",
   "execution_count": null,
   "metadata": {},
   "outputs": [],
   "source": []
  }
 ],
 "metadata": {
  "kernelspec": {
   "display_name": "Python 3",
   "language": "python",
   "name": "python3"
  },
  "language_info": {
   "codemirror_mode": {
    "name": "ipython",
    "version": 3
   },
   "file_extension": ".py",
   "mimetype": "text/x-python",
   "name": "python",
   "nbconvert_exporter": "python",
   "pygments_lexer": "ipython3",
   "version": "3.10.11"
  },
  "widgets": {
   "application/vnd.jupyter.widget-state+json": {
    "state": {},
    "version_major": 2,
    "version_minor": 0
   }
  }
 },
 "nbformat": 4,
 "nbformat_minor": 4
}
