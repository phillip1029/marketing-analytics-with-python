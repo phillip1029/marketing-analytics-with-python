{
 "cells": [
  {
   "cell_type": "markdown",
   "metadata": {},
   "source": [
    "# Chapter 9 Marketing Media Mix Optimization"
   ]
  },
  {
   "cell_type": "markdown",
   "metadata": {},
   "source": [
    "## 9.1 **Introduction**\n",
    "\n",
    "In today's rapidly evolving marketing landscape, the ability to quantify the impact of each dollar spent across various channels is more crucial than ever. Media Mix Modeling (MMM) stands at the forefront of data-driven marketing strategies, offering a sophisticated analytical approach that dissects the performance of each marketing channel in isolation and in synergy. By employing statistical models that incorporate sales data, marketing expenditures, and external factors, MMM provides a comprehensive overview of marketing performance, allowing marketers to understand the effectiveness of their advertising expenditures.\n",
    "\n",
    "The essence of MMM lies in its ability to not only retrospectively analyze past performance but also to predict how adjustments in the marketing mix can influence future outcomes. This dual capability makes it an invaluable tool for marketers aiming to optimize their strategies in alignment with business objectives, whether it's increasing overall sales, enhancing brand awareness, or achieving a higher return on investment (ROI).\n",
    "\n",
    "### 9.1.1 The Importance of MMM in the Modern Marketing Landscape\n",
    "\n",
    "In an era marked by the proliferation of digital channels and increasingly discerning consumers, MMM offers several advantages. It helps organizations navigate the complexity of the modern marketing ecosystem, where traditional media channels coexist with digital platforms, each offering varying levels of engagement and effectiveness. Moreover, MMM addresses the challenge of attribution, determining which channels are truly driving conversions and to what extent. This enables more effective reallocation of marketing budgets, away from underperforming channels and towards those with a proven impact on sales.\n",
    "\n",
    "### 9.1.2 The Objective of MMM\n",
    "\n",
    "The primary objective of MMM is to decode the contribution of different marketing channels to sales and understand how these channels interact with one another. This involves dissecting the marketing budget to identify the most and least efficient areas of spending. By modeling the relationship between marketing spend and business outcomes, MMM allows for the simulation of different scenarios to forecast future performance. This forward-looking approach aids in budget optimization and strategic planning, enabling marketers to adjust their strategies in anticipation of changing market dynamics and consumer behaviors.\n",
    "\n",
    "Ultimately, MMM serves as a guiding light for marketers, navigating them through the intricacies of planning and optimization in a multi-channel landscape. It stands as a testament to the power of data-driven decision-making, underscoring the shift from intuition-based to evidence-based marketing strategies. As we dive deeper into the nuances of MMM, we will explore its framework, provide a step-by-step guide on building a model using Python, and demonstrate how these insights can be leveraged to achieve marketing excellence."
   ]
  },
  {
   "cell_type": "markdown",
   "metadata": {},
   "source": [
    "## 9.2 **The Basics of Media Mix Modeling**\n",
    "\n",
    "In the dynamic world of marketing, understanding and optimizing the impact of various advertising efforts on sales and brand recognition is an ongoing challenge. Media Mix Modeling (MMM) emerges as a powerful tool for marketers aiming to decode the efficacy of each dollar spent across marketing channels. MMM is a statistical approach that quantifies the relationship between marketing inputs and their outcomes, usually sales or brand awareness, allowing marketers to forecast the impact of future marketing strategies.\n",
    "\n",
    "### 9.2.1 What is Media Mix Modeling?\n",
    "\n",
    "Fundamentally, MMM utilizes regression analysis to gauge the additional effects of diverse marketing initiatives on sales or other critical performance metrics. Through the examination of past data, MMM offers perspectives on the contribution of various components of the marketing mix, such as TV and digital advertising, promotions, and pricing strategies, to the overall effectiveness. This analysis helps marketers understand the effectiveness of each channel and optimize their budgets accordingly.\n",
    "\n",
    "### 9.2.2 The Role of MMM in Data-Driven Marketing Decisions\n",
    "\n",
    "In an era where data plays a crucial role, MMM stands out as a critical tool in the marketer's arsenal. It provides a comprehensive view of marketing effectiveness, capturing the synergies and dynamics between different media channels. By incorporating external factors such as economic conditions, competitor actions, and seasonal trends, MMM offers a nuanced understanding of marketing performance. This holistic approach enables marketers to make informed decisions, allocate resources efficiently, and maximize return on investment (ROI).\n",
    "\n",
    "### 9.2.3 Key Components of MMM\n",
    "\n",
    "Understanding the components that MMM analyzes is essential to grasp its functionality and utility:\n",
    "\n",
    "* **Media Channels**: MMM evaluates both traditional (e.g., TV, radio, print) and digital (e.g., social media, search engine marketing, email) advertising channels. \n",
    "* **External Factors**: These include any variables that might impact sales or marketing effectiveness outside of the company's control, such as economic indicators, weather conditions, and competitive marketing activities. \n",
    "* **Baseline Sales**: This refers to the sales level that would be expected without any marketing activities. Understanding the baseline allows for the measurement of the incremental impact of marketing efforts.\n",
    "\n",
    "### 9.2.4 Brief History and Evolution of MMM\n",
    "\n",
    "The roots of MMM trace back to the early days of econometric modeling in the 1960s, but it was the advent of more sophisticated computing power and data collection methods in the late 20th century that truly unlocked its potential. Originally focused on traditional media channels, the rise of digital marketing has significantly expanded MMM's scope. Today, MMM must navigate a far more complex media landscape, integrating a multitude of digital data sources while addressing challenges like consumer privacy concerns and the diminishing effectiveness of cookies.\n",
    "\n",
    "In conclusion, Media Mix Modeling is an indispensable tool for marketers seeking to navigate the complexities of the modern advertising landscape. By offering a detailed analysis of how various marketing channels and external factors impact sales, MMM empowers businesses to optimize their marketing spend, enhance their strategic planning, and ultimately drive greater ROI. As we delve deeper into this topic, we'll explore the theoretical underpinnings of MMM and how it integrates with broader marketing and econometric theories to provide actionable insights."
   ]
  },
  {
   "cell_type": "markdown",
   "metadata": {},
   "source": [
    "## 9.3 **Understanding the Framework of MMM**\n",
    "\n",
    "Media Mix Modeling (MMM) operates at the intersection of marketing science and statistical analysis, offering a framework that quantifies the impact of marketing strategies on business outcomes. This section explores the theoretical foundations of MMM, its statistical underpinnings, and how it accounts for the complex interplay between various media channels and external factors.\n",
    "\n",
    "### 9.3.1 Theoretical Foundation of MMM\n",
    "\n",
    "The theoretical underpinning of MMM is rooted in econometrics, a branch of economics that applies statistical methods to economic data to provide empirical content to economic relationships. MMM applies these principles to marketing, aiming to understand and quantify the relationships between marketing inputs (expenditures across various channels) and outputs (sales, brand awareness).\n",
    "\n",
    "MMM is grounded in the theory of diminishing returns, a fundamental concept in economics that suggests that as investment in a particular area increases, the marginal gains from that investment will eventually decrease. In marketing, this implies that while initially, investments in a marketing channel might yield significant returns, over time, the effectiveness of additional spending will start to diminish.\n",
    "\n",
    "### 9.3.2 Statistical Methods Used in MMM\n",
    "\n",
    "MMM primarily relies on regression analysis, a statistical technique for estimating the relationships among variables. The general idea is to use historical data to estimate how changes in the marketing mix and external factors affect sales or other dependent variables. The model might take a simple linear form or a more complex one, incorporating interactions between variables to reflect the synergistic effects between different marketing channels.\n",
    "\n",
    "* **Linear Regression**: The most basic form of MMM, where sales are predicted as a function of marketing spend in different channels. It assumes a direct, linear relationship between marketing spend and sales. \n",
    "* **Multiple Regression**: To capture the influence of multiple factors, MMM often uses multiple regression, which can account for various marketing channels and external factors simultaneously. \n",
    "* **Bayesian Methods and Time Series Analysis**: For more sophisticated MMMs, Bayesian methods can incorporate prior knowledge into the analysis, and time series analysis can account for the temporal dynamics and lag effects of marketing efforts.\n",
    "\n",
    "### 9.3.3 Accounting for Diminishing Returns and Synergy\n",
    "\n",
    "A critical aspect of MMM is its ability to account for diminishing returns and the synergistic effects between different marketing channels. Diminishing returns are modeled through nonlinear functions or interaction terms that show how the impact of additional spending decreases over time. For synergy, MMM includes interaction terms between different media investments to capture how the combination of two or more channels can have a greater impact than the sum of their individual effects.\n",
    "\n",
    "* **Diminishing Returns**: Represented by a logarithmic function or a polynomial where, after a certain point, increases in advertising spend yield progressively smaller increases in sales. \n",
    "* **Synergy**: Interaction terms in the regression model represent synergy. For example, an interaction term between online and TV advertising might show that the combined effect of these channels is greater than the sum of their separate impacts.\n",
    "\n",
    "By integrating these complex relationships, MMM provides a nuanced understanding of marketing effectiveness. This analytical framework helps marketers navigate the multifaceted media landscape, making informed decisions about where to allocate their budgets for maximum impact. In the next section, we'll explore how to translate these theoretical and statistical considerations into practice by building a Media Mix Model in Python, step by step."
   ]
  },
  {
   "cell_type": "markdown",
   "metadata": {},
   "source": [
    "## 9.4 Building a Media Mix Model in Python: A Step-by-Step Guide\n",
    "\n",
    "In this section, we will walk through the process of building a basic Media Mix Model (MMM) using Python, leveraging a public dataset. For this exercise, we'll use the \"Advertising\" dataset available from the ISLR package, which is commonly used in statistical learning. This dataset provides a simple yet illustrative example of how advertising expenditures across three different media channels (TV, Radio, and Newspaper) impact sales."
   ]
  },
  {
   "cell_type": "code",
   "execution_count": 574,
   "metadata": {},
   "outputs": [
    {
     "name": "stdout",
     "output_type": "stream",
     "text": [
      "(208, 10)\n"
     ]
    },
    {
     "data": {
      "text/html": [
       "<div>\n",
       "<style scoped>\n",
       "    .dataframe tbody tr th:only-of-type {\n",
       "        vertical-align: middle;\n",
       "    }\n",
       "\n",
       "    .dataframe tbody tr th {\n",
       "        vertical-align: top;\n",
       "    }\n",
       "\n",
       "    .dataframe thead th {\n",
       "        text-align: right;\n",
       "    }\n",
       "</style>\n",
       "<table border=\"1\" class=\"dataframe\">\n",
       "  <thead>\n",
       "    <tr style=\"text-align: right;\">\n",
       "      <th></th>\n",
       "      <th>DATE</th>\n",
       "      <th>revenue</th>\n",
       "      <th>tv_S</th>\n",
       "      <th>ooh_S</th>\n",
       "      <th>print_S</th>\n",
       "      <th>facebook_I</th>\n",
       "      <th>search_clicks_P</th>\n",
       "      <th>search_S</th>\n",
       "      <th>competitor_sales_B</th>\n",
       "      <th>facebook_S</th>\n",
       "    </tr>\n",
       "  </thead>\n",
       "  <tbody>\n",
       "    <tr>\n",
       "      <th>0</th>\n",
       "      <td>2015-11-23</td>\n",
       "      <td>2.754372e+06</td>\n",
       "      <td>167687.6</td>\n",
       "      <td>0</td>\n",
       "      <td>95463.666667</td>\n",
       "      <td>7.290385e+07</td>\n",
       "      <td>0.000000</td>\n",
       "      <td>0</td>\n",
       "      <td>8125009</td>\n",
       "      <td>228213.987444</td>\n",
       "    </tr>\n",
       "    <tr>\n",
       "      <th>1</th>\n",
       "      <td>2015-11-30</td>\n",
       "      <td>2.584277e+06</td>\n",
       "      <td>214600.9</td>\n",
       "      <td>0</td>\n",
       "      <td>0.000000</td>\n",
       "      <td>1.658110e+07</td>\n",
       "      <td>29511.715457</td>\n",
       "      <td>31000</td>\n",
       "      <td>7901549</td>\n",
       "      <td>34258.573511</td>\n",
       "    </tr>\n",
       "    <tr>\n",
       "      <th>2</th>\n",
       "      <td>2015-12-07</td>\n",
       "      <td>2.547387e+06</td>\n",
       "      <td>0.0</td>\n",
       "      <td>248022</td>\n",
       "      <td>3404.000000</td>\n",
       "      <td>4.995477e+07</td>\n",
       "      <td>36132.358958</td>\n",
       "      <td>28400</td>\n",
       "      <td>8300197</td>\n",
       "      <td>127691.261335</td>\n",
       "    </tr>\n",
       "    <tr>\n",
       "      <th>3</th>\n",
       "      <td>2015-12-14</td>\n",
       "      <td>2.875220e+06</td>\n",
       "      <td>625877.3</td>\n",
       "      <td>0</td>\n",
       "      <td>132600.000000</td>\n",
       "      <td>3.164930e+07</td>\n",
       "      <td>36804.210958</td>\n",
       "      <td>31900</td>\n",
       "      <td>8122883</td>\n",
       "      <td>84014.720306</td>\n",
       "    </tr>\n",
       "    <tr>\n",
       "      <th>4</th>\n",
       "      <td>2015-12-21</td>\n",
       "      <td>2.215953e+06</td>\n",
       "      <td>0.0</td>\n",
       "      <td>520005</td>\n",
       "      <td>0.000000</td>\n",
       "      <td>8.802269e+06</td>\n",
       "      <td>28401.744069</td>\n",
       "      <td>27100</td>\n",
       "      <td>7105985</td>\n",
       "      <td>20687.478156</td>\n",
       "    </tr>\n",
       "  </tbody>\n",
       "</table>\n",
       "</div>"
      ],
      "text/plain": [
       "         DATE       revenue      tv_S   ooh_S        print_S    facebook_I  \\\n",
       "0  2015-11-23  2.754372e+06  167687.6       0   95463.666667  7.290385e+07   \n",
       "1  2015-11-30  2.584277e+06  214600.9       0       0.000000  1.658110e+07   \n",
       "2  2015-12-07  2.547387e+06       0.0  248022    3404.000000  4.995477e+07   \n",
       "3  2015-12-14  2.875220e+06  625877.3       0  132600.000000  3.164930e+07   \n",
       "4  2015-12-21  2.215953e+06       0.0  520005       0.000000  8.802269e+06   \n",
       "\n",
       "   search_clicks_P  search_S  competitor_sales_B     facebook_S  \n",
       "0         0.000000         0             8125009  228213.987444  \n",
       "1     29511.715457     31000             7901549   34258.573511  \n",
       "2     36132.358958     28400             8300197  127691.261335  \n",
       "3     36804.210958     31900             8122883   84014.720306  \n",
       "4     28401.744069     27100             7105985   20687.478156  "
      ]
     },
     "execution_count": 574,
     "metadata": {},
     "output_type": "execute_result"
    }
   ],
   "source": [
    "import pandas as pd\n",
    "import statsmodels.api as sm\n",
    "import matplotlib.pyplot as plt\n",
    "import math\n",
    "from utils import *\n",
    "\n",
    "# compress the warning messages\n",
    "import warnings\n",
    "warnings.filterwarnings(\"ignore\")\n",
    "\n",
    "# Load the dataset\n",
    "data = pd.read_csv(\"data/Chapter9_mmm.csv\")\n",
    "print(data.shape)\n",
    "data.head()"
   ]
  },
  {
   "cell_type": "code",
   "execution_count": 504,
   "metadata": {},
   "outputs": [],
   "source": [
    "# trim the column names \n",
    "data.columns = data.columns.str.strip().str.lower().str.replace(' ', '_').str.replace('(', '').str.replace(')', '')"
   ]
  },
  {
   "cell_type": "code",
   "execution_count": 505,
   "metadata": {},
   "outputs": [
    {
     "name": "stdout",
     "output_type": "stream",
     "text": [
      "<class 'pandas.core.frame.DataFrame'>\n",
      "RangeIndex: 208 entries, 0 to 207\n",
      "Data columns (total 10 columns):\n",
      " #   Column              Non-Null Count  Dtype  \n",
      "---  ------              --------------  -----  \n",
      " 0   date                208 non-null    object \n",
      " 1   revenue             208 non-null    float64\n",
      " 2   tv_s                208 non-null    float64\n",
      " 3   ooh_s               208 non-null    int64  \n",
      " 4   print_s             208 non-null    float64\n",
      " 5   facebook_i          208 non-null    float64\n",
      " 6   search_clicks_p     208 non-null    float64\n",
      " 7   search_s            208 non-null    int64  \n",
      " 8   competitor_sales_b  208 non-null    int64  \n",
      " 9   facebook_s          208 non-null    float64\n",
      "dtypes: float64(6), int64(3), object(1)\n",
      "memory usage: 16.4+ KB\n"
     ]
    }
   ],
   "source": [
    "data.info()"
   ]
  },
  {
   "cell_type": "code",
   "execution_count": 506,
   "metadata": {},
   "outputs": [
    {
     "data": {
      "text/plain": [
       "date                  0\n",
       "revenue               0\n",
       "tv_s                  0\n",
       "ooh_s                 0\n",
       "print_s               0\n",
       "facebook_i            0\n",
       "search_clicks_p       0\n",
       "search_s              0\n",
       "competitor_sales_b    0\n",
       "facebook_s            0\n",
       "dtype: int64"
      ]
     },
     "execution_count": 506,
     "metadata": {},
     "output_type": "execute_result"
    }
   ],
   "source": [
    "data.isnull().sum()"
   ]
  },
  {
   "cell_type": "markdown",
   "metadata": {},
   "source": [
    "* Feature engineering\n",
    " - adstock effects\n",
    " - interaction terms"
   ]
  },
  {
   "cell_type": "code",
   "execution_count": 507,
   "metadata": {},
   "outputs": [
    {
     "name": "stdout",
     "output_type": "stream",
     "text": [
      "(208, 7)\n"
     ]
    }
   ],
   "source": [
    "# adstocking the media spend\n",
    "media_spend_list = ['tv_s', 'ooh_s', 'print_s', 'search_s', 'facebook_s']\n",
    "\n",
    "df_adstock = data.drop(columns = ['facebook_i', 'search_clicks_p', 'competitor_sales_b']).copy()\n",
    "for media in media_spend_list:\n",
    "    df_adstock[media] = apply_adstock(df_adstock[media])\n",
    "print(df_adstock.shape)   \n"
   ]
  },
  {
   "cell_type": "code",
   "execution_count": 508,
   "metadata": {},
   "outputs": [
    {
     "data": {
      "text/plain": [
       "4"
      ]
     },
     "execution_count": 508,
     "metadata": {},
     "output_type": "execute_result"
    }
   ],
   "source": [
    "import math\n",
    "\n",
    "decay_rate = 0.5  # Example decay rate\n",
    "threshold = 0.05  # 5% threshold\n",
    "\n",
    "t = round(math.log(threshold) / math.log(decay_rate))\n",
    "t\n"
   ]
  },
  {
   "cell_type": "code",
   "execution_count": 509,
   "metadata": {},
   "outputs": [
    {
     "name": "stdout",
     "output_type": "stream",
     "text": [
      "(204, 7)\n"
     ]
    }
   ],
   "source": [
    "# exclude the first t rows\n",
    "df_adstock = df_adstock.iloc[t:]\n",
    "print(df_adstock.shape) "
   ]
  },
  {
   "cell_type": "markdown",
   "metadata": {},
   "source": [
    "* create the interaction terms. \n",
    "* Do not need to scale the columns as all the columns are media spending in dollars."
   ]
  },
  {
   "cell_type": "code",
   "execution_count": 510,
   "metadata": {},
   "outputs": [],
   "source": [
    "# add interaction terms of medias in media_spend_list\n",
    "for i, media1 in enumerate(media_spend_list):\n",
    "    for j, media2 in enumerate(media_spend_list):\n",
    "        if i < j:\n",
    "            df_adstock[media1 + '_x_' + media2] = df_adstock[media1] * df_adstock[media2]\n"
   ]
  },
  {
   "cell_type": "code",
   "execution_count": 511,
   "metadata": {},
   "outputs": [
    {
     "data": {
      "text/html": [
       "<div>\n",
       "<style scoped>\n",
       "    .dataframe tbody tr th:only-of-type {\n",
       "        vertical-align: middle;\n",
       "    }\n",
       "\n",
       "    .dataframe tbody tr th {\n",
       "        vertical-align: top;\n",
       "    }\n",
       "\n",
       "    .dataframe thead th {\n",
       "        text-align: right;\n",
       "    }\n",
       "</style>\n",
       "<table border=\"1\" class=\"dataframe\">\n",
       "  <thead>\n",
       "    <tr style=\"text-align: right;\">\n",
       "      <th></th>\n",
       "      <th>date</th>\n",
       "      <th>revenue</th>\n",
       "      <th>tv_s</th>\n",
       "      <th>ooh_s</th>\n",
       "      <th>print_s</th>\n",
       "      <th>search_s</th>\n",
       "      <th>facebook_s</th>\n",
       "      <th>tv_s_x_ooh_s</th>\n",
       "      <th>tv_s_x_print_s</th>\n",
       "      <th>tv_s_x_search_s</th>\n",
       "      <th>tv_s_x_facebook_s</th>\n",
       "      <th>ooh_s_x_print_s</th>\n",
       "      <th>ooh_s_x_search_s</th>\n",
       "      <th>ooh_s_x_facebook_s</th>\n",
       "      <th>print_s_x_search_s</th>\n",
       "      <th>print_s_x_facebook_s</th>\n",
       "      <th>search_s_x_facebook_s</th>\n",
       "    </tr>\n",
       "  </thead>\n",
       "  <tbody>\n",
       "    <tr>\n",
       "      <th>4</th>\n",
       "      <td>2015-12-21</td>\n",
       "      <td>2.215953e+06</td>\n",
       "      <td>350244.237500</td>\n",
       "      <td>582010.50000</td>\n",
       "      <td>73117.479167</td>\n",
       "      <td>54025.0000</td>\n",
       "      <td>113163.349546</td>\n",
       "      <td>2.038458e+11</td>\n",
       "      <td>2.560898e+10</td>\n",
       "      <td>1.892194e+10</td>\n",
       "      <td>3.963481e+10</td>\n",
       "      <td>4.255514e+10</td>\n",
       "      <td>3.144312e+10</td>\n",
       "      <td>6.586226e+10</td>\n",
       "      <td>3.950172e+09</td>\n",
       "      <td>8.274219e+09</td>\n",
       "      <td>6.113650e+09</td>\n",
       "    </tr>\n",
       "    <tr>\n",
       "      <th>5</th>\n",
       "      <td>2015-12-28</td>\n",
       "      <td>2.569922e+06</td>\n",
       "      <td>424311.918750</td>\n",
       "      <td>291005.25000</td>\n",
       "      <td>275976.072917</td>\n",
       "      <td>55312.5000</td>\n",
       "      <td>216691.829975</td>\n",
       "      <td>1.234770e+11</td>\n",
       "      <td>1.170999e+11</td>\n",
       "      <td>2.346975e+10</td>\n",
       "      <td>9.194493e+10</td>\n",
       "      <td>8.031049e+10</td>\n",
       "      <td>1.609623e+10</td>\n",
       "      <td>6.305846e+10</td>\n",
       "      <td>1.526493e+10</td>\n",
       "      <td>5.980176e+10</td>\n",
       "      <td>1.198577e+10</td>\n",
       "    </tr>\n",
       "    <tr>\n",
       "      <th>6</th>\n",
       "      <td>2016-01-04</td>\n",
       "      <td>2.171507e+06</td>\n",
       "      <td>217308.859375</td>\n",
       "      <td>570665.62500</td>\n",
       "      <td>137988.036458</td>\n",
       "      <td>55456.2500</td>\n",
       "      <td>217036.281974</td>\n",
       "      <td>1.240107e+11</td>\n",
       "      <td>2.998602e+10</td>\n",
       "      <td>1.205113e+10</td>\n",
       "      <td>4.716391e+10</td>\n",
       "      <td>7.874503e+10</td>\n",
       "      <td>3.164698e+10</td>\n",
       "      <td>1.238551e+11</td>\n",
       "      <td>7.652299e+09</td>\n",
       "      <td>2.994841e+10</td>\n",
       "      <td>1.203602e+10</td>\n",
       "    </tr>\n",
       "    <tr>\n",
       "      <th>7</th>\n",
       "      <td>2016-01-11</td>\n",
       "      <td>2.464132e+06</td>\n",
       "      <td>130796.129687</td>\n",
       "      <td>285332.81250</td>\n",
       "      <td>245853.684896</td>\n",
       "      <td>59728.1250</td>\n",
       "      <td>232412.625582</td>\n",
       "      <td>3.732043e+10</td>\n",
       "      <td>3.215671e+10</td>\n",
       "      <td>7.812208e+09</td>\n",
       "      <td>3.039867e+10</td>\n",
       "      <td>7.015012e+10</td>\n",
       "      <td>1.704239e+10</td>\n",
       "      <td>6.631495e+10</td>\n",
       "      <td>1.468438e+10</td>\n",
       "      <td>5.713950e+10</td>\n",
       "      <td>1.388157e+10</td>\n",
       "    </tr>\n",
       "    <tr>\n",
       "      <th>8</th>\n",
       "      <td>2016-01-18</td>\n",
       "      <td>2.012520e+06</td>\n",
       "      <td>65398.064844</td>\n",
       "      <td>142666.40625</td>\n",
       "      <td>122926.842448</td>\n",
       "      <td>52764.0625</td>\n",
       "      <td>224896.679777</td>\n",
       "      <td>9.330107e+09</td>\n",
       "      <td>8.039178e+09</td>\n",
       "      <td>3.450668e+09</td>\n",
       "      <td>1.470781e+10</td>\n",
       "      <td>1.753753e+10</td>\n",
       "      <td>7.527659e+09</td>\n",
       "      <td>3.208520e+10</td>\n",
       "      <td>6.486120e+09</td>\n",
       "      <td>2.764584e+10</td>\n",
       "      <td>1.186646e+10</td>\n",
       "    </tr>\n",
       "  </tbody>\n",
       "</table>\n",
       "</div>"
      ],
      "text/plain": [
       "         date       revenue           tv_s         ooh_s        print_s  \\\n",
       "4  2015-12-21  2.215953e+06  350244.237500  582010.50000   73117.479167   \n",
       "5  2015-12-28  2.569922e+06  424311.918750  291005.25000  275976.072917   \n",
       "6  2016-01-04  2.171507e+06  217308.859375  570665.62500  137988.036458   \n",
       "7  2016-01-11  2.464132e+06  130796.129687  285332.81250  245853.684896   \n",
       "8  2016-01-18  2.012520e+06   65398.064844  142666.40625  122926.842448   \n",
       "\n",
       "     search_s     facebook_s  tv_s_x_ooh_s  tv_s_x_print_s  tv_s_x_search_s  \\\n",
       "4  54025.0000  113163.349546  2.038458e+11    2.560898e+10     1.892194e+10   \n",
       "5  55312.5000  216691.829975  1.234770e+11    1.170999e+11     2.346975e+10   \n",
       "6  55456.2500  217036.281974  1.240107e+11    2.998602e+10     1.205113e+10   \n",
       "7  59728.1250  232412.625582  3.732043e+10    3.215671e+10     7.812208e+09   \n",
       "8  52764.0625  224896.679777  9.330107e+09    8.039178e+09     3.450668e+09   \n",
       "\n",
       "   tv_s_x_facebook_s  ooh_s_x_print_s  ooh_s_x_search_s  ooh_s_x_facebook_s  \\\n",
       "4       3.963481e+10     4.255514e+10      3.144312e+10        6.586226e+10   \n",
       "5       9.194493e+10     8.031049e+10      1.609623e+10        6.305846e+10   \n",
       "6       4.716391e+10     7.874503e+10      3.164698e+10        1.238551e+11   \n",
       "7       3.039867e+10     7.015012e+10      1.704239e+10        6.631495e+10   \n",
       "8       1.470781e+10     1.753753e+10      7.527659e+09        3.208520e+10   \n",
       "\n",
       "   print_s_x_search_s  print_s_x_facebook_s  search_s_x_facebook_s  \n",
       "4        3.950172e+09          8.274219e+09           6.113650e+09  \n",
       "5        1.526493e+10          5.980176e+10           1.198577e+10  \n",
       "6        7.652299e+09          2.994841e+10           1.203602e+10  \n",
       "7        1.468438e+10          5.713950e+10           1.388157e+10  \n",
       "8        6.486120e+09          2.764584e+10           1.186646e+10  "
      ]
     },
     "execution_count": 511,
     "metadata": {},
     "output_type": "execute_result"
    }
   ],
   "source": [
    "df_adstock.head()"
   ]
  },
  {
   "cell_type": "code",
   "execution_count": 512,
   "metadata": {},
   "outputs": [
    {
     "name": "stdout",
     "output_type": "stream",
     "text": [
      "['tv_s', 'ooh_s', 'print_s', 'search_s', 'facebook_s']\n",
      "['tv_s_x_ooh_s', 'tv_s_x_print_s', 'tv_s_x_search_s', 'tv_s_x_facebook_s', 'ooh_s_x_print_s', 'ooh_s_x_search_s', 'ooh_s_x_facebook_s', 'print_s_x_search_s', 'print_s_x_facebook_s', 'search_s_x_facebook_s']\n",
      "['date', 'revenue', 'tv_s_x_ooh_s', 'tv_s_x_print_s', 'tv_s_x_search_s', 'tv_s_x_facebook_s', 'ooh_s_x_print_s', 'ooh_s_x_search_s', 'ooh_s_x_facebook_s', 'print_s_x_search_s', 'print_s_x_facebook_s', 'search_s_x_facebook_s']\n"
     ]
    }
   ],
   "source": [
    "# list of features ending with '_s'\n",
    "features_spend_list = [col for col in data.columns if col.endswith('_s')]\n",
    "print(features_spend_list)\n",
    "# list of interaction terms\n",
    "features_interaction_list = [col for col in df_adstock.columns if '_x_' in col]\n",
    "print(features_interaction_list)\n",
    "# features_notspend_list\n",
    "features_notspend_list = [col for col in df_adstock.columns if col not in features_spend_list]\n",
    "print(features_notspend_list)\n"
   ]
  },
  {
   "cell_type": "code",
   "execution_count": 513,
   "metadata": {},
   "outputs": [
    {
     "data": {
      "text/html": [
       "<div>\n",
       "<style scoped>\n",
       "    .dataframe tbody tr th:only-of-type {\n",
       "        vertical-align: middle;\n",
       "    }\n",
       "\n",
       "    .dataframe tbody tr th {\n",
       "        vertical-align: top;\n",
       "    }\n",
       "\n",
       "    .dataframe thead th {\n",
       "        text-align: right;\n",
       "    }\n",
       "</style>\n",
       "<table border=\"1\" class=\"dataframe\">\n",
       "  <thead>\n",
       "    <tr style=\"text-align: right;\">\n",
       "      <th></th>\n",
       "      <th>date</th>\n",
       "      <th>revenue</th>\n",
       "      <th>tv_s</th>\n",
       "      <th>ooh_s</th>\n",
       "      <th>print_s</th>\n",
       "      <th>search_s</th>\n",
       "      <th>facebook_s</th>\n",
       "      <th>tv_s_x_ooh_s</th>\n",
       "      <th>tv_s_x_print_s</th>\n",
       "      <th>tv_s_x_search_s</th>\n",
       "      <th>...</th>\n",
       "      <th>month_3</th>\n",
       "      <th>month_4</th>\n",
       "      <th>month_5</th>\n",
       "      <th>month_6</th>\n",
       "      <th>month_7</th>\n",
       "      <th>month_8</th>\n",
       "      <th>month_9</th>\n",
       "      <th>month_10</th>\n",
       "      <th>month_11</th>\n",
       "      <th>month_12</th>\n",
       "    </tr>\n",
       "  </thead>\n",
       "  <tbody>\n",
       "    <tr>\n",
       "      <th>4</th>\n",
       "      <td>2015-12-21</td>\n",
       "      <td>2.215953e+06</td>\n",
       "      <td>350244.237500</td>\n",
       "      <td>582010.50000</td>\n",
       "      <td>73117.479167</td>\n",
       "      <td>54025.0000</td>\n",
       "      <td>113163.349546</td>\n",
       "      <td>2.038458e+11</td>\n",
       "      <td>2.560898e+10</td>\n",
       "      <td>1.892194e+10</td>\n",
       "      <td>...</td>\n",
       "      <td>0</td>\n",
       "      <td>0</td>\n",
       "      <td>0</td>\n",
       "      <td>0</td>\n",
       "      <td>0</td>\n",
       "      <td>0</td>\n",
       "      <td>0</td>\n",
       "      <td>0</td>\n",
       "      <td>0</td>\n",
       "      <td>1</td>\n",
       "    </tr>\n",
       "    <tr>\n",
       "      <th>5</th>\n",
       "      <td>2015-12-28</td>\n",
       "      <td>2.569922e+06</td>\n",
       "      <td>424311.918750</td>\n",
       "      <td>291005.25000</td>\n",
       "      <td>275976.072917</td>\n",
       "      <td>55312.5000</td>\n",
       "      <td>216691.829975</td>\n",
       "      <td>1.234770e+11</td>\n",
       "      <td>1.170999e+11</td>\n",
       "      <td>2.346975e+10</td>\n",
       "      <td>...</td>\n",
       "      <td>0</td>\n",
       "      <td>0</td>\n",
       "      <td>0</td>\n",
       "      <td>0</td>\n",
       "      <td>0</td>\n",
       "      <td>0</td>\n",
       "      <td>0</td>\n",
       "      <td>0</td>\n",
       "      <td>0</td>\n",
       "      <td>1</td>\n",
       "    </tr>\n",
       "    <tr>\n",
       "      <th>6</th>\n",
       "      <td>2016-01-04</td>\n",
       "      <td>2.171507e+06</td>\n",
       "      <td>217308.859375</td>\n",
       "      <td>570665.62500</td>\n",
       "      <td>137988.036458</td>\n",
       "      <td>55456.2500</td>\n",
       "      <td>217036.281974</td>\n",
       "      <td>1.240107e+11</td>\n",
       "      <td>2.998602e+10</td>\n",
       "      <td>1.205113e+10</td>\n",
       "      <td>...</td>\n",
       "      <td>0</td>\n",
       "      <td>0</td>\n",
       "      <td>0</td>\n",
       "      <td>0</td>\n",
       "      <td>0</td>\n",
       "      <td>0</td>\n",
       "      <td>0</td>\n",
       "      <td>0</td>\n",
       "      <td>0</td>\n",
       "      <td>0</td>\n",
       "    </tr>\n",
       "    <tr>\n",
       "      <th>7</th>\n",
       "      <td>2016-01-11</td>\n",
       "      <td>2.464132e+06</td>\n",
       "      <td>130796.129687</td>\n",
       "      <td>285332.81250</td>\n",
       "      <td>245853.684896</td>\n",
       "      <td>59728.1250</td>\n",
       "      <td>232412.625582</td>\n",
       "      <td>3.732043e+10</td>\n",
       "      <td>3.215671e+10</td>\n",
       "      <td>7.812208e+09</td>\n",
       "      <td>...</td>\n",
       "      <td>0</td>\n",
       "      <td>0</td>\n",
       "      <td>0</td>\n",
       "      <td>0</td>\n",
       "      <td>0</td>\n",
       "      <td>0</td>\n",
       "      <td>0</td>\n",
       "      <td>0</td>\n",
       "      <td>0</td>\n",
       "      <td>0</td>\n",
       "    </tr>\n",
       "    <tr>\n",
       "      <th>8</th>\n",
       "      <td>2016-01-18</td>\n",
       "      <td>2.012520e+06</td>\n",
       "      <td>65398.064844</td>\n",
       "      <td>142666.40625</td>\n",
       "      <td>122926.842448</td>\n",
       "      <td>52764.0625</td>\n",
       "      <td>224896.679777</td>\n",
       "      <td>9.330107e+09</td>\n",
       "      <td>8.039178e+09</td>\n",
       "      <td>3.450668e+09</td>\n",
       "      <td>...</td>\n",
       "      <td>0</td>\n",
       "      <td>0</td>\n",
       "      <td>0</td>\n",
       "      <td>0</td>\n",
       "      <td>0</td>\n",
       "      <td>0</td>\n",
       "      <td>0</td>\n",
       "      <td>0</td>\n",
       "      <td>0</td>\n",
       "      <td>0</td>\n",
       "    </tr>\n",
       "  </tbody>\n",
       "</table>\n",
       "<p>5 rows × 28 columns</p>\n",
       "</div>"
      ],
      "text/plain": [
       "         date       revenue           tv_s         ooh_s        print_s  \\\n",
       "4  2015-12-21  2.215953e+06  350244.237500  582010.50000   73117.479167   \n",
       "5  2015-12-28  2.569922e+06  424311.918750  291005.25000  275976.072917   \n",
       "6  2016-01-04  2.171507e+06  217308.859375  570665.62500  137988.036458   \n",
       "7  2016-01-11  2.464132e+06  130796.129687  285332.81250  245853.684896   \n",
       "8  2016-01-18  2.012520e+06   65398.064844  142666.40625  122926.842448   \n",
       "\n",
       "     search_s     facebook_s  tv_s_x_ooh_s  tv_s_x_print_s  tv_s_x_search_s  \\\n",
       "4  54025.0000  113163.349546  2.038458e+11    2.560898e+10     1.892194e+10   \n",
       "5  55312.5000  216691.829975  1.234770e+11    1.170999e+11     2.346975e+10   \n",
       "6  55456.2500  217036.281974  1.240107e+11    2.998602e+10     1.205113e+10   \n",
       "7  59728.1250  232412.625582  3.732043e+10    3.215671e+10     7.812208e+09   \n",
       "8  52764.0625  224896.679777  9.330107e+09    8.039178e+09     3.450668e+09   \n",
       "\n",
       "   ...  month_3  month_4  month_5  month_6  month_7  month_8  month_9  \\\n",
       "4  ...        0        0        0        0        0        0        0   \n",
       "5  ...        0        0        0        0        0        0        0   \n",
       "6  ...        0        0        0        0        0        0        0   \n",
       "7  ...        0        0        0        0        0        0        0   \n",
       "8  ...        0        0        0        0        0        0        0   \n",
       "\n",
       "   month_10  month_11  month_12  \n",
       "4         0         0         1  \n",
       "5         0         0         1  \n",
       "6         0         0         0  \n",
       "7         0         0         0  \n",
       "8         0         0         0  \n",
       "\n",
       "[5 rows x 28 columns]"
      ]
     },
     "execution_count": 513,
     "metadata": {},
     "output_type": "execute_result"
    }
   ],
   "source": [
    "# create month feature from 'date'\n",
    "df_adstock['month'] = pd.to_datetime(df_adstock['date']).dt.month\n",
    "# create dummy variables for 'month'\n",
    "df_adstock = pd.get_dummies(df_adstock, columns=['month'], drop_first=True)\n",
    "df_adstock.head()\n"
   ]
  },
  {
   "cell_type": "code",
   "execution_count": 514,
   "metadata": {},
   "outputs": [],
   "source": [
    "# Predictor variables with adstock and interaction terms\n",
    "X = df_adstock.drop(columns=['date', 'revenue'])\n",
    "y = df_adstock['revenue']  # Response variable\n",
    "X = sm.add_constant(X)  # Adds a constant term to the predictor"
   ]
  },
  {
   "cell_type": "code",
   "execution_count": 515,
   "metadata": {},
   "outputs": [
    {
     "data": {
      "text/plain": [
       "(204, 27)"
      ]
     },
     "execution_count": 515,
     "metadata": {},
     "output_type": "execute_result"
    }
   ],
   "source": [
    "X.shape"
   ]
  },
  {
   "cell_type": "code",
   "execution_count": 516,
   "metadata": {},
   "outputs": [
    {
     "data": {
      "text/plain": [
       "Index(['const', 'tv_s', 'ooh_s', 'print_s', 'search_s', 'facebook_s',\n",
       "       'tv_s_x_ooh_s', 'tv_s_x_print_s', 'tv_s_x_search_s',\n",
       "       'tv_s_x_facebook_s', 'ooh_s_x_print_s', 'ooh_s_x_search_s',\n",
       "       'ooh_s_x_facebook_s', 'print_s_x_search_s', 'print_s_x_facebook_s',\n",
       "       'search_s_x_facebook_s', 'month_2', 'month_3', 'month_4', 'month_5',\n",
       "       'month_6', 'month_7', 'month_8', 'month_9', 'month_10', 'month_11',\n",
       "       'month_12'],\n",
       "      dtype='object')"
      ]
     },
     "execution_count": 516,
     "metadata": {},
     "output_type": "execute_result"
    }
   ],
   "source": [
    "X.columns"
   ]
  },
  {
   "cell_type": "markdown",
   "metadata": {},
   "source": [
    "* Model Training"
   ]
  },
  {
   "cell_type": "code",
   "execution_count": 517,
   "metadata": {},
   "outputs": [],
   "source": [
    "from sklearn.model_selection import train_test_split\n",
    "from sklearn.metrics import r2_score, mean_absolute_error, mean_squared_error"
   ]
  },
  {
   "cell_type": "code",
   "execution_count": 518,
   "metadata": {},
   "outputs": [
    {
     "data": {
      "text/plain": [
       "(41, 27)"
      ]
     },
     "execution_count": 518,
     "metadata": {},
     "output_type": "execute_result"
    }
   ],
   "source": [
    "X_train, X_test, y_train, y_test = train_test_split(X, y, random_state=0, train_size=0.8)\n",
    "\n",
    "X_test.shape\n"
   ]
  },
  {
   "cell_type": "code",
   "execution_count": 519,
   "metadata": {},
   "outputs": [],
   "source": [
    "# build more complex models\n",
    "import xgboost\n",
    " \n",
    "from sklearn.ensemble import AdaBoostRegressor\n",
    "from xgboost.sklearn import XGBRegressor \n",
    "from sklearn.ensemble import RandomForestRegressor, GradientBoostingRegressor\n",
    "from sklearn.tree import DecisionTreeRegressor\n",
    "from sklearn import neighbors\n",
    "from sklearn.linear_model import LinearRegression\n",
    "\n",
    "ada = AdaBoostRegressor()\n",
    "xgb = XGBRegressor()\n",
    "rfr = RandomForestRegressor()\n",
    "dtr = DecisionTreeRegressor()\n",
    "gbr = GradientBoostingRegressor()\n",
    "knn = neighbors.KNeighborsRegressor() \n",
    "lr = LinearRegression()\n",
    "names = [\"LinearRegression\", \"AdaBoostRegressor\",\"XGBRegressor\",\"RandomForestRegressor\",\"DecisionTreeRegressor\",\n",
    "        \"GradientBoostingRegressor\",\"KNeighborsRegressor\"]\n",
    "models = [lr, ada, xgb, rfr, dtr, gbr, knn]\n"
   ]
  },
  {
   "cell_type": "code",
   "execution_count": 571,
   "metadata": {},
   "outputs": [],
   "source": [
    "def train_models(models, names, X_train, y_train, X_test, y_test):\n",
    "    metrics = []\n",
    "    for name, model in zip(names, models):\n",
    "        model = model.fit(X_train, y_train)\n",
    "        \n",
    "        # Predict the test data\n",
    "        y_pred = model.predict(X_test)\n",
    "\n",
    "        # Calculate the R-squared, MAE, and RMSE\n",
    "        r2 = r2_score(y_test, y_pred).round(3)\n",
    "        mae = mean_absolute_error(y_test, y_pred).round(3)\n",
    "        rmse = mean_squared_error(y_test, y_pred, squared=False).round(3)\n",
    "        \n",
    "        metrics.append((name, r2, mae, rmse))\n",
    "        \n",
    "    return models, metrics"
   ]
  },
  {
   "cell_type": "code",
   "execution_count": 579,
   "metadata": {},
   "outputs": [],
   "source": [
    "trained_models, model_metrics = train_models(models, names, X_train, y_train, X_test, y_test)\n",
    "model_metrics\n"
   ]
  },
  {
   "cell_type": "code",
   "execution_count": 558,
   "metadata": {},
   "outputs": [],
   "source": [
    "def adstock_synergy(data, media_spend_list = ['tv_s', 'ooh_s', 'print_s', 'search_s', 'facebook_s'], decay_rate=0.5):\n",
    "\n",
    "    df = data.copy()\n",
    "    for media in media_spend_list:\n",
    "        df[media] = apply_adstock(df[media], decay_rate=decay_rate)\n",
    "\n",
    "    # add interaction terms of medias in media_spend_list\n",
    "    for i, media1 in enumerate(media_spend_list):\n",
    "        for j, media2 in enumerate(media_spend_list):\n",
    "            if i < j:\n",
    "                df[media1 + '_x_' + media2] = df[media1] * df[media2]\n",
    "    return df, decay_rate"
   ]
  },
  {
   "cell_type": "code",
   "execution_count": 582,
   "metadata": {},
   "outputs": [
    {
     "data": {
      "text/html": [
       "<div>\n",
       "<style scoped>\n",
       "    .dataframe tbody tr th:only-of-type {\n",
       "        vertical-align: middle;\n",
       "    }\n",
       "\n",
       "    .dataframe tbody tr th {\n",
       "        vertical-align: top;\n",
       "    }\n",
       "\n",
       "    .dataframe thead th {\n",
       "        text-align: right;\n",
       "    }\n",
       "</style>\n",
       "<table border=\"1\" class=\"dataframe\">\n",
       "  <thead>\n",
       "    <tr style=\"text-align: right;\">\n",
       "      <th></th>\n",
       "      <th>tv_s</th>\n",
       "      <th>ooh_s</th>\n",
       "      <th>print_s</th>\n",
       "      <th>search_s</th>\n",
       "      <th>facebook_s</th>\n",
       "      <th>date</th>\n",
       "      <th>revenue</th>\n",
       "    </tr>\n",
       "  </thead>\n",
       "  <tbody>\n",
       "    <tr>\n",
       "      <th>0</th>\n",
       "      <td>167687.6</td>\n",
       "      <td>0</td>\n",
       "      <td>95463.666667</td>\n",
       "      <td>0</td>\n",
       "      <td>228213.987444</td>\n",
       "      <td>2015-11-23</td>\n",
       "      <td>2.754372e+06</td>\n",
       "    </tr>\n",
       "    <tr>\n",
       "      <th>1</th>\n",
       "      <td>214600.9</td>\n",
       "      <td>0</td>\n",
       "      <td>0.000000</td>\n",
       "      <td>31000</td>\n",
       "      <td>34258.573511</td>\n",
       "      <td>2015-11-30</td>\n",
       "      <td>2.584277e+06</td>\n",
       "    </tr>\n",
       "    <tr>\n",
       "      <th>2</th>\n",
       "      <td>0.0</td>\n",
       "      <td>248022</td>\n",
       "      <td>3404.000000</td>\n",
       "      <td>28400</td>\n",
       "      <td>127691.261335</td>\n",
       "      <td>2015-12-07</td>\n",
       "      <td>2.547387e+06</td>\n",
       "    </tr>\n",
       "    <tr>\n",
       "      <th>3</th>\n",
       "      <td>625877.3</td>\n",
       "      <td>0</td>\n",
       "      <td>132600.000000</td>\n",
       "      <td>31900</td>\n",
       "      <td>84014.720306</td>\n",
       "      <td>2015-12-14</td>\n",
       "      <td>2.875220e+06</td>\n",
       "    </tr>\n",
       "    <tr>\n",
       "      <th>4</th>\n",
       "      <td>0.0</td>\n",
       "      <td>520005</td>\n",
       "      <td>0.000000</td>\n",
       "      <td>27100</td>\n",
       "      <td>20687.478156</td>\n",
       "      <td>2015-12-21</td>\n",
       "      <td>2.215953e+06</td>\n",
       "    </tr>\n",
       "  </tbody>\n",
       "</table>\n",
       "</div>"
      ],
      "text/plain": [
       "       tv_s   ooh_s        print_s  search_s     facebook_s        date  \\\n",
       "0  167687.6       0   95463.666667         0  228213.987444  2015-11-23   \n",
       "1  214600.9       0       0.000000     31000   34258.573511  2015-11-30   \n",
       "2       0.0  248022    3404.000000     28400  127691.261335  2015-12-07   \n",
       "3  625877.3       0  132600.000000     31900   84014.720306  2015-12-14   \n",
       "4       0.0  520005       0.000000     27100   20687.478156  2015-12-21   \n",
       "\n",
       "        revenue  \n",
       "0  2.754372e+06  \n",
       "1  2.584277e+06  \n",
       "2  2.547387e+06  \n",
       "3  2.875220e+06  \n",
       "4  2.215953e+06  "
      ]
     },
     "execution_count": 582,
     "metadata": {},
     "output_type": "execute_result"
    }
   ],
   "source": [
    "# data_ms = data[media_spend_list + ['date', 'revenue']].copy()\n",
    "data_ms.head()"
   ]
  },
  {
   "cell_type": "code",
   "execution_count": 594,
   "metadata": {},
   "outputs": [],
   "source": [
    "import pandas as pd\n",
    "import math\n",
    "import numpy as np\n",
    "import statsmodels.api as sm\n",
    "from sklearn.model_selection import train_test_split\n",
    "\n",
    "def apply_adstock(x, decay_rate=0.5):\n",
    "    adstocked_x = []\n",
    "    previous = 0\n",
    "    for value in x:\n",
    "        adstocked_value = value + (previous * decay_rate)\n",
    "        adstocked_x.append(adstocked_value)\n",
    "        previous = adstocked_value\n",
    "    return pd.Series(adstocked_x)\n",
    "\n",
    "def adstock_synergy(data, media_spend_list = ['tv_s', 'ooh_s', 'print_s', 'search_s', 'facebook_s'], decay_rate=0.5):\n",
    "\n",
    "    df = data.copy()\n",
    "    for media in media_spend_list:\n",
    "        df[media] = apply_adstock(df[media], decay_rate=decay_rate)\n",
    "\n",
    "    # add interaction terms of medias in media_spend_list\n",
    "    for i, media1 in enumerate(media_spend_list):\n",
    "        for j, media2 in enumerate(media_spend_list):\n",
    "            if i < j:\n",
    "                df[media1 + '_x_' + media2] = df[media1] * df[media2]\n",
    "    return df, decay_rate\n",
    "\n",
    "def trim_threshold(data, decay_rate=0.5, threshold=0.05):\n",
    "    t = round(math.log(threshold) / math.log(decay_rate))\n",
    "    return data.iloc[t:]\n",
    "\n",
    "def add_ts_features(data):\n",
    "    data['month'] = pd.to_datetime(data['date']).dt.month\n",
    "    data = pd.get_dummies(data, columns=['month'], drop_first=True)\n",
    "    # drop date column\n",
    "    data.drop(columns=['date'], inplace=True)\n",
    "    return data\n",
    "\n",
    "def train_data(data, target='revenue',train_size=0.8):\n",
    "    X = data.drop(columns=[target])\n",
    "    y = data[target]  # Response variable\n",
    "    X = sm.add_constant(X)  # Adds a constant term to the predictor             \n",
    "                \n",
    "    X_train, X_test, y_train, y_test = train_test_split(X, y, random_state=0, train_size=train_size)\n",
    "    return X_train, X_test, y_train, y_test"
   ]
  },
  {
   "cell_type": "code",
   "execution_count": 595,
   "metadata": {},
   "outputs": [],
   "source": [
    "def data_pipe(data, media_spend_list= ['tv_s', 'ooh_s', 'print_s', 'search_s', 'facebook_s'], decay_rate=0.5, threshold=0.05, target='revenue', train_size=0.8): \n",
    "    df = data.copy()\n",
    "    df, decay_rate = adstock_synergy(df, media_spend_list, decay_rate)\n",
    "    df = add_ts_features(df)\n",
    "    df = trim_threshold(df, decay_rate=decay_rate, threshold=threshold)\n",
    "    X_train, X_test, y_train, y_test = train_data(df, target=target,train_size=train_size)\n",
    "    return X_train, X_test, y_train, y_test"
   ]
  },
  {
   "cell_type": "code",
   "execution_count": 610,
   "metadata": {},
   "outputs": [],
   "source": [
    "X_train, X_test, y_train, y_test = data_pipe(data_ms, media_spend_list= ['tv_s', 'ooh_s', 'print_s', 'search_s', 'facebook_s'], decay_rate=0.85, threshold=0.05, target='revenue', train_size=0.8)"
   ]
  },
  {
   "cell_type": "code",
   "execution_count": 611,
   "metadata": {},
   "outputs": [
    {
     "data": {
      "text/plain": [
       "152"
      ]
     },
     "execution_count": 611,
     "metadata": {},
     "output_type": "execute_result"
    }
   ],
   "source": [
    "len(X_train)"
   ]
  },
  {
   "cell_type": "code",
   "execution_count": 612,
   "metadata": {},
   "outputs": [
    {
     "data": {
      "text/plain": [
       "[('LinearRegression', 0.827, 222442.098, 297371.416),\n",
       " ('AdaBoostRegressor', 0.707, 315384.307, 387219.308),\n",
       " ('XGBRegressor', 0.728, 277247.385, 373506.686),\n",
       " ('RandomForestRegressor', 0.782, 248515.178, 333873.041),\n",
       " ('DecisionTreeRegressor', 0.582, 332240.219, 462857.011),\n",
       " ('GradientBoostingRegressor', 0.757, 248215.646, 352926.186),\n",
       " ('KNeighborsRegressor', 0.737, 273069.658, 366640.716)]"
      ]
     },
     "execution_count": 612,
     "metadata": {},
     "output_type": "execute_result"
    }
   ],
   "source": [
    "trained_models, model_metrics = train_models(models, names, X_train, y_train, X_test, y_test)\n",
    "model_metrics"
   ]
  },
  {
   "cell_type": "code",
   "execution_count": 565,
   "metadata": {},
   "outputs": [
    {
     "data": {
      "text/html": [
       "<div>\n",
       "<style scoped>\n",
       "    .dataframe tbody tr th:only-of-type {\n",
       "        vertical-align: middle;\n",
       "    }\n",
       "\n",
       "    .dataframe tbody tr th {\n",
       "        vertical-align: top;\n",
       "    }\n",
       "\n",
       "    .dataframe thead th {\n",
       "        text-align: right;\n",
       "    }\n",
       "</style>\n",
       "<table border=\"1\" class=\"dataframe\">\n",
       "  <thead>\n",
       "    <tr style=\"text-align: right;\">\n",
       "      <th></th>\n",
       "      <th>tv_s</th>\n",
       "      <th>ooh_s</th>\n",
       "      <th>print_s</th>\n",
       "      <th>search_s</th>\n",
       "      <th>facebook_s</th>\n",
       "      <th>date</th>\n",
       "      <th>revenue</th>\n",
       "      <th>tv_s_x_ooh_s</th>\n",
       "      <th>tv_s_x_print_s</th>\n",
       "      <th>tv_s_x_search_s</th>\n",
       "      <th>tv_s_x_facebook_s</th>\n",
       "      <th>ooh_s_x_print_s</th>\n",
       "      <th>ooh_s_x_search_s</th>\n",
       "      <th>ooh_s_x_facebook_s</th>\n",
       "      <th>print_s_x_search_s</th>\n",
       "      <th>print_s_x_facebook_s</th>\n",
       "      <th>search_s_x_facebook_s</th>\n",
       "    </tr>\n",
       "  </thead>\n",
       "  <tbody>\n",
       "    <tr>\n",
       "      <th>0</th>\n",
       "      <td>167687.6000</td>\n",
       "      <td>0.0</td>\n",
       "      <td>95463.666667</td>\n",
       "      <td>0.0</td>\n",
       "      <td>228213.987444</td>\n",
       "      <td>2015-11-23</td>\n",
       "      <td>2.754372e+06</td>\n",
       "      <td>0.000000e+00</td>\n",
       "      <td>1.600807e+10</td>\n",
       "      <td>0.000000e+00</td>\n",
       "      <td>3.826866e+10</td>\n",
       "      <td>0.000000e+00</td>\n",
       "      <td>0.000000e+00</td>\n",
       "      <td>0.000000e+00</td>\n",
       "      <td>0.000000e+00</td>\n",
       "      <td>2.178614e+10</td>\n",
       "      <td>0.000000e+00</td>\n",
       "    </tr>\n",
       "    <tr>\n",
       "      <th>1</th>\n",
       "      <td>298444.7000</td>\n",
       "      <td>0.0</td>\n",
       "      <td>47731.833333</td>\n",
       "      <td>31000.0</td>\n",
       "      <td>148365.567233</td>\n",
       "      <td>2015-11-30</td>\n",
       "      <td>2.584277e+06</td>\n",
       "      <td>0.000000e+00</td>\n",
       "      <td>1.424531e+10</td>\n",
       "      <td>9.251786e+09</td>\n",
       "      <td>4.427892e+10</td>\n",
       "      <td>0.000000e+00</td>\n",
       "      <td>0.000000e+00</td>\n",
       "      <td>0.000000e+00</td>\n",
       "      <td>1.479687e+09</td>\n",
       "      <td>7.081761e+09</td>\n",
       "      <td>4.599333e+09</td>\n",
       "    </tr>\n",
       "    <tr>\n",
       "      <th>2</th>\n",
       "      <td>149222.3500</td>\n",
       "      <td>248022.0</td>\n",
       "      <td>27269.916667</td>\n",
       "      <td>43900.0</td>\n",
       "      <td>201874.044951</td>\n",
       "      <td>2015-12-07</td>\n",
       "      <td>2.547387e+06</td>\n",
       "      <td>3.701043e+10</td>\n",
       "      <td>4.069281e+09</td>\n",
       "      <td>6.550861e+09</td>\n",
       "      <td>3.012412e+10</td>\n",
       "      <td>6.763539e+09</td>\n",
       "      <td>1.088817e+10</td>\n",
       "      <td>5.006920e+10</td>\n",
       "      <td>1.197149e+09</td>\n",
       "      <td>5.505088e+09</td>\n",
       "      <td>8.862271e+09</td>\n",
       "    </tr>\n",
       "    <tr>\n",
       "      <th>3</th>\n",
       "      <td>700488.4750</td>\n",
       "      <td>124011.0</td>\n",
       "      <td>146234.958333</td>\n",
       "      <td>53850.0</td>\n",
       "      <td>184951.742781</td>\n",
       "      <td>2015-12-14</td>\n",
       "      <td>2.875220e+06</td>\n",
       "      <td>8.686828e+10</td>\n",
       "      <td>1.024359e+11</td>\n",
       "      <td>3.772130e+10</td>\n",
       "      <td>1.295566e+11</td>\n",
       "      <td>1.813474e+10</td>\n",
       "      <td>6.677992e+09</td>\n",
       "      <td>2.293605e+10</td>\n",
       "      <td>7.874753e+09</td>\n",
       "      <td>2.704641e+10</td>\n",
       "      <td>9.959651e+09</td>\n",
       "    </tr>\n",
       "    <tr>\n",
       "      <th>4</th>\n",
       "      <td>350244.2375</td>\n",
       "      <td>582010.5</td>\n",
       "      <td>73117.479167</td>\n",
       "      <td>54025.0</td>\n",
       "      <td>113163.349546</td>\n",
       "      <td>2015-12-21</td>\n",
       "      <td>2.215953e+06</td>\n",
       "      <td>2.038458e+11</td>\n",
       "      <td>2.560898e+10</td>\n",
       "      <td>1.892194e+10</td>\n",
       "      <td>3.963481e+10</td>\n",
       "      <td>4.255514e+10</td>\n",
       "      <td>3.144312e+10</td>\n",
       "      <td>6.586226e+10</td>\n",
       "      <td>3.950172e+09</td>\n",
       "      <td>8.274219e+09</td>\n",
       "      <td>6.113650e+09</td>\n",
       "    </tr>\n",
       "  </tbody>\n",
       "</table>\n",
       "</div>"
      ],
      "text/plain": [
       "          tv_s     ooh_s        print_s  search_s     facebook_s        date  \\\n",
       "0  167687.6000       0.0   95463.666667       0.0  228213.987444  2015-11-23   \n",
       "1  298444.7000       0.0   47731.833333   31000.0  148365.567233  2015-11-30   \n",
       "2  149222.3500  248022.0   27269.916667   43900.0  201874.044951  2015-12-07   \n",
       "3  700488.4750  124011.0  146234.958333   53850.0  184951.742781  2015-12-14   \n",
       "4  350244.2375  582010.5   73117.479167   54025.0  113163.349546  2015-12-21   \n",
       "\n",
       "        revenue  tv_s_x_ooh_s  tv_s_x_print_s  tv_s_x_search_s  \\\n",
       "0  2.754372e+06  0.000000e+00    1.600807e+10     0.000000e+00   \n",
       "1  2.584277e+06  0.000000e+00    1.424531e+10     9.251786e+09   \n",
       "2  2.547387e+06  3.701043e+10    4.069281e+09     6.550861e+09   \n",
       "3  2.875220e+06  8.686828e+10    1.024359e+11     3.772130e+10   \n",
       "4  2.215953e+06  2.038458e+11    2.560898e+10     1.892194e+10   \n",
       "\n",
       "   tv_s_x_facebook_s  ooh_s_x_print_s  ooh_s_x_search_s  ooh_s_x_facebook_s  \\\n",
       "0       3.826866e+10     0.000000e+00      0.000000e+00        0.000000e+00   \n",
       "1       4.427892e+10     0.000000e+00      0.000000e+00        0.000000e+00   \n",
       "2       3.012412e+10     6.763539e+09      1.088817e+10        5.006920e+10   \n",
       "3       1.295566e+11     1.813474e+10      6.677992e+09        2.293605e+10   \n",
       "4       3.963481e+10     4.255514e+10      3.144312e+10        6.586226e+10   \n",
       "\n",
       "   print_s_x_search_s  print_s_x_facebook_s  search_s_x_facebook_s  \n",
       "0        0.000000e+00          2.178614e+10           0.000000e+00  \n",
       "1        1.479687e+09          7.081761e+09           4.599333e+09  \n",
       "2        1.197149e+09          5.505088e+09           8.862271e+09  \n",
       "3        7.874753e+09          2.704641e+10           9.959651e+09  \n",
       "4        3.950172e+09          8.274219e+09           6.113650e+09  "
      ]
     },
     "execution_count": 565,
     "metadata": {},
     "output_type": "execute_result"
    }
   ],
   "source": [
    "data_adstock, decay_rate = adstock_synergy(data_ms, decay_rate=0.5)\n",
    "data_adstock.head()"
   ]
  },
  {
   "cell_type": "code",
   "execution_count": 566,
   "metadata": {},
   "outputs": [],
   "source": [
    "def trim_threshold(data, decay_rate=0.5, threshold=0.05):\n",
    "    t = round(math.log(threshold) / math.log(decay_rate))\n",
    "    return data.iloc[t:]"
   ]
  },
  {
   "cell_type": "code",
   "execution_count": 567,
   "metadata": {},
   "outputs": [],
   "source": [
    "def add_ts_features(data):\n",
    "    data['month'] = pd.to_datetime(data['date']).dt.month\n",
    "    data = pd.get_dummies(data, columns=['month'], drop_first=True)\n",
    "    # drop date column\n",
    "    data.drop(columns=['date'], inplace=True)\n",
    "    return data"
   ]
  },
  {
   "cell_type": "code",
   "execution_count": 568,
   "metadata": {},
   "outputs": [],
   "source": [
    "def train_data(data, target='revenue',train_size=0.8):\n",
    "    X = data.drop(columns=[target])\n",
    "    y = data_adstock[target]  # Response variable\n",
    "    X = sm.add_constant(X)  # Adds a constant term to the predictor             \n",
    "                \n",
    "    X_train, X_test, y_train, y_test = train_test_split(X, y, random_state=0, train_size=train_size)\n",
    "    return X_train, X_test, y_train, y_test"
   ]
  },
  {
   "cell_type": "code",
   "execution_count": 569,
   "metadata": {},
   "outputs": [
    {
     "data": {
      "text/html": [
       "<div>\n",
       "<style scoped>\n",
       "    .dataframe tbody tr th:only-of-type {\n",
       "        vertical-align: middle;\n",
       "    }\n",
       "\n",
       "    .dataframe tbody tr th {\n",
       "        vertical-align: top;\n",
       "    }\n",
       "\n",
       "    .dataframe thead th {\n",
       "        text-align: right;\n",
       "    }\n",
       "</style>\n",
       "<table border=\"1\" class=\"dataframe\">\n",
       "  <thead>\n",
       "    <tr style=\"text-align: right;\">\n",
       "      <th></th>\n",
       "      <th>tv_s</th>\n",
       "      <th>ooh_s</th>\n",
       "      <th>print_s</th>\n",
       "      <th>search_s</th>\n",
       "      <th>facebook_s</th>\n",
       "      <th>revenue</th>\n",
       "      <th>tv_s_x_ooh_s</th>\n",
       "      <th>tv_s_x_print_s</th>\n",
       "      <th>tv_s_x_search_s</th>\n",
       "      <th>tv_s_x_facebook_s</th>\n",
       "      <th>...</th>\n",
       "      <th>month_3</th>\n",
       "      <th>month_4</th>\n",
       "      <th>month_5</th>\n",
       "      <th>month_6</th>\n",
       "      <th>month_7</th>\n",
       "      <th>month_8</th>\n",
       "      <th>month_9</th>\n",
       "      <th>month_10</th>\n",
       "      <th>month_11</th>\n",
       "      <th>month_12</th>\n",
       "    </tr>\n",
       "  </thead>\n",
       "  <tbody>\n",
       "    <tr>\n",
       "      <th>4</th>\n",
       "      <td>350244.237500</td>\n",
       "      <td>582010.50000</td>\n",
       "      <td>73117.479167</td>\n",
       "      <td>54025.0000</td>\n",
       "      <td>113163.349546</td>\n",
       "      <td>2.215953e+06</td>\n",
       "      <td>2.038458e+11</td>\n",
       "      <td>2.560898e+10</td>\n",
       "      <td>1.892194e+10</td>\n",
       "      <td>3.963481e+10</td>\n",
       "      <td>...</td>\n",
       "      <td>0</td>\n",
       "      <td>0</td>\n",
       "      <td>0</td>\n",
       "      <td>0</td>\n",
       "      <td>0</td>\n",
       "      <td>0</td>\n",
       "      <td>0</td>\n",
       "      <td>0</td>\n",
       "      <td>0</td>\n",
       "      <td>1</td>\n",
       "    </tr>\n",
       "    <tr>\n",
       "      <th>5</th>\n",
       "      <td>424311.918750</td>\n",
       "      <td>291005.25000</td>\n",
       "      <td>275976.072917</td>\n",
       "      <td>55312.5000</td>\n",
       "      <td>216691.829975</td>\n",
       "      <td>2.569922e+06</td>\n",
       "      <td>1.234770e+11</td>\n",
       "      <td>1.170999e+11</td>\n",
       "      <td>2.346975e+10</td>\n",
       "      <td>9.194493e+10</td>\n",
       "      <td>...</td>\n",
       "      <td>0</td>\n",
       "      <td>0</td>\n",
       "      <td>0</td>\n",
       "      <td>0</td>\n",
       "      <td>0</td>\n",
       "      <td>0</td>\n",
       "      <td>0</td>\n",
       "      <td>0</td>\n",
       "      <td>0</td>\n",
       "      <td>1</td>\n",
       "    </tr>\n",
       "    <tr>\n",
       "      <th>6</th>\n",
       "      <td>217308.859375</td>\n",
       "      <td>570665.62500</td>\n",
       "      <td>137988.036458</td>\n",
       "      <td>55456.2500</td>\n",
       "      <td>217036.281974</td>\n",
       "      <td>2.171507e+06</td>\n",
       "      <td>1.240107e+11</td>\n",
       "      <td>2.998602e+10</td>\n",
       "      <td>1.205113e+10</td>\n",
       "      <td>4.716391e+10</td>\n",
       "      <td>...</td>\n",
       "      <td>0</td>\n",
       "      <td>0</td>\n",
       "      <td>0</td>\n",
       "      <td>0</td>\n",
       "      <td>0</td>\n",
       "      <td>0</td>\n",
       "      <td>0</td>\n",
       "      <td>0</td>\n",
       "      <td>0</td>\n",
       "      <td>0</td>\n",
       "    </tr>\n",
       "    <tr>\n",
       "      <th>7</th>\n",
       "      <td>130796.129687</td>\n",
       "      <td>285332.81250</td>\n",
       "      <td>245853.684896</td>\n",
       "      <td>59728.1250</td>\n",
       "      <td>232412.625582</td>\n",
       "      <td>2.464132e+06</td>\n",
       "      <td>3.732043e+10</td>\n",
       "      <td>3.215671e+10</td>\n",
       "      <td>7.812208e+09</td>\n",
       "      <td>3.039867e+10</td>\n",
       "      <td>...</td>\n",
       "      <td>0</td>\n",
       "      <td>0</td>\n",
       "      <td>0</td>\n",
       "      <td>0</td>\n",
       "      <td>0</td>\n",
       "      <td>0</td>\n",
       "      <td>0</td>\n",
       "      <td>0</td>\n",
       "      <td>0</td>\n",
       "      <td>0</td>\n",
       "    </tr>\n",
       "    <tr>\n",
       "      <th>8</th>\n",
       "      <td>65398.064844</td>\n",
       "      <td>142666.40625</td>\n",
       "      <td>122926.842448</td>\n",
       "      <td>52764.0625</td>\n",
       "      <td>224896.679777</td>\n",
       "      <td>2.012520e+06</td>\n",
       "      <td>9.330107e+09</td>\n",
       "      <td>8.039178e+09</td>\n",
       "      <td>3.450668e+09</td>\n",
       "      <td>1.470781e+10</td>\n",
       "      <td>...</td>\n",
       "      <td>0</td>\n",
       "      <td>0</td>\n",
       "      <td>0</td>\n",
       "      <td>0</td>\n",
       "      <td>0</td>\n",
       "      <td>0</td>\n",
       "      <td>0</td>\n",
       "      <td>0</td>\n",
       "      <td>0</td>\n",
       "      <td>0</td>\n",
       "    </tr>\n",
       "  </tbody>\n",
       "</table>\n",
       "<p>5 rows × 27 columns</p>\n",
       "</div>"
      ],
      "text/plain": [
       "            tv_s         ooh_s        print_s    search_s     facebook_s  \\\n",
       "4  350244.237500  582010.50000   73117.479167  54025.0000  113163.349546   \n",
       "5  424311.918750  291005.25000  275976.072917  55312.5000  216691.829975   \n",
       "6  217308.859375  570665.62500  137988.036458  55456.2500  217036.281974   \n",
       "7  130796.129687  285332.81250  245853.684896  59728.1250  232412.625582   \n",
       "8   65398.064844  142666.40625  122926.842448  52764.0625  224896.679777   \n",
       "\n",
       "        revenue  tv_s_x_ooh_s  tv_s_x_print_s  tv_s_x_search_s  \\\n",
       "4  2.215953e+06  2.038458e+11    2.560898e+10     1.892194e+10   \n",
       "5  2.569922e+06  1.234770e+11    1.170999e+11     2.346975e+10   \n",
       "6  2.171507e+06  1.240107e+11    2.998602e+10     1.205113e+10   \n",
       "7  2.464132e+06  3.732043e+10    3.215671e+10     7.812208e+09   \n",
       "8  2.012520e+06  9.330107e+09    8.039178e+09     3.450668e+09   \n",
       "\n",
       "   tv_s_x_facebook_s  ...  month_3  month_4  month_5  month_6  month_7  \\\n",
       "4       3.963481e+10  ...        0        0        0        0        0   \n",
       "5       9.194493e+10  ...        0        0        0        0        0   \n",
       "6       4.716391e+10  ...        0        0        0        0        0   \n",
       "7       3.039867e+10  ...        0        0        0        0        0   \n",
       "8       1.470781e+10  ...        0        0        0        0        0   \n",
       "\n",
       "   month_8  month_9  month_10  month_11  month_12  \n",
       "4        0        0         0         0         1  \n",
       "5        0        0         0         0         1  \n",
       "6        0        0         0         0         0  \n",
       "7        0        0         0         0         0  \n",
       "8        0        0         0         0         0  \n",
       "\n",
       "[5 rows x 27 columns]"
      ]
     },
     "execution_count": 569,
     "metadata": {},
     "output_type": "execute_result"
    }
   ],
   "source": [
    "data_adstock = trim_threshold(data_adstock, decay_rate=decay_rate, threshold=0.05)\n",
    "data_adstock = add_ts_features(data_adstock)\n",
    "data_adstock.head()"
   ]
  },
  {
   "cell_type": "code",
   "execution_count": 570,
   "metadata": {},
   "outputs": [],
   "source": [
    "X_train, X_test, y_train, y_test = train_data(data_adstock, target='revenue',train_size=0.8)"
   ]
  },
  {
   "cell_type": "markdown",
   "metadata": {},
   "source": [
    "* search for the best model"
   ]
  },
  {
   "cell_type": "code",
   "execution_count": 526,
   "metadata": {},
   "outputs": [],
   "source": [
    "def train_model_with_decay(model, data, decay_rate=0.5, threshold=0.05):\n",
    "    # allowing each media to have a different decay rate\n",
    "    \n",
    "    # Predictor variables with adstock and interaction terms\n",
    "    X = data.drop(columns=['date', 'revenue'])\n",
    "    y = data_adstock['revenue']  # Response variable\n",
    "    X = sm.add_constant(X)  # Adds a constant term to the predictor             \n",
    "                \n",
    "    X_train, X_test, y_train, y_test = train_test_split(X, y, random_state=0, train_size=0.8)\n",
    "    \n",
    "    # # Build and fit the model\n",
    "    model = model.fit(X_train, y_train) \n",
    "\n",
    "    # Predict the test data\n",
    "    y_pred = model.predict(X_test)\n",
    "\n",
    "    # Calculate the R-squared, MAE, and RMSE\n",
    "    r2 = r2_score(y_test, y_pred).round(3)\n",
    "    mae = mean_absolute_error(y_test, y_pred).round(3)\n",
    "    rmse = mean_squared_error(y_test, y_pred, squared=False).round(3) \n",
    "    \n",
    "    return model, r2, mae, rmse, X_train, X_test, y_train, y_test\n"
   ]
  },
  {
   "cell_type": "code",
   "execution_count": 527,
   "metadata": {},
   "outputs": [
    {
     "name": "stdout",
     "output_type": "stream",
     "text": [
      "0.595 316911.197 403379.219\n"
     ]
    }
   ],
   "source": [
    "model, r2, mae, rmse, X_train, X_test, y_train, y_test = train_model_with_decay(lr, data_ms, decay_rate=0.5, threshold=0.05)\n",
    "print(r2, mae, rmse)"
   ]
  },
  {
   "cell_type": "code",
   "execution_count": 528,
   "metadata": {},
   "outputs": [
    {
     "data": {
      "text/html": [
       "<div>\n",
       "<style scoped>\n",
       "    .dataframe tbody tr th:only-of-type {\n",
       "        vertical-align: middle;\n",
       "    }\n",
       "\n",
       "    .dataframe tbody tr th {\n",
       "        vertical-align: top;\n",
       "    }\n",
       "\n",
       "    .dataframe thead th {\n",
       "        text-align: right;\n",
       "    }\n",
       "</style>\n",
       "<table border=\"1\" class=\"dataframe\">\n",
       "  <thead>\n",
       "    <tr style=\"text-align: right;\">\n",
       "      <th></th>\n",
       "      <th>const</th>\n",
       "      <th>tv_s</th>\n",
       "      <th>ooh_s</th>\n",
       "      <th>print_s</th>\n",
       "      <th>search_s</th>\n",
       "      <th>facebook_s</th>\n",
       "      <th>tv_s_x_ooh_s</th>\n",
       "      <th>tv_s_x_print_s</th>\n",
       "      <th>tv_s_x_search_s</th>\n",
       "      <th>tv_s_x_facebook_s</th>\n",
       "      <th>ooh_s_x_print_s</th>\n",
       "      <th>ooh_s_x_search_s</th>\n",
       "      <th>ooh_s_x_facebook_s</th>\n",
       "      <th>print_s_x_search_s</th>\n",
       "      <th>print_s_x_facebook_s</th>\n",
       "      <th>search_s_x_facebook_s</th>\n",
       "      <th>month</th>\n",
       "    </tr>\n",
       "  </thead>\n",
       "  <tbody>\n",
       "    <tr>\n",
       "      <th>120</th>\n",
       "      <td>1.0</td>\n",
       "      <td>430429.117199</td>\n",
       "      <td>203467.423234</td>\n",
       "      <td>181119.772736</td>\n",
       "      <td>99288.489083</td>\n",
       "      <td>1023.370404</td>\n",
       "      <td>8.757830e+10</td>\n",
       "      <td>7.795922e+10</td>\n",
       "      <td>4.273666e+10</td>\n",
       "      <td>4.404884e+08</td>\n",
       "      <td>3.685197e+10</td>\n",
       "      <td>2.020197e+10</td>\n",
       "      <td>2.082225e+08</td>\n",
       "      <td>1.798311e+10</td>\n",
       "      <td>1.853526e+08</td>\n",
       "      <td>1.016089e+08</td>\n",
       "      <td>3</td>\n",
       "    </tr>\n",
       "    <tr>\n",
       "      <th>59</th>\n",
       "      <td>1.0</td>\n",
       "      <td>362116.866572</td>\n",
       "      <td>520678.859847</td>\n",
       "      <td>106126.631413</td>\n",
       "      <td>108367.315242</td>\n",
       "      <td>298786.314413</td>\n",
       "      <td>1.885466e+11</td>\n",
       "      <td>3.843024e+10</td>\n",
       "      <td>3.924163e+10</td>\n",
       "      <td>1.081956e+11</td>\n",
       "      <td>5.525789e+10</td>\n",
       "      <td>5.642457e+10</td>\n",
       "      <td>1.555717e+11</td>\n",
       "      <td>1.150066e+10</td>\n",
       "      <td>3.170919e+10</td>\n",
       "      <td>3.237867e+10</td>\n",
       "      <td>1</td>\n",
       "    </tr>\n",
       "    <tr>\n",
       "      <th>30</th>\n",
       "      <td>1.0</td>\n",
       "      <td>153721.725981</td>\n",
       "      <td>248531.739425</td>\n",
       "      <td>762.360737</td>\n",
       "      <td>21762.282601</td>\n",
       "      <td>80225.876658</td>\n",
       "      <td>3.820473e+10</td>\n",
       "      <td>1.171914e+08</td>\n",
       "      <td>3.345336e+09</td>\n",
       "      <td>1.233246e+10</td>\n",
       "      <td>1.894708e+08</td>\n",
       "      <td>5.408618e+09</td>\n",
       "      <td>1.993868e+10</td>\n",
       "      <td>1.659071e+07</td>\n",
       "      <td>6.116106e+07</td>\n",
       "      <td>1.745898e+09</td>\n",
       "      <td>6</td>\n",
       "    </tr>\n",
       "    <tr>\n",
       "      <th>134</th>\n",
       "      <td>1.0</td>\n",
       "      <td>31686.429609</td>\n",
       "      <td>38802.299281</td>\n",
       "      <td>25896.215481</td>\n",
       "      <td>71807.195342</td>\n",
       "      <td>19133.355476</td>\n",
       "      <td>1.229506e+09</td>\n",
       "      <td>8.205586e+08</td>\n",
       "      <td>2.275314e+09</td>\n",
       "      <td>6.062677e+08</td>\n",
       "      <td>1.004833e+09</td>\n",
       "      <td>2.786284e+09</td>\n",
       "      <td>7.424182e+08</td>\n",
       "      <td>1.859535e+09</td>\n",
       "      <td>4.954815e+08</td>\n",
       "      <td>1.373913e+09</td>\n",
       "      <td>6</td>\n",
       "    </tr>\n",
       "    <tr>\n",
       "      <th>182</th>\n",
       "      <td>1.0</td>\n",
       "      <td>234317.711700</td>\n",
       "      <td>10934.036000</td>\n",
       "      <td>48778.099956</td>\n",
       "      <td>25167.727132</td>\n",
       "      <td>110383.181550</td>\n",
       "      <td>2.562038e+09</td>\n",
       "      <td>1.142957e+10</td>\n",
       "      <td>5.897244e+09</td>\n",
       "      <td>2.586473e+10</td>\n",
       "      <td>5.333415e+08</td>\n",
       "      <td>2.751848e+08</td>\n",
       "      <td>1.206934e+09</td>\n",
       "      <td>1.227634e+09</td>\n",
       "      <td>5.384282e+09</td>\n",
       "      <td>2.778094e+09</td>\n",
       "      <td>5</td>\n",
       "    </tr>\n",
       "  </tbody>\n",
       "</table>\n",
       "</div>"
      ],
      "text/plain": [
       "     const           tv_s          ooh_s        print_s       search_s  \\\n",
       "120    1.0  430429.117199  203467.423234  181119.772736   99288.489083   \n",
       "59     1.0  362116.866572  520678.859847  106126.631413  108367.315242   \n",
       "30     1.0  153721.725981  248531.739425     762.360737   21762.282601   \n",
       "134    1.0   31686.429609   38802.299281   25896.215481   71807.195342   \n",
       "182    1.0  234317.711700   10934.036000   48778.099956   25167.727132   \n",
       "\n",
       "        facebook_s  tv_s_x_ooh_s  tv_s_x_print_s  tv_s_x_search_s  \\\n",
       "120    1023.370404  8.757830e+10    7.795922e+10     4.273666e+10   \n",
       "59   298786.314413  1.885466e+11    3.843024e+10     3.924163e+10   \n",
       "30    80225.876658  3.820473e+10    1.171914e+08     3.345336e+09   \n",
       "134   19133.355476  1.229506e+09    8.205586e+08     2.275314e+09   \n",
       "182  110383.181550  2.562038e+09    1.142957e+10     5.897244e+09   \n",
       "\n",
       "     tv_s_x_facebook_s  ooh_s_x_print_s  ooh_s_x_search_s  ooh_s_x_facebook_s  \\\n",
       "120       4.404884e+08     3.685197e+10      2.020197e+10        2.082225e+08   \n",
       "59        1.081956e+11     5.525789e+10      5.642457e+10        1.555717e+11   \n",
       "30        1.233246e+10     1.894708e+08      5.408618e+09        1.993868e+10   \n",
       "134       6.062677e+08     1.004833e+09      2.786284e+09        7.424182e+08   \n",
       "182       2.586473e+10     5.333415e+08      2.751848e+08        1.206934e+09   \n",
       "\n",
       "     print_s_x_search_s  print_s_x_facebook_s  search_s_x_facebook_s  month  \n",
       "120        1.798311e+10          1.853526e+08           1.016089e+08      3  \n",
       "59         1.150066e+10          3.170919e+10           3.237867e+10      1  \n",
       "30         1.659071e+07          6.116106e+07           1.745898e+09      6  \n",
       "134        1.859535e+09          4.954815e+08           1.373913e+09      6  \n",
       "182        1.227634e+09          5.384282e+09           2.778094e+09      5  "
      ]
     },
     "execution_count": 528,
     "metadata": {},
     "output_type": "execute_result"
    }
   ],
   "source": [
    "X_train.head()"
   ]
  },
  {
   "cell_type": "code",
   "execution_count": 533,
   "metadata": {},
   "outputs": [
    {
     "data": {
      "text/plain": [
       "const                    1.000000e+00\n",
       "tv_s                     1.307961e+05\n",
       "ooh_s                    2.853328e+05\n",
       "print_s                  2.458537e+05\n",
       "search_s                 5.972812e+04\n",
       "facebook_s               2.324126e+05\n",
       "tv_s_x_ooh_s             3.732043e+10\n",
       "tv_s_x_print_s           3.215671e+10\n",
       "tv_s_x_search_s          7.812208e+09\n",
       "tv_s_x_facebook_s        3.039867e+10\n",
       "ooh_s_x_print_s          7.015012e+10\n",
       "ooh_s_x_search_s         1.704239e+10\n",
       "ooh_s_x_facebook_s       6.631495e+10\n",
       "print_s_x_search_s       1.468438e+10\n",
       "print_s_x_facebook_s     5.713950e+10\n",
       "search_s_x_facebook_s    1.388157e+10\n",
       "month                    1.000000e+00\n",
       "Name: 7, dtype: float64"
      ]
     },
     "execution_count": 533,
     "metadata": {},
     "output_type": "execute_result"
    }
   ],
   "source": [
    "# get the row of index = 59\n",
    "X_train.iloc[59]"
   ]
  },
  {
   "cell_type": "markdown",
   "metadata": {},
   "source": []
  },
  {
   "cell_type": "code",
   "execution_count": 406,
   "metadata": {},
   "outputs": [
    {
     "data": {
      "text/plain": [
       "[LinearRegression(),\n",
       " AdaBoostRegressor(),\n",
       " XGBRegressor(base_score=0.5, booster='gbtree', callbacks=None,\n",
       "              colsample_bylevel=1, colsample_bynode=1, colsample_bytree=1,\n",
       "              early_stopping_rounds=None, enable_categorical=False,\n",
       "              eval_metric=None, gamma=0, gpu_id=-1, grow_policy='depthwise',\n",
       "              importance_type=None, interaction_constraints='',\n",
       "              learning_rate=0.300000012, max_bin=256, max_cat_to_onehot=4,\n",
       "              max_delta_step=0, max_depth=6, max_leaves=0, min_child_weight=1,\n",
       "              missing=nan, monotone_constraints='()', n_estimators=100, n_jobs=0,\n",
       "              num_parallel_tree=1, predictor='auto', random_state=0, reg_alpha=0,\n",
       "              reg_lambda=1, ...),\n",
       " RandomForestRegressor(),\n",
       " DecisionTreeRegressor(),\n",
       " GradientBoostingRegressor(),\n",
       " KNeighborsRegressor()]"
      ]
     },
     "execution_count": 406,
     "metadata": {},
     "output_type": "execute_result"
    }
   ],
   "source": [
    "names = [\"LinearRegression\", \"AdaBoostRegressor\",\"XGBRegressor\",\"RandomForestRegressor\",\"DecisionTreeRegressor\",\n",
    "        \"GradientBoostingRegressor\",\"KNeighborsRegressor\"]\n",
    "models = [lr, ada, xgb, rfr, dtr, gbr, knn]\n",
    "models"
   ]
  },
  {
   "cell_type": "code",
   "execution_count": 407,
   "metadata": {},
   "outputs": [
    {
     "name": "stdout",
     "output_type": "stream",
     "text": [
      "Training LinearRegression...\n",
      "Testing decay rate: 0.05\n",
      "LinearRegression R-squared: 0.466\n",
      "Testing decay rate: 0.10\n",
      "LinearRegression R-squared: 0.470\n",
      "Testing decay rate: 0.15\n",
      "LinearRegression R-squared: 0.503\n",
      "Testing decay rate: 0.20\n",
      "LinearRegression R-squared: 0.528\n",
      "Testing decay rate: 0.25\n",
      "LinearRegression R-squared: 0.553\n",
      "Testing decay rate: 0.30\n",
      "LinearRegression R-squared: 0.579\n",
      "Testing decay rate: 0.35\n",
      "LinearRegression R-squared: 0.531\n",
      "Testing decay rate: 0.40\n",
      "LinearRegression R-squared: 0.562\n",
      "Testing decay rate: 0.45\n",
      "LinearRegression R-squared: 0.560\n",
      "Testing decay rate: 0.50\n",
      "LinearRegression R-squared: 0.587\n",
      "Testing decay rate: 0.55\n",
      "LinearRegression R-squared: 0.618\n",
      "Testing decay rate: 0.60\n",
      "LinearRegression R-squared: 0.738\n",
      "Testing decay rate: 0.65\n",
      "LinearRegression R-squared: 0.698\n",
      "Testing decay rate: 0.70\n",
      "LinearRegression R-squared: 0.682\n",
      "Testing decay rate: 0.75\n",
      "LinearRegression R-squared: 0.701\n",
      "Testing decay rate: 0.80\n",
      "LinearRegression R-squared: 0.706\n",
      "Testing decay rate: 0.85\n",
      "LinearRegression R-squared: 0.777\n",
      "Testing decay rate: 0.90\n",
      "LinearRegression R-squared: 0.672\n",
      "Testing decay rate: 0.95\n",
      "LinearRegression R-squared: 0.750\n",
      "Training AdaBoostRegressor...\n",
      "Testing decay rate: 0.05\n",
      "AdaBoostRegressor R-squared: 0.661\n",
      "Testing decay rate: 0.10\n",
      "AdaBoostRegressor R-squared: 0.685\n",
      "Testing decay rate: 0.15\n",
      "AdaBoostRegressor R-squared: 0.671\n",
      "Testing decay rate: 0.20\n",
      "AdaBoostRegressor R-squared: 0.652\n",
      "Testing decay rate: 0.25\n",
      "AdaBoostRegressor R-squared: 0.643\n",
      "Testing decay rate: 0.30\n",
      "AdaBoostRegressor R-squared: 0.692\n",
      "Testing decay rate: 0.35\n",
      "AdaBoostRegressor R-squared: 0.659\n",
      "Testing decay rate: 0.40\n",
      "AdaBoostRegressor R-squared: 0.642\n",
      "Testing decay rate: 0.45\n",
      "AdaBoostRegressor R-squared: 0.667\n",
      "Testing decay rate: 0.50\n",
      "AdaBoostRegressor R-squared: 0.626\n",
      "Testing decay rate: 0.55\n",
      "AdaBoostRegressor R-squared: 0.660\n",
      "Testing decay rate: 0.60\n",
      "AdaBoostRegressor R-squared: 0.675\n",
      "Testing decay rate: 0.65\n",
      "AdaBoostRegressor R-squared: 0.691\n",
      "Testing decay rate: 0.70\n",
      "AdaBoostRegressor R-squared: 0.642\n",
      "Testing decay rate: 0.75\n",
      "AdaBoostRegressor R-squared: 0.674\n",
      "Testing decay rate: 0.80\n",
      "AdaBoostRegressor R-squared: 0.686\n",
      "Testing decay rate: 0.85\n",
      "AdaBoostRegressor R-squared: 0.698\n",
      "Testing decay rate: 0.90\n",
      "AdaBoostRegressor R-squared: 0.686\n",
      "Testing decay rate: 0.95\n",
      "AdaBoostRegressor R-squared: 0.673\n",
      "Training XGBRegressor...\n",
      "Testing decay rate: 0.05\n",
      "XGBRegressor R-squared: 0.649\n",
      "Testing decay rate: 0.10\n",
      "XGBRegressor R-squared: 0.706\n",
      "Testing decay rate: 0.15\n",
      "XGBRegressor R-squared: 0.715\n",
      "Testing decay rate: 0.20\n",
      "XGBRegressor R-squared: 0.672\n",
      "Testing decay rate: 0.25\n",
      "XGBRegressor R-squared: 0.702\n",
      "Testing decay rate: 0.30\n",
      "XGBRegressor R-squared: 0.702\n",
      "Testing decay rate: 0.35\n",
      "XGBRegressor R-squared: 0.712\n",
      "Testing decay rate: 0.40\n",
      "XGBRegressor R-squared: 0.711\n",
      "Testing decay rate: 0.45\n",
      "XGBRegressor R-squared: 0.682\n",
      "Testing decay rate: 0.50\n",
      "XGBRegressor R-squared: 0.694\n",
      "Testing decay rate: 0.55\n",
      "XGBRegressor R-squared: 0.696\n",
      "Testing decay rate: 0.60\n",
      "XGBRegressor R-squared: 0.744\n",
      "Testing decay rate: 0.65\n",
      "XGBRegressor R-squared: 0.663\n",
      "Testing decay rate: 0.70\n",
      "XGBRegressor R-squared: 0.607\n",
      "Testing decay rate: 0.75\n",
      "XGBRegressor R-squared: 0.657\n",
      "Testing decay rate: 0.80\n",
      "XGBRegressor R-squared: 0.648\n",
      "Testing decay rate: 0.85\n",
      "XGBRegressor R-squared: 0.777\n",
      "Testing decay rate: 0.90\n",
      "XGBRegressor R-squared: 0.699\n",
      "Testing decay rate: 0.95\n",
      "XGBRegressor R-squared: 0.690\n",
      "Training RandomForestRegressor...\n",
      "Testing decay rate: 0.05\n",
      "RandomForestRegressor R-squared: 0.718\n",
      "Testing decay rate: 0.10\n",
      "RandomForestRegressor R-squared: 0.721\n",
      "Testing decay rate: 0.15\n",
      "RandomForestRegressor R-squared: 0.712\n",
      "Testing decay rate: 0.20\n",
      "RandomForestRegressor R-squared: 0.700\n",
      "Testing decay rate: 0.25\n",
      "RandomForestRegressor R-squared: 0.690\n",
      "Testing decay rate: 0.30\n",
      "RandomForestRegressor R-squared: 0.733\n",
      "Testing decay rate: 0.35\n",
      "RandomForestRegressor R-squared: 0.765\n",
      "Testing decay rate: 0.40\n",
      "RandomForestRegressor R-squared: 0.768\n",
      "Testing decay rate: 0.45\n",
      "RandomForestRegressor R-squared: 0.766\n",
      "Testing decay rate: 0.50\n",
      "RandomForestRegressor R-squared: 0.753\n",
      "Testing decay rate: 0.55\n",
      "RandomForestRegressor R-squared: 0.744\n",
      "Testing decay rate: 0.60\n",
      "RandomForestRegressor R-squared: 0.748\n",
      "Testing decay rate: 0.65\n",
      "RandomForestRegressor R-squared: 0.708\n",
      "Testing decay rate: 0.70\n",
      "RandomForestRegressor R-squared: 0.666\n",
      "Testing decay rate: 0.75\n",
      "RandomForestRegressor R-squared: 0.724\n",
      "Testing decay rate: 0.80\n",
      "RandomForestRegressor R-squared: 0.756\n",
      "Testing decay rate: 0.85\n",
      "RandomForestRegressor R-squared: 0.787\n",
      "Testing decay rate: 0.90\n",
      "RandomForestRegressor R-squared: 0.737\n",
      "Testing decay rate: 0.95\n",
      "RandomForestRegressor R-squared: 0.781\n",
      "Training DecisionTreeRegressor...\n",
      "Testing decay rate: 0.05\n",
      "DecisionTreeRegressor R-squared: 0.527\n",
      "Testing decay rate: 0.10\n",
      "DecisionTreeRegressor R-squared: 0.396\n",
      "Testing decay rate: 0.15\n",
      "DecisionTreeRegressor R-squared: 0.445\n",
      "Testing decay rate: 0.20\n",
      "DecisionTreeRegressor R-squared: 0.505\n",
      "Testing decay rate: 0.25\n",
      "DecisionTreeRegressor R-squared: 0.445\n",
      "Testing decay rate: 0.30\n",
      "DecisionTreeRegressor R-squared: 0.462\n",
      "Testing decay rate: 0.35\n",
      "DecisionTreeRegressor R-squared: 0.497\n",
      "Testing decay rate: 0.40\n",
      "DecisionTreeRegressor R-squared: 0.500\n",
      "Testing decay rate: 0.45\n",
      "DecisionTreeRegressor R-squared: 0.351\n",
      "Testing decay rate: 0.50\n",
      "DecisionTreeRegressor R-squared: 0.270\n",
      "Testing decay rate: 0.55\n",
      "DecisionTreeRegressor R-squared: 0.548\n",
      "Testing decay rate: 0.60\n",
      "DecisionTreeRegressor R-squared: 0.468\n",
      "Testing decay rate: 0.65\n",
      "DecisionTreeRegressor R-squared: 0.441\n",
      "Testing decay rate: 0.70\n",
      "DecisionTreeRegressor R-squared: 0.499\n",
      "Testing decay rate: 0.75\n",
      "DecisionTreeRegressor R-squared: 0.548\n",
      "Testing decay rate: 0.80\n",
      "DecisionTreeRegressor R-squared: 0.691\n",
      "Testing decay rate: 0.85\n",
      "DecisionTreeRegressor R-squared: 0.577\n",
      "Testing decay rate: 0.90\n",
      "DecisionTreeRegressor R-squared: 0.518\n",
      "Testing decay rate: 0.95\n",
      "DecisionTreeRegressor R-squared: 0.485\n",
      "Training GradientBoostingRegressor...\n",
      "Testing decay rate: 0.05\n",
      "GradientBoostingRegressor R-squared: 0.697\n",
      "Testing decay rate: 0.10\n",
      "GradientBoostingRegressor R-squared: 0.713\n",
      "Testing decay rate: 0.15\n",
      "GradientBoostingRegressor R-squared: 0.745\n",
      "Testing decay rate: 0.20\n",
      "GradientBoostingRegressor R-squared: 0.745\n",
      "Testing decay rate: 0.25\n",
      "GradientBoostingRegressor R-squared: 0.738\n",
      "Testing decay rate: 0.30\n",
      "GradientBoostingRegressor R-squared: 0.699\n",
      "Testing decay rate: 0.35\n",
      "GradientBoostingRegressor R-squared: 0.752\n",
      "Testing decay rate: 0.40\n",
      "GradientBoostingRegressor R-squared: 0.747\n",
      "Testing decay rate: 0.45\n",
      "GradientBoostingRegressor R-squared: 0.725\n",
      "Testing decay rate: 0.50\n",
      "GradientBoostingRegressor R-squared: 0.766\n",
      "Testing decay rate: 0.55\n",
      "GradientBoostingRegressor R-squared: 0.790\n",
      "Testing decay rate: 0.60\n",
      "GradientBoostingRegressor R-squared: 0.685\n",
      "Testing decay rate: 0.65\n",
      "GradientBoostingRegressor R-squared: 0.674\n",
      "Testing decay rate: 0.70\n",
      "GradientBoostingRegressor R-squared: 0.621\n",
      "Testing decay rate: 0.75\n",
      "GradientBoostingRegressor R-squared: 0.654\n",
      "Testing decay rate: 0.80\n",
      "GradientBoostingRegressor R-squared: 0.663\n",
      "Testing decay rate: 0.85\n",
      "GradientBoostingRegressor R-squared: 0.770\n",
      "Testing decay rate: 0.90\n",
      "GradientBoostingRegressor R-squared: 0.707\n",
      "Testing decay rate: 0.95\n",
      "GradientBoostingRegressor R-squared: 0.727\n",
      "Training KNeighborsRegressor...\n",
      "Testing decay rate: 0.05\n",
      "KNeighborsRegressor R-squared: 0.368\n",
      "Testing decay rate: 0.10\n",
      "KNeighborsRegressor R-squared: 0.370\n",
      "Testing decay rate: 0.15\n",
      "KNeighborsRegressor R-squared: 0.348\n",
      "Testing decay rate: 0.20\n",
      "KNeighborsRegressor R-squared: 0.355\n",
      "Testing decay rate: 0.25\n",
      "KNeighborsRegressor R-squared: 0.425\n",
      "Testing decay rate: 0.30\n",
      "KNeighborsRegressor R-squared: 0.434\n",
      "Testing decay rate: 0.35\n",
      "KNeighborsRegressor R-squared: 0.392\n",
      "Testing decay rate: 0.40\n",
      "KNeighborsRegressor R-squared: 0.483\n",
      "Testing decay rate: 0.45\n",
      "KNeighborsRegressor R-squared: 0.536\n",
      "Testing decay rate: 0.50\n",
      "KNeighborsRegressor R-squared: 0.583\n",
      "Testing decay rate: 0.55\n",
      "KNeighborsRegressor R-squared: 0.548\n",
      "Testing decay rate: 0.60\n",
      "KNeighborsRegressor R-squared: 0.657\n",
      "Testing decay rate: 0.65\n",
      "KNeighborsRegressor R-squared: 0.657\n",
      "Testing decay rate: 0.70\n",
      "KNeighborsRegressor R-squared: 0.588\n",
      "Testing decay rate: 0.75\n",
      "KNeighborsRegressor R-squared: 0.574\n",
      "Testing decay rate: 0.80\n",
      "KNeighborsRegressor R-squared: 0.655\n",
      "Testing decay rate: 0.85\n",
      "KNeighborsRegressor R-squared: 0.659\n",
      "Testing decay rate: 0.90\n",
      "KNeighborsRegressor R-squared: 0.698\n",
      "Testing decay rate: 0.95\n",
      "KNeighborsRegressor R-squared: 0.727\n"
     ]
    }
   ],
   "source": [
    "import numpy as np\n",
    "\n",
    "# Define a range of potential decay rates to test\n",
    "decay_rates = np.linspace(0.05, 0.95, 19)  # Testing 21 values from 0 to 1\n",
    "\n",
    "results = []\n",
    "\n",
    "for name, model in zip(names, models):\n",
    "    print(f\"Training {name}...\")\n",
    "    for decay_rate in decay_rates:\n",
    "        print(f\"Testing decay rate: {decay_rate:.2f}\")\n",
    "        model, r2, mae, rmse = evaluate_model_with_decay(model, decay_rate, data)\n",
    "        results.append((name, decay_rate, model, r2, mae, rmse))\n",
    "        print(f\"{name} R-squared: {r2:.3f}\")\n",
    "\n",
    "# results now contains the performance of each model for each decay rate"
   ]
  },
  {
   "cell_type": "code",
   "execution_count": 408,
   "metadata": {},
   "outputs": [
    {
     "data": {
      "text/plain": [
       "('GradientBoostingRegressor',\n",
       " 0.5499999999999999,\n",
       " GradientBoostingRegressor(),\n",
       " 0.7898103940412705,\n",
       " 222179.62742040597,\n",
       " 310051.2894419429)"
      ]
     },
     "execution_count": 408,
     "metadata": {},
     "output_type": "execute_result"
    }
   ],
   "source": [
    "# get all R-squared from results\n",
    "r2_results = [result[3] for result in results]\n",
    "# model with the highest R-squared\n",
    "best_model_index = r2_results.index(max(r2_results))\n",
    "best_model = results[best_model_index]\n",
    "best_model"
   ]
  },
  {
   "cell_type": "code",
   "execution_count": 409,
   "metadata": {},
   "outputs": [
    {
     "data": {
      "image/png": "[encoded data removed]",
      "text/plain": [
       "<Figure size 1000x600 with 1 Axes>"
      ]
     },
     "metadata": {},
     "output_type": "display_data"
    }
   ],
   "source": [
    "# Plotting decay rates vs MSE scores to visualize the performance\n",
    "plt.figure(figsize=(10, 6))\n",
    "for name in names:\n",
    "    model_results = [result for result in results if result[0] == name]\n",
    "    decay_rates = [result[1] for result in model_results]\n",
    "    r2_scores = [result[3] for result in model_results]\n",
    "    plt.plot(decay_rates, r2_scores, label=name)\n",
    "plt.xlabel(\"Decay Rate\")\n",
    "plt.ylabel(\"R-squared\")\n",
    "plt.legend()\n",
    "plt.title(\"Model Performance vs Decay Rate\")\n",
    "plt.show()\n",
    "\n"
   ]
  },
  {
   "cell_type": "code",
   "execution_count": 352,
   "metadata": {},
   "outputs": [],
   "source": [
    "import numpy as np\n",
    "import pandas as pd\n",
    "import matplotlib.pyplot as plt\n",
    "\n",
    "# Function to create a prediction dataset for a given media channel\n",
    "\n",
    "# Function to create a prediction dataset for a given media channel\n",
    "def create_prediction_data_and_predict(model, X_base, media_channel, spending_range):\n",
    "    \"\"\"\n",
    "    Create a dataframe for predictions by varying spending in one media channel and predict outcomes.\n",
    "    \n",
    "    Parameters:\n",
    "    - model: The trained model to use for predictions.\n",
    "    - X_base: DataFrame without the target variable, used as a base for other variables' values.\n",
    "    - media_channel: The media channel for which to vary spending.\n",
    "    - spending_range: Range of values to use for the given media channel.\n",
    "    \n",
    "    Returns:\n",
    "    - predictions: Array of predicted outcomes corresponding to the varied spending.\n",
    "    \"\"\"\n",
    "    # Copy X_base to ensure original data is not modified\n",
    "    X_pred = X_base.copy()\n",
    "    \n",
    "    # Set all media spending to their mean, except for the channel of interest\n",
    "    for media in media_spend_list:\n",
    "        X_pred[media] = X_pred[media].mean()\n",
    "    \n",
    "    # Ensure X_pred has the correct length to match spending_range\n",
    "    X_pred = X_pred.iloc[:len(spending_range)]\n",
    "    \n",
    "    # Vary spending for the specified channel\n",
    "    X_pred[media_channel] = spending_range\n",
    "    \n",
    "    # Make predictions using the model\n",
    "    predictions = model.predict(X_pred)\n",
    "    \n",
    "    return predictions\n",
    "\n",
    "\n",
    "# Base DataFrame for predictions, holding all variables constant at their mean, except the one of interest\n",
    "X_base = X_test.copy()  # Use a copy of X_test to avoid modifying original data\n",
    "\n",
    "# Define the spending range for visualization\n",
    "spending_range = np.linspace(0, X_test[media_spend_list].max().max(), len(X_base))  # Adjusted for smooth curves\n",
    "\n"
   ]
  },
  {
   "cell_type": "code",
   "execution_count": 353,
   "metadata": {},
   "outputs": [
    {
     "data": {
      "application/vnd.plotly.v1+json": {
       "config": {
        "plotlyServerURL": "https://plot.ly"
       },
       "data": [
        {
         "mode": "lines",
         "name": "Effect of tv_s",
         "type": "scatter",
         "x": [
          0,
          23766.257149840843,
          47532.51429968169,
          71298.77144952252,
          95065.02859936337,
          118831.28574920422,
          142597.54289904505,
          166363.8000488859,
          190130.05719872675,
          213896.3143485676,
          237662.57149840845,
          261428.82864824927,
          285195.0857980901,
          308961.34294793097,
          332727.6000977718,
          356493.8572476127,
          380260.1143974535,
          404026.3715472943,
          427792.6286971352,
          451558.885846976,
          475325.1429968169,
          499091.4001466577,
          522857.65729649854,
          546623.9144463394,
          570390.1715961802,
          594156.4287460211,
          617922.6858958619,
          641688.9430457028,
          665455.2001955436,
          689221.4573453844,
          712987.7144952253,
          736753.9716450662,
          760520.228794907,
          784286.4859447478,
          808052.7430945886,
          831819.0002444296,
          855585.2573942704,
          879351.5145441112,
          903117.771693952,
          926884.0288437929,
          950650.2859936337
         ],
         "y": [
          1255220.3847919346,
          1683066.0773117896,
          1444645.9375749466,
          1321573.8687344026,
          1526003.2486669174,
          1694807.982002458,
          1448599.6819520104,
          1700996.771285238,
          1746312.2800762719,
          1461545.312702478,
          1584441.442585297,
          2002171.7208480986,
          1754203.770240583,
          2371548.7870804896,
          1910454.5560689007,
          1942354.6299206722,
          1710697.9064916573,
          1610845.2580927121,
          1875229.773583552,
          1895485.6892027287,
          1730908.2322243159,
          1903658.987227847,
          1924062.216950322,
          1688558.7370399418,
          1832875.8064344882,
          1822403.0937135331,
          1877054.6567032356,
          2155965.9880733476,
          1942266.3415965568,
          2093863.1233228878,
          2160710.7586388327,
          2117128.75695888,
          2066202.3445713762,
          2179852.207177488,
          2116822.056007461,
          2888044.108446005,
          2448850.227784149,
          2449787.797944833,
          2596418.250410245,
          2160987.73308654,
          2136526.000920839
         ]
        },
        {
         "mode": "lines",
         "name": "Effect of ooh_s",
         "type": "scatter",
         "x": [
          0,
          23766.257149840843,
          47532.51429968169,
          71298.77144952252,
          95065.02859936337,
          118831.28574920422,
          142597.54289904505,
          166363.8000488859,
          190130.05719872675,
          213896.3143485676,
          237662.57149840845,
          261428.82864824927,
          285195.0857980901,
          308961.34294793097,
          332727.6000977718,
          356493.8572476127,
          380260.1143974535,
          404026.3715472943,
          427792.6286971352,
          451558.885846976,
          475325.1429968169,
          499091.4001466577,
          522857.65729649854,
          546623.9144463394,
          570390.1715961802,
          594156.4287460211,
          617922.6858958619,
          641688.9430457028,
          665455.2001955436,
          689221.4573453844,
          712987.7144952253,
          736753.9716450662,
          760520.228794907,
          784286.4859447478,
          808052.7430945886,
          831819.0002444296,
          855585.2573942704,
          879351.5145441112,
          903117.771693952,
          926884.0288437929,
          950650.2859936337
         ],
         "y": [
          1267783.0638563235,
          1733618.653365357,
          1525292.7405506792,
          1415740.5832967442,
          1614774.6554162744,
          1763088.7368014609,
          1485673.3688790973,
          1704284.6848480334,
          1718808.7043605756,
          1407574.5074152767,
          1506411.734066063,
          1911343.8450496565,
          1669376.9333637096,
          2314510.782089295,
          1897480.6628374332,
          1978813.510212045,
          1790410.4975120786,
          1719410.6125455555,
          1994772.244275035,
          2005931.9040764803,
          1815868.384447652,
          1952482.639881856,
          1929255.25253821,
          1643622.9352751698,
          1732705.8114069696,
          1662523.025968377,
          1654993.330316135,
          1872070.7603017304,
          1599219.283239657,
          1694224.8467303773,
          1705615.5073535587,
          1606328.4774919944,
          1498960.1763413744,
          1556999.3431790858,
          1441108.8061828976,
          2163626.3593802974,
          1680847.1859479323,
          1644216.359404134,
          1760067.632135182,
          1301461.607180435,
          1262116.6391882696
         ]
        },
        {
         "mode": "lines",
         "name": "Effect of print_s",
         "type": "scatter",
         "x": [
          0,
          23766.257149840843,
          47532.51429968169,
          71298.77144952252,
          95065.02859936337,
          118831.28574920422,
          142597.54289904505,
          166363.8000488859,
          190130.05719872675,
          213896.3143485676,
          237662.57149840845,
          261428.82864824927,
          285195.0857980901,
          308961.34294793097,
          332727.6000977718,
          356493.8572476127,
          380260.1143974535,
          404026.3715472943,
          427792.6286971352,
          451558.885846976,
          475325.1429968169,
          499091.4001466577,
          522857.65729649854,
          546623.9144463394,
          570390.1715961802,
          594156.4287460211,
          617922.6858958619,
          641688.9430457028,
          665455.2001955436,
          689221.4573453844,
          712987.7144952253,
          736753.9716450662,
          760520.228794907,
          784286.4859447478,
          808052.7430945886,
          831819.0002444296,
          855585.2573942704,
          879351.5145441112,
          903117.771693952,
          926884.0288437929,
          950650.2859936337
         ],
         "y": [
          1162418.539719591,
          1931923.366071531,
          1573007.3770261193,
          1330813.1624782982,
          1513628.1870833167,
          1762704.191034161,
          1583732.3686369183,
          1744446.0886772887,
          1742563.5382434605,
          1531560.7919817609,
          1727508.6911048617,
          2108598.1513007735,
          1734806.8021943385,
          2229992.5049349256,
          1660705.1083047513,
          1597213.990279514,
          1281309.7878754302,
          1103503.3616530006,
          1290098.908270773,
          1227003.108564748,
          970675.4619363337,
          1041700.0085477595,
          949048.4585392645,
          589533.7586975493,
          600069.2619023554,
          447445.83779897797,
          354794.2877904838,
          485395.39017757936,
          126276.00865507592,
          136811.5118598817,
          67078.90204143478,
          -108463.46225198917,
          -286269.88847441925,
          -293766.5622689789,
          -471572.9884914076,
          191658.40474804398,
          -348468.55989887146,
          -441120.10990736587,
          -380229.2745989659,
          -892891.041438363,
          -985542.5914468565
         ]
        },
        {
         "mode": "lines",
         "name": "Effect of search_s",
         "type": "scatter",
         "x": [
          0,
          23766.257149840843,
          47532.51429968169,
          71298.77144952252,
          95065.02859936337,
          118831.28574920422,
          142597.54289904505,
          166363.8000488859,
          190130.05719872675,
          213896.3143485676,
          237662.57149840845,
          261428.82864824927,
          285195.0857980901,
          308961.34294793097,
          332727.6000977718,
          356493.8572476127,
          380260.1143974535,
          404026.3715472943,
          427792.6286971352,
          451558.885846976,
          475325.1429968169,
          499091.4001466577,
          522857.65729649854,
          546623.9144463394,
          570390.1715961802,
          594156.4287460211,
          617922.6858958619,
          641688.9430457028,
          665455.2001955436,
          689221.4573453844,
          712987.7144952253,
          736753.9716450662,
          760520.228794907,
          784286.4859447478,
          808052.7430945886,
          831819.0002444296,
          855585.2573942704,
          879351.5145441112,
          903117.771693952,
          926884.0288437929,
          950650.2859936337
         ],
         "y": [
          1738243.5543275792,
          1886494.973179615,
          1562882.7128061769,
          1385152.0553361545,
          1714547.640949757,
          2080051.6777736102,
          1888334.737418225,
          2178531.9514195104,
          2316478.636276993,
          2041308.377308373,
          2279022.523011961,
          2967719.699426729,
          2999500.808076389,
          3908939.638641423,
          3753905.369835695,
          4104667.3796349056,
          4203016.305055268,
          4439463.006657286,
          5040311.681099504,
          5391469.009217925,
          5549394.490413958,
          6034672.164849829,
          6356273.74266578,
          6411012.170648512,
          6835800.801677763,
          7097430.505398835,
          7419032.083214787,
          7963886.313426328,
          8019020.059728272,
          8443808.690757522,
          8788329.208763529,
          9027039.972294549,
          9263486.673896566,
          9670243.127926454,
          9906689.82952847,
          10984174.350592367,
          10858300.513769897,
          11179902.09158585,
          11655046.054718696,
          11556637.415703746,
          11878238.993519695
         ]
        },
        {
         "mode": "lines",
         "name": "Effect of facebook_s",
         "type": "scatter",
         "x": [
          0,
          23766.257149840843,
          47532.51429968169,
          71298.77144952252,
          95065.02859936337,
          118831.28574920422,
          142597.54289904505,
          166363.8000488859,
          190130.05719872675,
          213896.3143485676,
          237662.57149840845,
          261428.82864824927,
          285195.0857980901,
          308961.34294793097,
          332727.6000977718,
          356493.8572476127,
          380260.1143974535,
          404026.3715472943,
          427792.6286971352,
          451558.885846976,
          475325.1429968169,
          499091.4001466577,
          522857.65729649854,
          546623.9144463394,
          570390.1715961802,
          594156.4287460211,
          617922.6858958619,
          641688.9430457028,
          665455.2001955436,
          689221.4573453844,
          712987.7144952253,
          736753.9716450662,
          760520.228794907,
          784286.4859447478,
          808052.7430945886,
          831819.0002444296,
          855585.2573942704,
          879351.5145441112,
          903117.771693952,
          926884.0288437929,
          950650.2859936337
         ],
         "y": [
          1543602.5807607067,
          1846183.2813911028,
          1525489.6213402487,
          1348068.53205773,
          1535328.8917019786,
          1732141.7568717052,
          1523785.8890630347,
          1824060.4450364937,
          1938844.915837052,
          1740895.9586360916,
          1938732.0489329712,
          2383846.362781647,
          2101401.303359148,
          2685295.261003866,
          2211323.130274893,
          2216400.171276181,
          1920951.2129527042,
          1744772.8525013023,
          1929357.1974063118,
          1855889.8036889927,
          1570806.2083118653,
          1594090.0690011946,
          1448400.845747185,
          1035848.4726599562,
          993346.3026192465,
          787685.2052703546,
          641995.982016345,
          719559.4111579263,
          307402.3563899081,
          264900.1863491996,
          142129.90328523703,
          -86450.13425370213,
          -317294.23372164695,
          -377828.5807617204,
          -608672.6802296652,
          1521.0397642715834,
          -591643.5981281605,
          -737332.8213821691,
          -729479.659319283,
          -1295179.0994041953,
          -1440868.322658205
         ]
        }
       ],
       "layout": {
        "legend": {
         "title": {
          "text": "Media Channels"
         }
        },
        "template": {
         "data": {
          "bar": [
           {
            "error_x": {
             "color": "#2a3f5f"
            },
            "error_y": {
             "color": "#2a3f5f"
            },
            "marker": {
             "line": {
              "color": "white",
              "width": 0.5
             },
             "pattern": {
              "fillmode": "overlay",
              "size": 10,
              "solidity": 0.2
             }
            },
            "type": "bar"
           }
          ],
          "barpolar": [
           {
            "marker": {
             "line": {
              "color": "white",
              "width": 0.5
             },
             "pattern": {
              "fillmode": "overlay",
              "size": 10,
              "solidity": 0.2
             }
            },
            "type": "barpolar"
           }
          ],
          "carpet": [
           {
            "aaxis": {
             "endlinecolor": "#2a3f5f",
             "gridcolor": "#C8D4E3",
             "linecolor": "#C8D4E3",
             "minorgridcolor": "#C8D4E3",
             "startlinecolor": "#2a3f5f"
            },
            "baxis": {
             "endlinecolor": "#2a3f5f",
             "gridcolor": "#C8D4E3",
             "linecolor": "#C8D4E3",
             "minorgridcolor": "#C8D4E3",
             "startlinecolor": "#2a3f5f"
            },
            "type": "carpet"
           }
          ],
          "choropleth": [
           {
            "colorbar": {
             "outlinewidth": 0,
             "ticks": ""
            },
            "type": "choropleth"
           }
          ],
          "contour": [
           {
            "colorbar": {
             "outlinewidth": 0,
             "ticks": ""
            },
            "colorscale": [
             [
              0,
              "#0d0887"
             ],
             [
              0.1111111111111111,
              "#46039f"
             ],
             [
              0.2222222222222222,
              "#7201a8"
             ],
             [
              0.3333333333333333,
              "#9c179e"
             ],
             [
              0.4444444444444444,
              "#bd3786"
             ],
             [
              0.5555555555555556,
              "#d8576b"
             ],
             [
              0.6666666666666666,
              "#ed7953"
             ],
             [
              0.7777777777777778,
              "#fb9f3a"
             ],
             [
              0.8888888888888888,
              "#fdca26"
             ],
             [
              1,
              "#f0f921"
             ]
            ],
            "type": "contour"
           }
          ],
          "contourcarpet": [
           {
            "colorbar": {
             "outlinewidth": 0,
             "ticks": ""
            },
            "type": "contourcarpet"
           }
          ],
          "heatmap": [
           {
            "colorbar": {
             "outlinewidth": 0,
             "ticks": ""
            },
            "colorscale": [
             [
              0,
              "#0d0887"
             ],
             [
              0.1111111111111111,
              "#46039f"
             ],
             [
              0.2222222222222222,
              "#7201a8"
             ],
             [
              0.3333333333333333,
              "#9c179e"
             ],
             [
              0.4444444444444444,
              "#bd3786"
             ],
             [
              0.5555555555555556,
              "#d8576b"
             ],
             [
              0.6666666666666666,
              "#ed7953"
             ],
             [
              0.7777777777777778,
              "#fb9f3a"
             ],
             [
              0.8888888888888888,
              "#fdca26"
             ],
             [
              1,
              "#f0f921"
             ]
            ],
            "type": "heatmap"
           }
          ],
          "heatmapgl": [
           {
            "colorbar": {
             "outlinewidth": 0,
             "ticks": ""
            },
            "colorscale": [
             [
              0,
              "#0d0887"
             ],
             [
              0.1111111111111111,
              "#46039f"
             ],
             [
              0.2222222222222222,
              "#7201a8"
             ],
             [
              0.3333333333333333,
              "#9c179e"
             ],
             [
              0.4444444444444444,
              "#bd3786"
             ],
             [
              0.5555555555555556,
              "#d8576b"
             ],
             [
              0.6666666666666666,
              "#ed7953"
             ],
             [
              0.7777777777777778,
              "#fb9f3a"
             ],
             [
              0.8888888888888888,
              "#fdca26"
             ],
             [
              1,
              "#f0f921"
             ]
            ],
            "type": "heatmapgl"
           }
          ],
          "histogram": [
           {
            "marker": {
             "pattern": {
              "fillmode": "overlay",
              "size": 10,
              "solidity": 0.2
             }
            },
            "type": "histogram"
           }
          ],
          "histogram2d": [
           {
            "colorbar": {
             "outlinewidth": 0,
             "ticks": ""
            },
            "colorscale": [
             [
              0,
              "#0d0887"
             ],
             [
              0.1111111111111111,
              "#46039f"
             ],
             [
              0.2222222222222222,
              "#7201a8"
             ],
             [
              0.3333333333333333,
              "#9c179e"
             ],
             [
              0.4444444444444444,
              "#bd3786"
             ],
             [
              0.5555555555555556,
              "#d8576b"
             ],
             [
              0.6666666666666666,
              "#ed7953"
             ],
             [
              0.7777777777777778,
              "#fb9f3a"
             ],
             [
              0.8888888888888888,
              "#fdca26"
             ],
             [
              1,
              "#f0f921"
             ]
            ],
            "type": "histogram2d"
           }
          ],
          "histogram2dcontour": [
           {
            "colorbar": {
             "outlinewidth": 0,
             "ticks": ""
            },
            "colorscale": [
             [
              0,
              "#0d0887"
             ],
             [
              0.1111111111111111,
              "#46039f"
             ],
             [
              0.2222222222222222,
              "#7201a8"
             ],
             [
              0.3333333333333333,
              "#9c179e"
             ],
             [
              0.4444444444444444,
              "#bd3786"
             ],
             [
              0.5555555555555556,
              "#d8576b"
             ],
             [
              0.6666666666666666,
              "#ed7953"
             ],
             [
              0.7777777777777778,
              "#fb9f3a"
             ],
             [
              0.8888888888888888,
              "#fdca26"
             ],
             [
              1,
              "#f0f921"
             ]
            ],
            "type": "histogram2dcontour"
           }
          ],
          "mesh3d": [
           {
            "colorbar": {
             "outlinewidth": 0,
             "ticks": ""
            },
            "type": "mesh3d"
           }
          ],
          "parcoords": [
           {
            "line": {
             "colorbar": {
              "outlinewidth": 0,
              "ticks": ""
             }
            },
            "type": "parcoords"
           }
          ],
          "pie": [
           {
            "automargin": true,
            "type": "pie"
           }
          ],
          "scatter": [
           {
            "fillpattern": {
             "fillmode": "overlay",
             "size": 10,
             "solidity": 0.2
            },
            "type": "scatter"
           }
          ],
          "scatter3d": [
           {
            "line": {
             "colorbar": {
              "outlinewidth": 0,
              "ticks": ""
             }
            },
            "marker": {
             "colorbar": {
              "outlinewidth": 0,
              "ticks": ""
             }
            },
            "type": "scatter3d"
           }
          ],
          "scattercarpet": [
           {
            "marker": {
             "colorbar": {
              "outlinewidth": 0,
              "ticks": ""
             }
            },
            "type": "scattercarpet"
           }
          ],
          "scattergeo": [
           {
            "marker": {
             "colorbar": {
              "outlinewidth": 0,
              "ticks": ""
             }
            },
            "type": "scattergeo"
           }
          ],
          "scattergl": [
           {
            "marker": {
             "colorbar": {
              "outlinewidth": 0,
              "ticks": ""
             }
            },
            "type": "scattergl"
           }
          ],
          "scattermapbox": [
           {
            "marker": {
             "colorbar": {
              "outlinewidth": 0,
              "ticks": ""
             }
            },
            "type": "scattermapbox"
           }
          ],
          "scatterpolar": [
           {
            "marker": {
             "colorbar": {
              "outlinewidth": 0,
              "ticks": ""
             }
            },
            "type": "scatterpolar"
           }
          ],
          "scatterpolargl": [
           {
            "marker": {
             "colorbar": {
              "outlinewidth": 0,
              "ticks": ""
             }
            },
            "type": "scatterpolargl"
           }
          ],
          "scatterternary": [
           {
            "marker": {
             "colorbar": {
              "outlinewidth": 0,
              "ticks": ""
             }
            },
            "type": "scatterternary"
           }
          ],
          "surface": [
           {
            "colorbar": {
             "outlinewidth": 0,
             "ticks": ""
            },
            "colorscale": [
             [
              0,
              "#0d0887"
             ],
             [
              0.1111111111111111,
              "#46039f"
             ],
             [
              0.2222222222222222,
              "#7201a8"
             ],
             [
              0.3333333333333333,
              "#9c179e"
             ],
             [
              0.4444444444444444,
              "#bd3786"
             ],
             [
              0.5555555555555556,
              "#d8576b"
             ],
             [
              0.6666666666666666,
              "#ed7953"
             ],
             [
              0.7777777777777778,
              "#fb9f3a"
             ],
             [
              0.8888888888888888,
              "#fdca26"
             ],
             [
              1,
              "#f0f921"
             ]
            ],
            "type": "surface"
           }
          ],
          "table": [
           {
            "cells": {
             "fill": {
              "color": "#EBF0F8"
             },
             "line": {
              "color": "white"
             }
            },
            "header": {
             "fill": {
              "color": "#C8D4E3"
             },
             "line": {
              "color": "white"
             }
            },
            "type": "table"
           }
          ]
         },
         "layout": {
          "annotationdefaults": {
           "arrowcolor": "#2a3f5f",
           "arrowhead": 0,
           "arrowwidth": 1
          },
          "autotypenumbers": "strict",
          "coloraxis": {
           "colorbar": {
            "outlinewidth": 0,
            "ticks": ""
           }
          },
          "colorscale": {
           "diverging": [
            [
             0,
             "#8e0152"
            ],
            [
             0.1,
             "#c51b7d"
            ],
            [
             0.2,
             "#de77ae"
            ],
            [
             0.3,
             "#f1b6da"
            ],
            [
             0.4,
             "#fde0ef"
            ],
            [
             0.5,
             "#f7f7f7"
            ],
            [
             0.6,
             "#e6f5d0"
            ],
            [
             0.7,
             "#b8e186"
            ],
            [
             0.8,
             "#7fbc41"
            ],
            [
             0.9,
             "#4d9221"
            ],
            [
             1,
             "#276419"
            ]
           ],
           "sequential": [
            [
             0,
             "#0d0887"
            ],
            [
             0.1111111111111111,
             "#46039f"
            ],
            [
             0.2222222222222222,
             "#7201a8"
            ],
            [
             0.3333333333333333,
             "#9c179e"
            ],
            [
             0.4444444444444444,
             "#bd3786"
            ],
            [
             0.5555555555555556,
             "#d8576b"
            ],
            [
             0.6666666666666666,
             "#ed7953"
            ],
            [
             0.7777777777777778,
             "#fb9f3a"
            ],
            [
             0.8888888888888888,
             "#fdca26"
            ],
            [
             1,
             "#f0f921"
            ]
           ],
           "sequentialminus": [
            [
             0,
             "#0d0887"
            ],
            [
             0.1111111111111111,
             "#46039f"
            ],
            [
             0.2222222222222222,
             "#7201a8"
            ],
            [
             0.3333333333333333,
             "#9c179e"
            ],
            [
             0.4444444444444444,
             "#bd3786"
            ],
            [
             0.5555555555555556,
             "#d8576b"
            ],
            [
             0.6666666666666666,
             "#ed7953"
            ],
            [
             0.7777777777777778,
             "#fb9f3a"
            ],
            [
             0.8888888888888888,
             "#fdca26"
            ],
            [
             1,
             "#f0f921"
            ]
           ]
          },
          "colorway": [
           "#636efa",
           "#EF553B",
           "#00cc96",
           "#ab63fa",
           "#FFA15A",
           "#19d3f3",
           "#FF6692",
           "#B6E880",
           "#FF97FF",
           "#FECB52"
          ],
          "font": {
           "color": "#2a3f5f"
          },
          "geo": {
           "bgcolor": "white",
           "lakecolor": "white",
           "landcolor": "white",
           "showlakes": true,
           "showland": true,
           "subunitcolor": "#C8D4E3"
          },
          "hoverlabel": {
           "align": "left"
          },
          "hovermode": "closest",
          "mapbox": {
           "style": "light"
          },
          "paper_bgcolor": "white",
          "plot_bgcolor": "white",
          "polar": {
           "angularaxis": {
            "gridcolor": "#EBF0F8",
            "linecolor": "#EBF0F8",
            "ticks": ""
           },
           "bgcolor": "white",
           "radialaxis": {
            "gridcolor": "#EBF0F8",
            "linecolor": "#EBF0F8",
            "ticks": ""
           }
          },
          "scene": {
           "xaxis": {
            "backgroundcolor": "white",
            "gridcolor": "#DFE8F3",
            "gridwidth": 2,
            "linecolor": "#EBF0F8",
            "showbackground": true,
            "ticks": "",
            "zerolinecolor": "#EBF0F8"
           },
           "yaxis": {
            "backgroundcolor": "white",
            "gridcolor": "#DFE8F3",
            "gridwidth": 2,
            "linecolor": "#EBF0F8",
            "showbackground": true,
            "ticks": "",
            "zerolinecolor": "#EBF0F8"
           },
           "zaxis": {
            "backgroundcolor": "white",
            "gridcolor": "#DFE8F3",
            "gridwidth": 2,
            "linecolor": "#EBF0F8",
            "showbackground": true,
            "ticks": "",
            "zerolinecolor": "#EBF0F8"
           }
          },
          "shapedefaults": {
           "line": {
            "color": "#2a3f5f"
           }
          },
          "ternary": {
           "aaxis": {
            "gridcolor": "#DFE8F3",
            "linecolor": "#A2B1C6",
            "ticks": ""
           },
           "baxis": {
            "gridcolor": "#DFE8F3",
            "linecolor": "#A2B1C6",
            "ticks": ""
           },
           "bgcolor": "white",
           "caxis": {
            "gridcolor": "#DFE8F3",
            "linecolor": "#A2B1C6",
            "ticks": ""
           }
          },
          "title": {
           "x": 0.05
          },
          "xaxis": {
           "automargin": true,
           "gridcolor": "#EBF0F8",
           "linecolor": "#EBF0F8",
           "ticks": "",
           "title": {
            "standoff": 15
           },
           "zerolinecolor": "#EBF0F8",
           "zerolinewidth": 2
          },
          "yaxis": {
           "automargin": true,
           "gridcolor": "#EBF0F8",
           "linecolor": "#EBF0F8",
           "ticks": "",
           "title": {
            "standoff": 15
           },
           "zerolinecolor": "#EBF0F8",
           "zerolinewidth": 2
          }
         }
        },
        "title": {
         "text": "Comparative Effect of Media Spendings on Revenue"
        },
        "xaxis": {
         "title": {
          "text": "Media Spending"
         }
        },
        "yaxis": {
         "title": {
          "text": "Predicted Revenue"
         }
        }
       }
      }
     },
     "metadata": {},
     "output_type": "display_data"
    }
   ],
   "source": [
    "import plotly.graph_objects as go\n",
    "\n",
    "# Initialize a figure with plotly\n",
    "fig = go.Figure()\n",
    "\n",
    "# Assuming 'media_spend_list', 'X_base', 'create_prediction_data_for_media', 'gam', and 'spending_range' are already defined\n",
    "\n",
    "# Visualize the effect of each media spending variable using Plotly\n",
    "for media_channel in media_spend_list:\n",
    "    X_pred = create_prediction_data_for_media(X_base, media_channel, spending_range)\n",
    "    predictions = gam.predict(X_pred)\n",
    "    fig.add_trace(go.Scatter(x=spending_range, y=predictions, mode='lines', name=f'Effect of {media_channel}'))\n",
    "\n",
    "fig.update_layout(title='Comparative Effect of Media Spendings on Revenue',\n",
    "                  xaxis_title='Media Spending',\n",
    "                  yaxis_title='Predicted Revenue',\n",
    "                  legend_title='Media Channels',\n",
    "                  template='plotly_white')\n",
    "\n",
    "# Display the figure\n",
    "fig.show()\n"
   ]
  },
  {
   "cell_type": "code",
   "execution_count": 378,
   "metadata": {},
   "outputs": [],
   "source": [
    "def objective(spend, model=gam, base_data=X, decay_rate=0.5, threshold=0.05):\n",
    "    \"\"\"\n",
    "    Objective function to be minimized.\n",
    "    \n",
    "    Parameters:\n",
    "    - spend: Array of spend by media channel.\n",
    "    - model: Trained GAM model.\n",
    "    - base_data: DataFrame containing base values for all features except media spends.\n",
    "    \n",
    "    Returns:\n",
    "    - Negative predicted revenue to be minimized.\n",
    "    \"\"\"\n",
    "    # Copy base_data to avoid modifying the original\n",
    "    X_pred = base_data.copy()\n",
    "    \n",
    "    # Update media spend values in X_pred with the values from 'spend'\n",
    "    for i, media in enumerate(media_spend_list):\n",
    "        X_pred[media] = spend[i]\n",
    "        X_pred[media] = apply_adstock(X_pred[media])\n",
    "    \n",
    "    # # calculate the t value\n",
    "    # t = round(math.log(threshold) / math.log(decay_rate))\n",
    "    # # exclude the first t rows\n",
    "    # X_pred = X_pred.iloc[t:]\n",
    "    \n",
    "    # Predict revenue with the updated media spends\n",
    "    predicted_revenue = model.predict(X_pred)\n",
    "    \n",
    "    # Return negative revenue because we are minimizing\n",
    "    return -np.sum(predicted_revenue)\n"
   ]
  },
  {
   "cell_type": "code",
   "execution_count": 379,
   "metadata": {},
   "outputs": [
    {
     "data": {
      "text/html": [
       "<div>\n",
       "<style scoped>\n",
       "    .dataframe tbody tr th:only-of-type {\n",
       "        vertical-align: middle;\n",
       "    }\n",
       "\n",
       "    .dataframe tbody tr th {\n",
       "        vertical-align: top;\n",
       "    }\n",
       "\n",
       "    .dataframe thead th {\n",
       "        text-align: right;\n",
       "    }\n",
       "</style>\n",
       "<table border=\"1\" class=\"dataframe\">\n",
       "  <thead>\n",
       "    <tr style=\"text-align: right;\">\n",
       "      <th></th>\n",
       "      <th>date</th>\n",
       "      <th>revenue</th>\n",
       "      <th>tv_s</th>\n",
       "      <th>ooh_s</th>\n",
       "      <th>print_s</th>\n",
       "      <th>facebook_i</th>\n",
       "      <th>search_clicks_p</th>\n",
       "      <th>search_s</th>\n",
       "      <th>competitor_sales_b</th>\n",
       "      <th>facebook_s</th>\n",
       "      <th>month</th>\n",
       "    </tr>\n",
       "  </thead>\n",
       "  <tbody>\n",
       "    <tr>\n",
       "      <th>0</th>\n",
       "      <td>2015-11-23</td>\n",
       "      <td>2.754372e+06</td>\n",
       "      <td>167687.6</td>\n",
       "      <td>0</td>\n",
       "      <td>95463.666667</td>\n",
       "      <td>7.290385e+07</td>\n",
       "      <td>0.000000</td>\n",
       "      <td>0</td>\n",
       "      <td>8125009</td>\n",
       "      <td>228213.987444</td>\n",
       "      <td>11</td>\n",
       "    </tr>\n",
       "    <tr>\n",
       "      <th>1</th>\n",
       "      <td>2015-11-30</td>\n",
       "      <td>2.584277e+06</td>\n",
       "      <td>214600.9</td>\n",
       "      <td>0</td>\n",
       "      <td>0.000000</td>\n",
       "      <td>1.658110e+07</td>\n",
       "      <td>29511.715457</td>\n",
       "      <td>31000</td>\n",
       "      <td>7901549</td>\n",
       "      <td>34258.573511</td>\n",
       "      <td>11</td>\n",
       "    </tr>\n",
       "    <tr>\n",
       "      <th>2</th>\n",
       "      <td>2015-12-07</td>\n",
       "      <td>2.547387e+06</td>\n",
       "      <td>0.0</td>\n",
       "      <td>248022</td>\n",
       "      <td>3404.000000</td>\n",
       "      <td>4.995477e+07</td>\n",
       "      <td>36132.358958</td>\n",
       "      <td>28400</td>\n",
       "      <td>8300197</td>\n",
       "      <td>127691.261335</td>\n",
       "      <td>12</td>\n",
       "    </tr>\n",
       "    <tr>\n",
       "      <th>3</th>\n",
       "      <td>2015-12-14</td>\n",
       "      <td>2.875220e+06</td>\n",
       "      <td>625877.3</td>\n",
       "      <td>0</td>\n",
       "      <td>132600.000000</td>\n",
       "      <td>3.164930e+07</td>\n",
       "      <td>36804.210958</td>\n",
       "      <td>31900</td>\n",
       "      <td>8122883</td>\n",
       "      <td>84014.720306</td>\n",
       "      <td>12</td>\n",
       "    </tr>\n",
       "    <tr>\n",
       "      <th>4</th>\n",
       "      <td>2015-12-21</td>\n",
       "      <td>2.215953e+06</td>\n",
       "      <td>0.0</td>\n",
       "      <td>520005</td>\n",
       "      <td>0.000000</td>\n",
       "      <td>8.802269e+06</td>\n",
       "      <td>28401.744069</td>\n",
       "      <td>27100</td>\n",
       "      <td>7105985</td>\n",
       "      <td>20687.478156</td>\n",
       "      <td>12</td>\n",
       "    </tr>\n",
       "  </tbody>\n",
       "</table>\n",
       "</div>"
      ],
      "text/plain": [
       "         date       revenue      tv_s   ooh_s        print_s    facebook_i  \\\n",
       "0  2015-11-23  2.754372e+06  167687.6       0   95463.666667  7.290385e+07   \n",
       "1  2015-11-30  2.584277e+06  214600.9       0       0.000000  1.658110e+07   \n",
       "2  2015-12-07  2.547387e+06       0.0  248022    3404.000000  4.995477e+07   \n",
       "3  2015-12-14  2.875220e+06  625877.3       0  132600.000000  3.164930e+07   \n",
       "4  2015-12-21  2.215953e+06       0.0  520005       0.000000  8.802269e+06   \n",
       "\n",
       "   search_clicks_p  search_s  competitor_sales_b     facebook_s  month  \n",
       "0         0.000000         0             8125009  228213.987444     11  \n",
       "1     29511.715457     31000             7901549   34258.573511     11  \n",
       "2     36132.358958     28400             8300197  127691.261335     12  \n",
       "3     36804.210958     31900             8122883   84014.720306     12  \n",
       "4     28401.744069     27100             7105985   20687.478156     12  "
      ]
     },
     "execution_count": 379,
     "metadata": {},
     "output_type": "execute_result"
    }
   ],
   "source": [
    "data['month'] = pd.to_datetime(data['date']).dt.month\n",
    "data.head()"
   ]
  },
  {
   "cell_type": "code",
   "execution_count": 380,
   "metadata": {},
   "outputs": [
    {
     "data": {
      "text/plain": [
       "ExpectileGAM(callbacks=[Deviance(), Diffs()], expectile=0.75, \n",
       "   fit_intercept=True, max_iter=100, scale=None, \n",
       "   terms=s(0) + s(1) + s(2) + s(3) + s(4) + f(5) + intercept, \n",
       "   tol=0.0001, verbose=False)"
      ]
     },
     "execution_count": 380,
     "metadata": {},
     "output_type": "execute_result"
    }
   ],
   "source": [
    "gam"
   ]
  },
  {
   "cell_type": "code",
   "execution_count": 381,
   "metadata": {},
   "outputs": [
    {
     "data": {
      "text/plain": [
       "tv_s          2.315616e+07\n",
       "ooh_s         1.685500e+07\n",
       "print_s       5.816666e+06\n",
       "search_s      9.228200e+06\n",
       "facebook_s    1.338890e+07\n",
       "dtype: float64"
      ]
     },
     "execution_count": 381,
     "metadata": {},
     "output_type": "execute_result"
    }
   ],
   "source": [
    "spend = data[media_spend_list].copy()\n",
    "spend.sum()"
   ]
  },
  {
   "cell_type": "code",
   "execution_count": 382,
   "metadata": {},
   "outputs": [],
   "source": [
    "from scipy.optimize import minimize\n",
    "\n",
    "# Total budget constraint\n",
    "total_budget = data[media_spend_list].sum().sum() # Example total budget\n",
    "\n",
    "# Constraints function ensuring the sum of spends equals the total budget\n",
    "constraints = ({'type': 'eq', 'fun': lambda spend: total_budget - sum(spend)})\n",
    "\n",
    "# Bounds for each channel (e.g., min and max spend for each)\n",
    "bounds = [(0, total_budget) for _ in media_spend_list]  # Example bounds\n",
    "\n",
    "decay_rate=0.5\n",
    "threshold=0.05\n",
    "t = round(math.log(threshold) / math.log(decay_rate))"
   ]
  },
  {
   "cell_type": "code",
   "execution_count": 383,
   "metadata": {},
   "outputs": [
    {
     "ename": "ValueError",
     "evalue": "X data must not contain Inf nor NaN",
     "output_type": "error",
     "traceback": [
      "\u001b[1;31m---------------------------------------------------------------------------\u001b[0m",
      "\u001b[1;31mValueError\u001b[0m                                Traceback (most recent call last)",
      "\u001b[1;32m~\\AppData\\Local\\Temp\\ipykernel_11240\\4159730695.py\u001b[0m in \u001b[0;36m<module>\u001b[1;34m\u001b[0m\n\u001b[0;32m      5\u001b[0m \u001b[1;33m\u001b[0m\u001b[0m\n\u001b[0;32m      6\u001b[0m \u001b[1;31m# Run the optimization\u001b[0m\u001b[1;33m\u001b[0m\u001b[1;33m\u001b[0m\u001b[1;33m\u001b[0m\u001b[0m\n\u001b[1;32m----> 7\u001b[1;33m \u001b[0mresult\u001b[0m \u001b[1;33m=\u001b[0m \u001b[0mminimize\u001b[0m\u001b[1;33m(\u001b[0m\u001b[0mfun\u001b[0m\u001b[1;33m=\u001b[0m\u001b[0mobjective\u001b[0m\u001b[1;33m,\u001b[0m \u001b[0mx0\u001b[0m\u001b[1;33m=\u001b[0m\u001b[0minitial_guess\u001b[0m\u001b[1;33m,\u001b[0m \u001b[0mconstraints\u001b[0m\u001b[1;33m=\u001b[0m\u001b[0mconstraints\u001b[0m\u001b[1;33m,\u001b[0m \u001b[0mbounds\u001b[0m\u001b[1;33m=\u001b[0m\u001b[0mbounds\u001b[0m\u001b[1;33m,\u001b[0m \u001b[0mmethod\u001b[0m\u001b[1;33m=\u001b[0m\u001b[1;34m'SLSQP'\u001b[0m\u001b[1;33m)\u001b[0m\u001b[1;33m\u001b[0m\u001b[1;33m\u001b[0m\u001b[0m\n\u001b[0m\u001b[0;32m      8\u001b[0m \u001b[1;33m\u001b[0m\u001b[0m\n\u001b[0;32m      9\u001b[0m \u001b[1;31m# Check the optimal spends found\u001b[0m\u001b[1;33m\u001b[0m\u001b[1;33m\u001b[0m\u001b[1;33m\u001b[0m\u001b[0m\n",
      "\u001b[1;32m~\\AppData\\Roaming\\Python\\Python37\\site-packages\\scipy\\optimize\\_minimize.py\u001b[0m in \u001b[0;36mminimize\u001b[1;34m(fun, x0, args, method, jac, hess, hessp, bounds, constraints, tol, callback, options)\u001b[0m\n\u001b[0;32m    630\u001b[0m     \u001b[1;32melif\u001b[0m \u001b[0mmeth\u001b[0m \u001b[1;33m==\u001b[0m \u001b[1;34m'slsqp'\u001b[0m\u001b[1;33m:\u001b[0m\u001b[1;33m\u001b[0m\u001b[1;33m\u001b[0m\u001b[0m\n\u001b[0;32m    631\u001b[0m         return _minimize_slsqp(fun, x0, args, jac, bounds,\n\u001b[1;32m--> 632\u001b[1;33m                                constraints, callback=callback, **options)\n\u001b[0m\u001b[0;32m    633\u001b[0m     \u001b[1;32melif\u001b[0m \u001b[0mmeth\u001b[0m \u001b[1;33m==\u001b[0m \u001b[1;34m'trust-constr'\u001b[0m\u001b[1;33m:\u001b[0m\u001b[1;33m\u001b[0m\u001b[1;33m\u001b[0m\u001b[0m\n\u001b[0;32m    634\u001b[0m         return _minimize_trustregion_constr(fun, x0, args, jac, hess, hessp,\n",
      "\u001b[1;32m~\\AppData\\Roaming\\Python\\Python37\\site-packages\\scipy\\optimize\\slsqp.py\u001b[0m in \u001b[0;36m_minimize_slsqp\u001b[1;34m(func, x0, args, jac, bounds, constraints, maxiter, ftol, iprint, disp, eps, callback, finite_diff_rel_step, **unknown_options)\u001b[0m\n\u001b[0;32m    375\u001b[0m     sf = _prepare_scalar_function(func, x, jac=jac, args=args, epsilon=eps,\n\u001b[0;32m    376\u001b[0m                                   \u001b[0mfinite_diff_rel_step\u001b[0m\u001b[1;33m=\u001b[0m\u001b[0mfinite_diff_rel_step\u001b[0m\u001b[1;33m,\u001b[0m\u001b[1;33m\u001b[0m\u001b[1;33m\u001b[0m\u001b[0m\n\u001b[1;32m--> 377\u001b[1;33m                                   bounds=new_bounds)\n\u001b[0m\u001b[0;32m    378\u001b[0m     \u001b[1;31m# gh11403 SLSQP sometimes exceeds bounds by 1 or 2 ULP, make sure this\u001b[0m\u001b[1;33m\u001b[0m\u001b[1;33m\u001b[0m\u001b[1;33m\u001b[0m\u001b[0m\n\u001b[0;32m    379\u001b[0m     \u001b[1;31m# doesn't get sent to the func/grad evaluator.\u001b[0m\u001b[1;33m\u001b[0m\u001b[1;33m\u001b[0m\u001b[1;33m\u001b[0m\u001b[0m\n",
      "\u001b[1;32m~\\AppData\\Roaming\\Python\\Python37\\site-packages\\scipy\\optimize\\optimize.py\u001b[0m in \u001b[0;36m_prepare_scalar_function\u001b[1;34m(fun, x0, jac, args, bounds, epsilon, finite_diff_rel_step, hess)\u001b[0m\n\u001b[0;32m    260\u001b[0m     \u001b[1;31m# calculation reduces overall function evaluations.\u001b[0m\u001b[1;33m\u001b[0m\u001b[1;33m\u001b[0m\u001b[1;33m\u001b[0m\u001b[0m\n\u001b[0;32m    261\u001b[0m     sf = ScalarFunction(fun, x0, args, grad, hess,\n\u001b[1;32m--> 262\u001b[1;33m                         finite_diff_rel_step, bounds, epsilon=epsilon)\n\u001b[0m\u001b[0;32m    263\u001b[0m \u001b[1;33m\u001b[0m\u001b[0m\n\u001b[0;32m    264\u001b[0m     \u001b[1;32mreturn\u001b[0m \u001b[0msf\u001b[0m\u001b[1;33m\u001b[0m\u001b[1;33m\u001b[0m\u001b[0m\n",
      "\u001b[1;32m~\\AppData\\Roaming\\Python\\Python37\\site-packages\\scipy\\optimize\\_differentiable_functions.py\u001b[0m in \u001b[0;36m__init__\u001b[1;34m(self, fun, x0, args, grad, hess, finite_diff_rel_step, finite_diff_bounds, epsilon)\u001b[0m\n\u001b[0;32m    138\u001b[0m \u001b[1;33m\u001b[0m\u001b[0m\n\u001b[0;32m    139\u001b[0m         \u001b[0mself\u001b[0m\u001b[1;33m.\u001b[0m\u001b[0m_update_fun_impl\u001b[0m \u001b[1;33m=\u001b[0m \u001b[0mupdate_fun\u001b[0m\u001b[1;33m\u001b[0m\u001b[1;33m\u001b[0m\u001b[0m\n\u001b[1;32m--> 140\u001b[1;33m         \u001b[0mself\u001b[0m\u001b[1;33m.\u001b[0m\u001b[0m_update_fun\u001b[0m\u001b[1;33m(\u001b[0m\u001b[1;33m)\u001b[0m\u001b[1;33m\u001b[0m\u001b[1;33m\u001b[0m\u001b[0m\n\u001b[0m\u001b[0;32m    141\u001b[0m \u001b[1;33m\u001b[0m\u001b[0m\n\u001b[0;32m    142\u001b[0m         \u001b[1;31m# Gradient evaluation\u001b[0m\u001b[1;33m\u001b[0m\u001b[1;33m\u001b[0m\u001b[1;33m\u001b[0m\u001b[0m\n",
      "\u001b[1;32m~\\AppData\\Roaming\\Python\\Python37\\site-packages\\scipy\\optimize\\_differentiable_functions.py\u001b[0m in \u001b[0;36m_update_fun\u001b[1;34m(self)\u001b[0m\n\u001b[0;32m    231\u001b[0m     \u001b[1;32mdef\u001b[0m \u001b[0m_update_fun\u001b[0m\u001b[1;33m(\u001b[0m\u001b[0mself\u001b[0m\u001b[1;33m)\u001b[0m\u001b[1;33m:\u001b[0m\u001b[1;33m\u001b[0m\u001b[1;33m\u001b[0m\u001b[0m\n\u001b[0;32m    232\u001b[0m         \u001b[1;32mif\u001b[0m \u001b[1;32mnot\u001b[0m \u001b[0mself\u001b[0m\u001b[1;33m.\u001b[0m\u001b[0mf_updated\u001b[0m\u001b[1;33m:\u001b[0m\u001b[1;33m\u001b[0m\u001b[1;33m\u001b[0m\u001b[0m\n\u001b[1;32m--> 233\u001b[1;33m             \u001b[0mself\u001b[0m\u001b[1;33m.\u001b[0m\u001b[0m_update_fun_impl\u001b[0m\u001b[1;33m(\u001b[0m\u001b[1;33m)\u001b[0m\u001b[1;33m\u001b[0m\u001b[1;33m\u001b[0m\u001b[0m\n\u001b[0m\u001b[0;32m    234\u001b[0m             \u001b[0mself\u001b[0m\u001b[1;33m.\u001b[0m\u001b[0mf_updated\u001b[0m \u001b[1;33m=\u001b[0m \u001b[1;32mTrue\u001b[0m\u001b[1;33m\u001b[0m\u001b[1;33m\u001b[0m\u001b[0m\n\u001b[0;32m    235\u001b[0m \u001b[1;33m\u001b[0m\u001b[0m\n",
      "\u001b[1;32m~\\AppData\\Roaming\\Python\\Python37\\site-packages\\scipy\\optimize\\_differentiable_functions.py\u001b[0m in \u001b[0;36mupdate_fun\u001b[1;34m()\u001b[0m\n\u001b[0;32m    135\u001b[0m \u001b[1;33m\u001b[0m\u001b[0m\n\u001b[0;32m    136\u001b[0m         \u001b[1;32mdef\u001b[0m \u001b[0mupdate_fun\u001b[0m\u001b[1;33m(\u001b[0m\u001b[1;33m)\u001b[0m\u001b[1;33m:\u001b[0m\u001b[1;33m\u001b[0m\u001b[1;33m\u001b[0m\u001b[0m\n\u001b[1;32m--> 137\u001b[1;33m             \u001b[0mself\u001b[0m\u001b[1;33m.\u001b[0m\u001b[0mf\u001b[0m \u001b[1;33m=\u001b[0m \u001b[0mfun_wrapped\u001b[0m\u001b[1;33m(\u001b[0m\u001b[0mself\u001b[0m\u001b[1;33m.\u001b[0m\u001b[0mx\u001b[0m\u001b[1;33m)\u001b[0m\u001b[1;33m\u001b[0m\u001b[1;33m\u001b[0m\u001b[0m\n\u001b[0m\u001b[0;32m    138\u001b[0m \u001b[1;33m\u001b[0m\u001b[0m\n\u001b[0;32m    139\u001b[0m         \u001b[0mself\u001b[0m\u001b[1;33m.\u001b[0m\u001b[0m_update_fun_impl\u001b[0m \u001b[1;33m=\u001b[0m \u001b[0mupdate_fun\u001b[0m\u001b[1;33m\u001b[0m\u001b[1;33m\u001b[0m\u001b[0m\n",
      "\u001b[1;32m~\\AppData\\Roaming\\Python\\Python37\\site-packages\\scipy\\optimize\\_differentiable_functions.py\u001b[0m in \u001b[0;36mfun_wrapped\u001b[1;34m(x)\u001b[0m\n\u001b[0;32m    132\u001b[0m             \u001b[1;31m# Overwriting results in undefined behaviour because\u001b[0m\u001b[1;33m\u001b[0m\u001b[1;33m\u001b[0m\u001b[1;33m\u001b[0m\u001b[0m\n\u001b[0;32m    133\u001b[0m             \u001b[1;31m# fun(self.x) will change self.x, with the two no longer linked.\u001b[0m\u001b[1;33m\u001b[0m\u001b[1;33m\u001b[0m\u001b[1;33m\u001b[0m\u001b[0m\n\u001b[1;32m--> 134\u001b[1;33m             \u001b[1;32mreturn\u001b[0m \u001b[0mfun\u001b[0m\u001b[1;33m(\u001b[0m\u001b[0mnp\u001b[0m\u001b[1;33m.\u001b[0m\u001b[0mcopy\u001b[0m\u001b[1;33m(\u001b[0m\u001b[0mx\u001b[0m\u001b[1;33m)\u001b[0m\u001b[1;33m,\u001b[0m \u001b[1;33m*\u001b[0m\u001b[0margs\u001b[0m\u001b[1;33m)\u001b[0m\u001b[1;33m\u001b[0m\u001b[1;33m\u001b[0m\u001b[0m\n\u001b[0m\u001b[0;32m    135\u001b[0m \u001b[1;33m\u001b[0m\u001b[0m\n\u001b[0;32m    136\u001b[0m         \u001b[1;32mdef\u001b[0m \u001b[0mupdate_fun\u001b[0m\u001b[1;33m(\u001b[0m\u001b[1;33m)\u001b[0m\u001b[1;33m:\u001b[0m\u001b[1;33m\u001b[0m\u001b[1;33m\u001b[0m\u001b[0m\n",
      "\u001b[1;32m~\\AppData\\Local\\Temp\\ipykernel_11240\\1727379646.py\u001b[0m in \u001b[0;36mobjective\u001b[1;34m(spend, model, base_data, decay_rate, threshold)\u001b[0m\n\u001b[0;32m     25\u001b[0m \u001b[1;33m\u001b[0m\u001b[0m\n\u001b[0;32m     26\u001b[0m     \u001b[1;31m# Predict revenue with the updated media spends\u001b[0m\u001b[1;33m\u001b[0m\u001b[1;33m\u001b[0m\u001b[1;33m\u001b[0m\u001b[0m\n\u001b[1;32m---> 27\u001b[1;33m     \u001b[0mpredicted_revenue\u001b[0m \u001b[1;33m=\u001b[0m \u001b[0mmodel\u001b[0m\u001b[1;33m.\u001b[0m\u001b[0mpredict\u001b[0m\u001b[1;33m(\u001b[0m\u001b[0mX_pred\u001b[0m\u001b[1;33m)\u001b[0m\u001b[1;33m\u001b[0m\u001b[1;33m\u001b[0m\u001b[0m\n\u001b[0m\u001b[0;32m     28\u001b[0m \u001b[1;33m\u001b[0m\u001b[0m\n\u001b[0;32m     29\u001b[0m     \u001b[1;31m# Return negative revenue because we are minimizing\u001b[0m\u001b[1;33m\u001b[0m\u001b[1;33m\u001b[0m\u001b[1;33m\u001b[0m\u001b[0m\n",
      "\u001b[1;32md:\\anaconda\\envs\\jupyterbook\\lib\\site-packages\\pygam\\pygam.py\u001b[0m in \u001b[0;36mpredict\u001b[1;34m(self, X)\u001b[0m\n\u001b[0;32m    432\u001b[0m             \u001b[0mcontaining\u001b[0m \u001b[0mpredicted\u001b[0m \u001b[0mvalues\u001b[0m \u001b[0munder\u001b[0m \u001b[0mthe\u001b[0m \u001b[0mmodel\u001b[0m\u001b[1;33m\u001b[0m\u001b[1;33m\u001b[0m\u001b[0m\n\u001b[0;32m    433\u001b[0m         \"\"\"\n\u001b[1;32m--> 434\u001b[1;33m         \u001b[1;32mreturn\u001b[0m \u001b[0mself\u001b[0m\u001b[1;33m.\u001b[0m\u001b[0mpredict_mu\u001b[0m\u001b[1;33m(\u001b[0m\u001b[0mX\u001b[0m\u001b[1;33m)\u001b[0m\u001b[1;33m\u001b[0m\u001b[1;33m\u001b[0m\u001b[0m\n\u001b[0m\u001b[0;32m    435\u001b[0m \u001b[1;33m\u001b[0m\u001b[0m\n\u001b[0;32m    436\u001b[0m     \u001b[1;32mdef\u001b[0m \u001b[0m_modelmat\u001b[0m\u001b[1;33m(\u001b[0m\u001b[0mself\u001b[0m\u001b[1;33m,\u001b[0m \u001b[0mX\u001b[0m\u001b[1;33m,\u001b[0m \u001b[0mterm\u001b[0m\u001b[1;33m=\u001b[0m\u001b[1;33m-\u001b[0m\u001b[1;36m1\u001b[0m\u001b[1;33m)\u001b[0m\u001b[1;33m:\u001b[0m\u001b[1;33m\u001b[0m\u001b[1;33m\u001b[0m\u001b[0m\n",
      "\u001b[1;32md:\\anaconda\\envs\\jupyterbook\\lib\\site-packages\\pygam\\pygam.py\u001b[0m in \u001b[0;36mpredict_mu\u001b[1;34m(self, X)\u001b[0m\n\u001b[0;32m    412\u001b[0m         X = check_X(X, n_feats=self.statistics_['m_features'],\n\u001b[0;32m    413\u001b[0m                     \u001b[0medge_knots\u001b[0m\u001b[1;33m=\u001b[0m\u001b[0mself\u001b[0m\u001b[1;33m.\u001b[0m\u001b[0medge_knots_\u001b[0m\u001b[1;33m,\u001b[0m \u001b[0mdtypes\u001b[0m\u001b[1;33m=\u001b[0m\u001b[0mself\u001b[0m\u001b[1;33m.\u001b[0m\u001b[0mdtype\u001b[0m\u001b[1;33m,\u001b[0m\u001b[1;33m\u001b[0m\u001b[1;33m\u001b[0m\u001b[0m\n\u001b[1;32m--> 414\u001b[1;33m                     features=self.feature, verbose=self.verbose)\n\u001b[0m\u001b[0;32m    415\u001b[0m \u001b[1;33m\u001b[0m\u001b[0m\n\u001b[0;32m    416\u001b[0m         \u001b[0mlp\u001b[0m \u001b[1;33m=\u001b[0m \u001b[0mself\u001b[0m\u001b[1;33m.\u001b[0m\u001b[0m_linear_predictor\u001b[0m\u001b[1;33m(\u001b[0m\u001b[0mX\u001b[0m\u001b[1;33m)\u001b[0m\u001b[1;33m\u001b[0m\u001b[1;33m\u001b[0m\u001b[0m\n",
      "\u001b[1;32md:\\anaconda\\envs\\jupyterbook\\lib\\site-packages\\pygam\\utils.py\u001b[0m in \u001b[0;36mcheck_X\u001b[1;34m(X, n_feats, min_samples, edge_knots, dtypes, features, verbose)\u001b[0m\n\u001b[0;32m    271\u001b[0m     \u001b[1;31m# basic diagnostics\u001b[0m\u001b[1;33m\u001b[0m\u001b[1;33m\u001b[0m\u001b[1;33m\u001b[0m\u001b[0m\n\u001b[0;32m    272\u001b[0m     X = check_array(X, force_2d=True, n_feats=n_feats, min_samples=min_samples,\n\u001b[1;32m--> 273\u001b[1;33m                     name='X data', verbose=verbose)\n\u001b[0m\u001b[0;32m    274\u001b[0m \u001b[1;33m\u001b[0m\u001b[0m\n\u001b[0;32m    275\u001b[0m     \u001b[1;31m# check our categorical data has no new categories\u001b[0m\u001b[1;33m\u001b[0m\u001b[1;33m\u001b[0m\u001b[1;33m\u001b[0m\u001b[0m\n",
      "\u001b[1;32md:\\anaconda\\envs\\jupyterbook\\lib\\site-packages\\pygam\\utils.py\u001b[0m in \u001b[0;36mcheck_array\u001b[1;34m(array, force_2d, n_feats, ndim, min_samples, name, verbose)\u001b[0m\n\u001b[0;32m    169\u001b[0m     \u001b[1;31m# check finite\u001b[0m\u001b[1;33m\u001b[0m\u001b[1;33m\u001b[0m\u001b[1;33m\u001b[0m\u001b[0m\n\u001b[0;32m    170\u001b[0m     \u001b[1;32mif\u001b[0m \u001b[1;32mnot\u001b[0m\u001b[1;33m(\u001b[0m\u001b[0mnp\u001b[0m\u001b[1;33m.\u001b[0m\u001b[0misfinite\u001b[0m\u001b[1;33m(\u001b[0m\u001b[0marray\u001b[0m\u001b[1;33m)\u001b[0m\u001b[1;33m.\u001b[0m\u001b[0mall\u001b[0m\u001b[1;33m(\u001b[0m\u001b[1;33m)\u001b[0m\u001b[1;33m)\u001b[0m\u001b[1;33m:\u001b[0m\u001b[1;33m\u001b[0m\u001b[1;33m\u001b[0m\u001b[0m\n\u001b[1;32m--> 171\u001b[1;33m         \u001b[1;32mraise\u001b[0m \u001b[0mValueError\u001b[0m\u001b[1;33m(\u001b[0m\u001b[1;34m'{} must not contain Inf nor NaN'\u001b[0m\u001b[1;33m.\u001b[0m\u001b[0mformat\u001b[0m\u001b[1;33m(\u001b[0m\u001b[0mname\u001b[0m\u001b[1;33m)\u001b[0m\u001b[1;33m)\u001b[0m\u001b[1;33m\u001b[0m\u001b[1;33m\u001b[0m\u001b[0m\n\u001b[0m\u001b[0;32m    172\u001b[0m \u001b[1;33m\u001b[0m\u001b[0m\n\u001b[0;32m    173\u001b[0m     \u001b[1;31m# check ndim\u001b[0m\u001b[1;33m\u001b[0m\u001b[1;33m\u001b[0m\u001b[1;33m\u001b[0m\u001b[0m\n",
      "\u001b[1;31mValueError\u001b[0m: X data must not contain Inf nor NaN"
     ]
    }
   ],
   "source": [
    "from scipy.optimize import minimize\n",
    "\n",
    "# Initial guess (e.g., evenly distribute the total budget across channels)\n",
    "initial_guess = [total_budget / len(media_spend_list) for _ in media_spend_list]\n",
    "\n",
    "# Run the optimization\n",
    "result = minimize(fun=objective, x0=initial_guess, constraints=constraints, bounds=bounds, method='SLSQP')\n",
    "\n",
    "# Check the optimal spends found\n",
    "if result.success:\n",
    "    optimal_spends = result.x\n",
    "    print(\"Optimal spends by media channel:\", optimal_spends)\n",
    "    # Calculate the predicted revenue with the optimal spends\n",
    "    optimal_revenue = -result.fun\n",
    "    # Print the predicted revenue with the optimal spends\n",
    "    print(f\"Predicted revenue with optimal media spend:, {optimal_revenue:,}\")\n",
    "    # print the original media spend\n",
    "    print(\"Original media spend: spend.sum().values[0]\")\n",
    "    # print the predicted revenue with the original media spend\n",
    "    print(f\"Predicted revenue with original media spend: {objective(spend.sum().values):,}\")\n",
    "    # print the actual revenue with the original media spend\n",
    "    print(f\"Actual revenue with original media spend: {data['revenue'].sum():,}\")\n",
    "    # print the difference between the original and optimal revenue\n",
    "    print(\"Revenue difference:\", optimal_revenue - objective(spend.sum().values))\n",
    "else:\n",
    "    print(\"Optimization was not successful. Reason:\", result.message)\n"
   ]
  },
  {
   "cell_type": "code",
   "execution_count": null,
   "metadata": {},
   "outputs": [],
   "source": []
  }
 ],
 "metadata": {
  "kernelspec": {
   "display_name": "Python 3",
   "language": "python",
   "name": "python3"
  },
  "language_info": {
   "codemirror_mode": {
    "name": "ipython",
    "version": 3
   },
   "file_extension": ".py",
   "mimetype": "text/x-python",
   "name": "python",
   "nbconvert_exporter": "python",
   "pygments_lexer": "ipython3",
   "version": "3.7.16"
  },
  "widgets": {
   "application/vnd.jupyter.widget-state+json": {
    "state": {},
    "version_major": 2,
    "version_minor": 0
   }
  }
 },
 "nbformat": 4,
 "nbformat_minor": 4
}
